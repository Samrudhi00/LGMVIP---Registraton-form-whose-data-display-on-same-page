{
  "nbformat": 4,
  "nbformat_minor": 0,
  "metadata": {
    "colab": {
      "provenance": [],
      "include_colab_link": true
    },
    "kernelspec": {
      "name": "python3",
      "display_name": "Python 3"
    },
    "language_info": {
      "name": "python"
    }
  },
  "cells": [
    {
      "cell_type": "markdown",
      "metadata": {
        "id": "view-in-github",
        "colab_type": "text"
      },
      "source": [
        "<a href=\"https://colab.research.google.com/github/Samrudhi00/LGMVIP---Registraton-form-whose-data-display-on-same-page/blob/main/Copy_of_YOLO.ipynb\" target=\"_parent\"><img src=\"https://colab.research.google.com/assets/colab-badge.svg\" alt=\"Open In Colab\"/></a>"
      ]
    },
    {
      "cell_type": "code",
      "execution_count": 1,
      "metadata": {
        "id": "7uKwo7eorXqo",
        "colab": {
          "base_uri": "https://localhost:8080/"
        },
        "outputId": "fd805767-db2b-4f71-d86c-084d3e968160"
      },
      "outputs": [
        {
          "output_type": "stream",
          "name": "stdout",
          "text": [
            "\u001b[?25l     \u001b[90m━━━━━━━━━━━━━━━━━━━━━━━━━━━━━━━━━━━━━━━━\u001b[0m \u001b[32m0.0/629.1 kB\u001b[0m \u001b[31m?\u001b[0m eta \u001b[36m-:--:--\u001b[0m\r\u001b[2K     \u001b[91m━━━━━━━━━━━━━━━━━\u001b[0m\u001b[90m╺\u001b[0m\u001b[90m━━━━━━━━━━━━━━━━━━━━━\u001b[0m \u001b[32m276.5/629.1 kB\u001b[0m \u001b[31m8.1 MB/s\u001b[0m eta \u001b[36m0:00:01\u001b[0m\r\u001b[2K     \u001b[90m━━━━━━━━━━━━━━━━━━━━━━━━━━━━━━━━━━━━━━━\u001b[0m \u001b[32m629.1/629.1 kB\u001b[0m \u001b[31m9.9 MB/s\u001b[0m eta \u001b[36m0:00:00\u001b[0m\n",
            "\u001b[?25h"
          ]
        }
      ],
      "source": [
        "!pip install ultralytics -q"
      ]
    },
    {
      "cell_type": "code",
      "source": [
        "from ultralytics import YOLO\n",
        "import cv2\n",
        "import numpy as np\n",
        "from google.colab.patches import cv2_imshow"
      ],
      "metadata": {
        "id": "5eOTinyPrlZG"
      },
      "execution_count": 2,
      "outputs": []
    },
    {
      "cell_type": "code",
      "source": [
        "model=YOLO(\"yolov8m-seg.pt\")"
      ],
      "metadata": {
        "id": "diLyVtktx7Bi"
      },
      "execution_count": 9,
      "outputs": []
    },
    {
      "cell_type": "code",
      "source": [
        "from google.colab import drive\n",
        "drive.mount('/content/drive')"
      ],
      "metadata": {
        "colab": {
          "base_uri": "https://localhost:8080/"
        },
        "id": "MDnt4hmo6eem",
        "outputId": "4820c4a8-d40d-481c-c98a-7c1b8f3a8416"
      },
      "execution_count": 10,
      "outputs": [
        {
          "output_type": "stream",
          "name": "stdout",
          "text": [
            "Drive already mounted at /content/drive; to attempt to forcibly remount, call drive.mount(\"/content/drive\", force_remount=True).\n"
          ]
        }
      ]
    },
    {
      "cell_type": "code",
      "source": [
        "predict2=model.predict(\"/content/12830823_87d2654e31.jpg\",save=True,save_txt=True)"
      ],
      "metadata": {
        "colab": {
          "base_uri": "https://localhost:8080/"
        },
        "id": "xcPvAQ5xylK-",
        "outputId": "ad5b4f5d-63ef-4f5e-b466-cf9cb764076b"
      },
      "execution_count": 12,
      "outputs": [
        {
          "output_type": "stream",
          "name": "stderr",
          "text": [
            "\n",
            "image 1/1 /content/12830823_87d2654e31.jpg: 480x640 13 persons, 1 boat, 1 handbag, 1 potted plant, 1695.4ms\n",
            "Speed: 16.9ms preprocess, 1695.4ms inference, 79.8ms postprocess per image at shape (1, 3, 480, 640)\n",
            "Results saved to \u001b[1mruns/segment/predict\u001b[0m\n",
            "1 label saved to runs/segment/predict/labels\n"
          ]
        }
      ]
    },
    {
      "cell_type": "code",
      "source": [
        "type(predict2)"
      ],
      "metadata": {
        "colab": {
          "base_uri": "https://localhost:8080/"
        },
        "id": "3GPVArZZyyZl",
        "outputId": "62684e0b-22a5-4f0b-b52e-eff464dd9c24"
      },
      "execution_count": 13,
      "outputs": [
        {
          "output_type": "execute_result",
          "data": {
            "text/plain": [
              "list"
            ]
          },
          "metadata": {},
          "execution_count": 13
        }
      ]
    },
    {
      "cell_type": "code",
      "source": [
        "predict2[0].masks.masks.shape"
      ],
      "metadata": {
        "colab": {
          "base_uri": "https://localhost:8080/"
        },
        "id": "1AvHAvZry_ij",
        "outputId": "21390fd7-0808-4191-8b66-ad7bc5050573"
      },
      "execution_count": 14,
      "outputs": [
        {
          "output_type": "stream",
          "name": "stderr",
          "text": [
            "WARNING ⚠️ 'Masks.masks' is deprecated. Use 'Masks.data' instead.\n"
          ]
        },
        {
          "output_type": "execute_result",
          "data": {
            "text/plain": [
              "torch.Size([16, 480, 640])"
            ]
          },
          "metadata": {},
          "execution_count": 14
        }
      ]
    },
    {
      "cell_type": "code",
      "source": [
        "predict2[0].masks.masks[0].shape"
      ],
      "metadata": {
        "colab": {
          "base_uri": "https://localhost:8080/"
        },
        "id": "r-6Qbiu8zFYL",
        "outputId": "a5da45fa-f256-4c44-89ad-f27da9c90ea3"
      },
      "execution_count": 15,
      "outputs": [
        {
          "output_type": "stream",
          "name": "stderr",
          "text": [
            "WARNING ⚠️ 'Masks.masks' is deprecated. Use 'Masks.data' instead.\n"
          ]
        },
        {
          "output_type": "execute_result",
          "data": {
            "text/plain": [
              "torch.Size([480, 640])"
            ]
          },
          "metadata": {},
          "execution_count": 15
        }
      ]
    },
    {
      "cell_type": "code",
      "source": [
        "cv2_imshow((predict2[0].masks.masks[0].numpy()*255).astype(\"uint8\"))"
      ],
      "metadata": {
        "colab": {
          "base_uri": "https://localhost:8080/",
          "height": 514
        },
        "id": "MXVVZWIJzw94",
        "outputId": "3d098aef-8803-463f-899c-161d3c4393fc"
      },
      "execution_count": 16,
      "outputs": [
        {
          "output_type": "stream",
          "name": "stderr",
          "text": [
            "WARNING ⚠️ 'Masks.masks' is deprecated. Use 'Masks.data' instead.\n"
          ]
        },
        {
          "output_type": "display_data",
          "data": {
            "text/plain": [
              "<PIL.Image.Image image mode=L size=640x480 at 0x7E50DA440EB0>"
            ],
            "image/png": "[encoded data removed]"
          },
          "metadata": {}
        }
      ]
    },
    {
      "cell_type": "code",
      "source": [
        "cv2_imshow((predict2[0].masks.masks[1].numpy()*255).astype(\"uint8\"))"
      ],
      "metadata": {
        "colab": {
          "base_uri": "https://localhost:8080/",
          "height": 514
        },
        "id": "7XlAfRDO0oJ2",
        "outputId": "beb5002a-a537-4511-e194-785ad1be30bf"
      },
      "execution_count": 17,
      "outputs": [
        {
          "output_type": "stream",
          "name": "stderr",
          "text": [
            "WARNING ⚠️ 'Masks.masks' is deprecated. Use 'Masks.data' instead.\n"
          ]
        },
        {
          "output_type": "display_data",
          "data": {
            "text/plain": [
              "<PIL.Image.Image image mode=L size=640x480 at 0x7E51B288BF10>"
            ],
            "image/png": "[encoded data removed]"
          },
          "metadata": {}
        }
      ]
    },
    {
      "cell_type": "code",
      "source": [
        "cv2_imshow((predict2[0].masks.masks[2].numpy()*255).astype(\"uint8\"))"
      ],
      "metadata": {
        "colab": {
          "base_uri": "https://localhost:8080/",
          "height": 514
        },
        "id": "bkIMkFC204Cm",
        "outputId": "ac431293-f77f-4c9e-ffef-769f8545d996"
      },
      "execution_count": 19,
      "outputs": [
        {
          "output_type": "stream",
          "name": "stderr",
          "text": [
            "WARNING ⚠️ 'Masks.masks' is deprecated. Use 'Masks.data' instead.\n"
          ]
        },
        {
          "output_type": "display_data",
          "data": {
            "text/plain": [
              "<PIL.Image.Image image mode=L size=640x480 at 0x7E50DA440340>"
            ],
            "image/png": "[encoded data removed]"
          },
          "metadata": {}
        }
      ]
    },
    {
      "cell_type": "code",
      "source": [
        "cv2_imshow((predict2[0].masks.masks[3].numpy()*255).astype(\"uint8\"))"
      ],
      "metadata": {
        "colab": {
          "base_uri": "https://localhost:8080/",
          "height": 514
        },
        "id": "muByJc7ON3PJ",
        "outputId": "c42326a5-56eb-4fff-9a24-9b00d82f9218"
      },
      "execution_count": 20,
      "outputs": [
        {
          "output_type": "stream",
          "name": "stderr",
          "text": [
            "WARNING ⚠️ 'Masks.masks' is deprecated. Use 'Masks.data' instead.\n"
          ]
        },
        {
          "output_type": "display_data",
          "data": {
            "text/plain": [
              "<PIL.Image.Image image mode=L size=640x480 at 0x7E50DA440A30>"
            ],
            "image/png": "[encoded data removed]"
          },
          "metadata": {}
        }
      ]
    },
    {
      "cell_type": "code",
      "source": [
        "cv2_imshow((predict2[0].masks.masks[4].numpy()*255).astype(\"uint8\"))"
      ],
      "metadata": {
        "colab": {
          "base_uri": "https://localhost:8080/",
          "height": 514
        },
        "id": "_es1zCIpN807",
        "outputId": "0dec5a80-f34b-454c-f5ee-67dd382c00b9"
      },
      "execution_count": 21,
      "outputs": [
        {
          "output_type": "stream",
          "name": "stderr",
          "text": [
            "WARNING ⚠️ 'Masks.masks' is deprecated. Use 'Masks.data' instead.\n"
          ]
        },
        {
          "output_type": "display_data",
          "data": {
            "text/plain": [
              "<PIL.Image.Image image mode=L size=640x480 at 0x7E50DA440160>"
            ],
            "image/png": "[encoded data removed]"
          },
          "metadata": {}
        }
      ]
    },
    {
      "cell_type": "code",
      "source": [
        "cv2_imshow((predict2[0].masks.masks[5].numpy()*255).astype(\"uint8\"))"
      ],
      "metadata": {
        "colab": {
          "base_uri": "https://localhost:8080/",
          "height": 514
        },
        "id": "z2rlpsFwOAhr",
        "outputId": "feede773-af71-4a17-9bcf-6977f7150880"
      },
      "execution_count": 22,
      "outputs": [
        {
          "output_type": "stream",
          "name": "stderr",
          "text": [
            "WARNING ⚠️ 'Masks.masks' is deprecated. Use 'Masks.data' instead.\n"
          ]
        },
        {
          "output_type": "display_data",
          "data": {
            "text/plain": [
              "<PIL.Image.Image image mode=L size=640x480 at 0x7E50DA443DF0>"
            ],
            "image/png": "[encoded data removed]"
          },
          "metadata": {}
        }
      ]
    },
    {
      "cell_type": "code",
      "source": [
        "cv2_imshow((predict2[0].masks.masks[6].numpy()*255).astype(\"uint8\"))"
      ],
      "metadata": {
        "colab": {
          "base_uri": "https://localhost:8080/",
          "height": 514
        },
        "id": "roTTLfTKOET7",
        "outputId": "04a84361-aa4b-403c-a8ad-c5431ba9692f"
      },
      "execution_count": 23,
      "outputs": [
        {
          "output_type": "stream",
          "name": "stderr",
          "text": [
            "WARNING ⚠️ 'Masks.masks' is deprecated. Use 'Masks.data' instead.\n"
          ]
        },
        {
          "output_type": "display_data",
          "data": {
            "text/plain": [
              "<PIL.Image.Image image mode=L size=640x480 at 0x7E50DA3D8E20>"
            ],
            "image/png": "[encoded data removed]"
          },
          "metadata": {}
        }
      ]
    },
    {
      "cell_type": "code",
      "source": [
        "cv2_imshow((predict2[0].masks.masks[7].numpy()*255).astype(\"uint8\"))"
      ],
      "metadata": {
        "id": "pZB38I5LOH2B"
      },
      "execution_count": null,
      "outputs": []
    },
    {
      "cell_type": "code",
      "source": [
        "cv2_imshow((predict2[0].masks.masks[8].numpy()*255).astype(\"uint8\"))"
      ],
      "metadata": {
        "colab": {
          "base_uri": "https://localhost:8080/",
          "height": 514
        },
        "id": "Tv0Ik9zIOLpj",
        "outputId": "08d2b81e-1bdb-459d-af97-d2418d473cf1"
      },
      "execution_count": 24,
      "outputs": [
        {
          "output_type": "stream",
          "name": "stderr",
          "text": [
            "WARNING ⚠️ 'Masks.masks' is deprecated. Use 'Masks.data' instead.\n"
          ]
        },
        {
          "output_type": "display_data",
          "data": {
            "text/plain": [
              "<PIL.Image.Image image mode=L size=640x480 at 0x7E50DA3D9960>"
            ],
            "image/png": "[encoded data removed]"
          },
          "metadata": {}
        }
      ]
    },
    {
      "cell_type": "code",
      "source": [
        "cv2_imshow((predict2[0].masks.masks[9].numpy()*255).astype(\"uint8\"))"
      ],
      "metadata": {
        "colab": {
          "base_uri": "https://localhost:8080/",
          "height": 514
        },
        "id": "Fco-2Uq5OOtM",
        "outputId": "772af558-bdc1-45f7-ba10-501f087b41be"
      },
      "execution_count": 25,
      "outputs": [
        {
          "output_type": "stream",
          "name": "stderr",
          "text": [
            "WARNING ⚠️ 'Masks.masks' is deprecated. Use 'Masks.data' instead.\n"
          ]
        },
        {
          "output_type": "display_data",
          "data": {
            "text/plain": [
              "<PIL.Image.Image image mode=L size=640x480 at 0x7E50DA3D9750>"
            ],
            "image/png": "[encoded data removed]"
          },
          "metadata": {}
        }
      ]
    },
    {
      "cell_type": "code",
      "source": [
        "cv2_imshow((predict2[0].masks.masks[10].numpy()*255).astype(\"uint8\"))"
      ],
      "metadata": {
        "colab": {
          "base_uri": "https://localhost:8080/",
          "height": 514
        },
        "id": "UfmM1LJKOSHP",
        "outputId": "2e308a45-58fc-4463-bbd8-2b724b621efe"
      },
      "execution_count": 26,
      "outputs": [
        {
          "output_type": "stream",
          "name": "stderr",
          "text": [
            "WARNING ⚠️ 'Masks.masks' is deprecated. Use 'Masks.data' instead.\n"
          ]
        },
        {
          "output_type": "display_data",
          "data": {
            "text/plain": [
              "<PIL.Image.Image image mode=L size=640x480 at 0x7E50DA3D82B0>"
            ],
            "image/png": "[encoded data removed]"
          },
          "metadata": {}
        }
      ]
    },
    {
      "cell_type": "code",
      "source": [
        "cv2_imshow((predict2[0].masks.masks[11].numpy()*255).astype(\"uint8\"))"
      ],
      "metadata": {
        "colab": {
          "base_uri": "https://localhost:8080/",
          "height": 514
        },
        "id": "FNiYgo5sOWKs",
        "outputId": "cfea3d6a-44e0-4715-f896-3c2accc1cbb8"
      },
      "execution_count": 27,
      "outputs": [
        {
          "output_type": "stream",
          "name": "stderr",
          "text": [
            "WARNING ⚠️ 'Masks.masks' is deprecated. Use 'Masks.data' instead.\n"
          ]
        },
        {
          "output_type": "display_data",
          "data": {
            "text/plain": [
              "<PIL.Image.Image image mode=L size=640x480 at 0x7E50DA3D9750>"
            ],
            "image/png": "[encoded data removed]"
          },
          "metadata": {}
        }
      ]
    },
    {
      "cell_type": "code",
      "source": [
        "cv2_imshow((predict2[0].masks.masks[12].numpy()*255).astype(\"uint8\"))"
      ],
      "metadata": {
        "colab": {
          "base_uri": "https://localhost:8080/",
          "height": 514
        },
        "id": "bJCvJxROOafC",
        "outputId": "43acc9e7-7162-4038-8c7b-f6193adb22ba"
      },
      "execution_count": 29,
      "outputs": [
        {
          "output_type": "stream",
          "name": "stderr",
          "text": [
            "WARNING ⚠️ 'Masks.masks' is deprecated. Use 'Masks.data' instead.\n"
          ]
        },
        {
          "output_type": "display_data",
          "data": {
            "text/plain": [
              "<PIL.Image.Image image mode=L size=640x480 at 0x7E50DA3D92D0>"
            ],
            "image/png": "[encoded data removed]"
          },
          "metadata": {}
        }
      ]
    },
    {
      "cell_type": "code",
      "source": [
        "cv2_imshow((predict2[0].masks.masks[13].numpy()*255).astype(\"uint8\"))"
      ],
      "metadata": {
        "colab": {
          "base_uri": "https://localhost:8080/",
          "height": 514
        },
        "id": "YCpYAuLUOf-v",
        "outputId": "5bcc5771-8284-483c-872c-200a7ef56179"
      },
      "execution_count": 30,
      "outputs": [
        {
          "output_type": "stream",
          "name": "stderr",
          "text": [
            "WARNING ⚠️ 'Masks.masks' is deprecated. Use 'Masks.data' instead.\n"
          ]
        },
        {
          "output_type": "display_data",
          "data": {
            "text/plain": [
              "<PIL.Image.Image image mode=L size=640x480 at 0x7E50DA3D8400>"
            ],
            "image/png": "[encoded data removed]"
          },
          "metadata": {}
        }
      ]
    },
    {
      "cell_type": "code",
      "source": [
        "cv2_imshow((predict2[0].masks.masks[14].numpy()*255).astype(\"uint8\"))"
      ],
      "metadata": {
        "colab": {
          "base_uri": "https://localhost:8080/",
          "height": 514
        },
        "id": "Kv6SLQEnOlKP",
        "outputId": "004c9b5c-3ddf-4c41-df5f-181223cfb384"
      },
      "execution_count": 31,
      "outputs": [
        {
          "output_type": "stream",
          "name": "stderr",
          "text": [
            "WARNING ⚠️ 'Masks.masks' is deprecated. Use 'Masks.data' instead.\n"
          ]
        },
        {
          "output_type": "display_data",
          "data": {
            "text/plain": [
              "<PIL.Image.Image image mode=L size=640x480 at 0x7E50DA3D8AC0>"
            ],
            "image/png": "[encoded data removed]"
          },
          "metadata": {}
        }
      ]
    },
    {
      "cell_type": "code",
      "source": [
        "cv2_imshow((predict2[0].masks.masks[15].numpy()*255).astype(\"uint8\"))"
      ],
      "metadata": {
        "id": "6kT0MjqbOpnp"
      },
      "execution_count": null,
      "outputs": []
    },
    {
      "cell_type": "code",
      "source": [
        "type(predict2[0].masks.segments)"
      ],
      "metadata": {
        "colab": {
          "base_uri": "https://localhost:8080/"
        },
        "id": "8TwMgK1v08k2",
        "outputId": "1492fe5c-b186-4df0-a378-18c558b81818"
      },
      "execution_count": 33,
      "outputs": [
        {
          "output_type": "stream",
          "name": "stderr",
          "text": [
            "WARNING ⚠️ 'Masks.segments' is deprecated. Use 'Masks.xyn' for segments (normalized) and 'Masks.xy' for segments (pixels) instead.\n"
          ]
        },
        {
          "output_type": "execute_result",
          "data": {
            "text/plain": [
              "list"
            ]
          },
          "metadata": {},
          "execution_count": 33
        }
      ]
    },
    {
      "cell_type": "code",
      "source": [
        "len(predict2[0].masks.segments)"
      ],
      "metadata": {
        "id": "xsbuu6sc1Tsm",
        "colab": {
          "base_uri": "https://localhost:8080/"
        },
        "outputId": "7baa20c9-b5f0-491a-96a3-8e63962d8651"
      },
      "execution_count": 34,
      "outputs": [
        {
          "output_type": "execute_result",
          "data": {
            "text/plain": [
              "16"
            ]
          },
          "metadata": {},
          "execution_count": 34
        }
      ]
    },
    {
      "cell_type": "code",
      "source": [
        "predict2[0].masks.segments[0].shape"
      ],
      "metadata": {
        "colab": {
          "base_uri": "https://localhost:8080/"
        },
        "id": "LJ5p1Kha1ZWG",
        "outputId": "bf2289dd-a7eb-45bc-9b85-5eac2b15c62d"
      },
      "execution_count": 35,
      "outputs": [
        {
          "output_type": "execute_result",
          "data": {
            "text/plain": [
              "(157, 2)"
            ]
          },
          "metadata": {},
          "execution_count": 35
        }
      ]
    },
    {
      "cell_type": "code",
      "source": [
        "H,W,_=cv2.imread(\"/content/12830823_87d2654e31.jpg\").shape"
      ],
      "metadata": {
        "id": "CHjvdy6V19Xc"
      },
      "execution_count": 36,
      "outputs": []
    },
    {
      "cell_type": "code",
      "source": [
        "X=(predict2[0].masks.segments[0][:,0]*W).astype(\"int\")\n",
        "Y=(predict2[0].masks.segments[0][:,1]*H).astype(\"int\")"
      ],
      "metadata": {
        "id": "6EDMIKof2fND"
      },
      "execution_count": 37,
      "outputs": []
    },
    {
      "cell_type": "code",
      "source": [
        "blk=np.zeros((H,W))\n",
        "blk[Y,X]=255\n",
        "cv2_imshow(blk.astype(\"uint8\"))"
      ],
      "metadata": {
        "colab": {
          "base_uri": "https://localhost:8080/",
          "height": 392
        },
        "id": "3u2ZkkOG3M7s",
        "outputId": "e41a4f83-1624-49d9-b933-f8329c64fdee"
      },
      "execution_count": 38,
      "outputs": [
        {
          "output_type": "display_data",
          "data": {
            "text/plain": [
              "<PIL.Image.Image image mode=L size=500x375 at 0x7E50DA3DA080>"
            ],
            "image/png": "[encoded data removed]"
          },
          "metadata": {}
        }
      ]
    },
    {
      "cell_type": "code",
      "source": [
        "label=open(\"/content/runs/segment/predict/labels/12830823_87d2654e31.txt\",\"r\").readlines()"
      ],
      "metadata": {
        "id": "s_T77oS83Bwq"
      },
      "execution_count": 39,
      "outputs": []
    },
    {
      "cell_type": "code",
      "source": [
        "label"
      ],
      "metadata": {
        "colab": {
          "base_uri": "https://localhost:8080/"
        },
        "id": "UeWC1Ho64X3w",
        "outputId": "03339d31-5a6e-45a2-c7da-583f5d126e51"
      },
      "execution_count": 40,
      "outputs": [
        {
          "output_type": "execute_result",
          "data": {
            "text/plain": [
              "['0 0.15625 0.141667 0.154687 0.14375 0.151562 0.14375 0.15 0.145833 0.15 0.147917 0.145313 0.154167 0.145313 0.15625 0.14375 0.158333 0.14375 0.1625 0.142188 0.164583 0.142188 0.166667 0.140625 0.16875 0.140625 0.172917 0.139062 0.175 0.139062 0.179167 0.1375 0.18125 0.1375 0.195833 0.135937 0.197917 0.135937 0.214583 0.1375 0.216667 0.1375 0.241667 0.135937 0.24375 0.135937 0.245833 0.134375 0.247917 0.134375 0.25 0.132812 0.252083 0.132812 0.25625 0.13125 0.258333 0.13125 0.2625 0.129688 0.264583 0.129688 0.270833 0.128125 0.272917 0.128125 0.277083 0.126563 0.279167 0.126563 0.29375 0.125 0.295833 0.125 0.422917 0.126563 0.425 0.126563 0.44375 0.13125 0.45 0.132812 0.45 0.134375 0.452083 0.135937 0.452083 0.1375 0.454167 0.139062 0.454167 0.140625 0.45625 0.14375 0.45625 0.151562 0.466667 0.151562 0.46875 0.154687 0.472917 0.154687 0.475 0.15625 0.477083 0.15625 0.48125 0.1625 0.489583 0.164062 0.489583 0.165625 0.491667 0.18125 0.491667 0.182812 0.489583 0.184375 0.489583 0.195312 0.475 0.198437 0.475 0.2 0.472917 0.203125 0.472917 0.204688 0.470833 0.20625 0.470833 0.214062 0.460417 0.239063 0.460417 0.240625 0.458333 0.251563 0.458333 0.253125 0.45625 0.259375 0.45625 0.260938 0.454167 0.264062 0.454167 0.265625 0.452083 0.267188 0.452083 0.26875 0.45 0.270312 0.45 0.271875 0.447917 0.273438 0.447917 0.279687 0.439583 0.28125 0.439583 0.282813 0.4375 0.282813 0.435417 0.284375 0.433333 0.284375 0.416667 0.282813 0.414583 0.282813 0.4125 0.28125 0.410417 0.28125 0.408333 0.276563 0.402083 0.273438 0.402083 0.271875 0.4 0.2625 0.4 0.260938 0.397917 0.254687 0.397917 0.253125 0.395833 0.25 0.395833 0.248437 0.397917 0.234375 0.397917 0.232812 0.395833 0.23125 0.395833 0.229687 0.39375 0.228125 0.39375 0.226562 0.391667 0.225 0.391667 0.223438 0.389583 0.221875 0.389583 0.220313 0.3875 0.21875 0.3875 0.217187 0.385417 0.217187 0.383333 0.2125 0.377083 0.2125 0.372917 0.210938 0.370833 0.210938 0.352083 0.2125 0.35 0.2125 0.347917 0.214062 0.345833 0.214062 0.34375 0.215625 0.341667 0.215625 0.3375 0.217187 0.335417 0.215625 0.333333 0.215625 0.320833 0.214062 0.31875 0.214062 0.316667 0.2125 0.314583 0.2125 0.308333 0.210938 0.30625 0.210938 0.297917 0.209375 0.295833 0.209375 0.291667 0.207813 0.289583 0.207813 0.2875 0.20625 0.285417 0.20625 0.279167 0.204688 0.277083 0.204688 0.272917 0.203125 0.270833 0.203125 0.264583 0.201562 0.2625 0.201562 0.241667 0.203125 0.239583 0.203125 0.233333 0.204688 0.23125 0.204688 0.220833 0.20625 0.21875 0.20625 0.170833 0.204688 0.16875 0.204688 0.164583 0.203125 0.1625 0.203125 0.160417 0.192188 0.145833 0.190625 0.145833 0.189063 0.14375 0.185937 0.14375 0.184375 0.141667\\n',\n",
              " '0 0.889063 0.175 0.882812 0.183333 0.882812 0.185417 0.88125 0.1875 0.88125 0.216667 0.879687 0.21875 0.879687 0.222917 0.865625 0.241667 0.864062 0.241667 0.859375 0.247917 0.857813 0.247917 0.85625 0.25 0.854688 0.25 0.853125 0.252083 0.851562 0.252083 0.846875 0.258333 0.845312 0.258333 0.839063 0.266667 0.8375 0.266667 0.807813 0.30625 0.807813 0.308333 0.80625 0.310417 0.80625 0.3125 0.803125 0.316667 0.803125 0.31875 0.801562 0.320833 0.801562 0.327083 0.8 0.329167 0.8 0.333333 0.792188 0.34375 0.792188 0.345833 0.7875 0.352083 0.7875 0.354167 0.784375 0.358333 0.784375 0.360417 0.782812 0.3625 0.782812 0.364583 0.78125 0.366667 0.78125 0.36875 0.778125 0.372917 0.778125 0.375 0.776563 0.377083 0.776563 0.379167 0.775 0.38125 0.775 0.395833 0.776563 0.397917 0.83125 0.397917 0.832812 0.4 0.8375 0.4 0.839063 0.397917 0.842188 0.397917 0.84375 0.395833 0.845312 0.395833 0.853125 0.385417 0.873438 0.385417 0.875 0.383333 0.876562 0.383333 0.878125 0.38125 0.879687 0.38125 0.88125 0.379167 0.882812 0.379167 0.884375 0.377083 0.885938 0.377083 0.8875 0.375 0.892187 0.375 0.89375 0.372917 0.9 0.372917 0.901563 0.370833 0.903125 0.370833 0.903125 0.36875 0.904688 0.366667 0.904688 0.35625 0.903125 0.354167 0.903125 0.31875 0.904688 0.316667 0.904688 0.3125 0.909375 0.30625 0.915625 0.30625 0.920313 0.3125 0.920313 0.314583 0.921875 0.316667 0.921875 0.31875 0.923437 0.320833 0.923437 0.33125 0.925 0.333333 0.925 0.360417 0.926562 0.3625 0.926562 0.366667 0.928125 0.36875 0.929688 0.36875 0.93125 0.370833 0.935938 0.370833 0.9375 0.372917 0.95625 0.372917 0.957812 0.370833 0.959375 0.370833 0.959375 0.364583 0.957812 0.3625 0.957812 0.360417 0.954687 0.360417 0.953125 0.358333 0.948438 0.358333 0.946875 0.35625 0.945312 0.35625 0.939062 0.347917 0.939062 0.345833 0.9375 0.34375 0.9375 0.316667 0.935938 0.314583 0.935938 0.304167 0.934375 0.302083 0.934375 0.29375 0.932813 0.291667 0.932813 0.289583 0.93125 0.2875 0.93125 0.283333 0.929688 0.28125 0.929688 0.254167 0.928125 0.252083 0.928125 0.24375 0.926562 0.241667 0.926562 0.239583 0.925 0.2375 0.925 0.235417 0.923437 0.233333 0.923437 0.229167 0.921875 0.227083 0.921875 0.220833 0.923437 0.21875 0.923437 0.197917 0.925 0.195833 0.923437 0.19375 0.923437 0.18125 0.921875 0.179167 0.921875 0.177083 0.91875 0.177083 0.917188 0.175\\n',\n",
              " '0 0.545313 0.116667 0.54375 0.11875 0.540625 0.11875 0.529688 0.133333 0.529688 0.135417 0.526563 0.139583 0.526563 0.141667 0.525 0.14375 0.525 0.147917 0.523438 0.15 0.523438 0.154167 0.520312 0.158333 0.5 0.158333 0.498437 0.160417 0.49375 0.160417 0.492188 0.1625 0.490625 0.1625 0.489062 0.164583 0.485938 0.164583 0.484375 0.166667 0.48125 0.166667 0.479688 0.16875 0.476562 0.16875 0.473437 0.172917 0.470313 0.172917 0.46875 0.175 0.465625 0.175 0.464063 0.177083 0.4625 0.177083 0.459375 0.18125 0.457812 0.18125 0.45625 0.183333 0.451562 0.183333 0.45 0.185417 0.448438 0.185417 0.445312 0.189583 0.44375 0.189583 0.435937 0.2 0.435937 0.202083 0.432813 0.20625 0.432813 0.208333 0.43125 0.210417 0.43125 0.2125 0.429688 0.214583 0.429688 0.216667 0.425 0.222917 0.425 0.225 0.421875 0.229167 0.421875 0.23125 0.420312 0.233333 0.420312 0.235417 0.41875 0.2375 0.41875 0.239583 0.417188 0.241667 0.417188 0.24375 0.415625 0.245833 0.414062 0.245833 0.4125 0.247917 0.410937 0.247917 0.40625 0.254167 0.40625 0.258333 0.404687 0.260417 0.404687 0.264583 0.403125 0.266667 0.403125 0.26875 0.396875 0.277083 0.396875 0.28125 0.395312 0.283333 0.395312 0.297917 0.396875 0.3 0.396875 0.304167 0.4 0.308333 0.4 0.310417 0.401563 0.3125 0.409375 0.3125 0.4125 0.316667 0.4125 0.31875 0.414062 0.320833 0.414062 0.325 0.415625 0.327083 0.415625 0.333333 0.417188 0.335417 0.417188 0.345833 0.41875 0.347917 0.41875 0.360417 0.420312 0.3625 0.420312 0.366667 0.421875 0.36875 0.421875 0.370833 0.423438 0.372917 0.423438 0.377083 0.425 0.379167 0.425 0.385417 0.426562 0.3875 0.426562 0.391667 0.428125 0.39375 0.428125 0.397917 0.429688 0.4 0.429688 0.404167 0.43125 0.40625 0.43125 0.4125 0.432813 0.414583 0.432813 0.41875 0.435937 0.422917 0.4375 0.422917 0.439063 0.425 0.476562 0.425 0.478125 0.422917 0.507812 0.422917 0.509375 0.420833 0.510938 0.420833 0.5125 0.41875 0.514063 0.41875 0.514063 0.416667 0.515625 0.414583 0.515625 0.404167 0.514063 0.402083 0.514063 0.4 0.5125 0.397917 0.5125 0.39375 0.510938 0.391667 0.510938 0.385417 0.509375 0.383333 0.509375 0.38125 0.507812 0.379167 0.507812 0.377083 0.50625 0.375 0.50625 0.370833 0.504687 0.36875 0.504687 0.364583 0.503125 0.3625 0.503125 0.360417 0.5 0.35625 0.5 0.354167 0.498437 0.352083 0.498437 0.347917 0.496875 0.345833 0.496875 0.34375 0.495313 0.341667 0.495313 0.339583 0.49375 0.3375 0.49375 0.335417 0.492188 0.333333 0.492188 0.33125 0.490625 0.329167 0.490625 0.327083 0.4875 0.322917 0.4875 0.320833 0.485938 0.31875 0.485938 0.3125 0.484375 0.310417 0.484375 0.308333 0.482812 0.30625 0.482812 0.29375 0.490625 0.283333 0.492188 0.283333 0.495313 0.279167 0.496875 0.279167 0.501562 0.272917 0.503125 0.272917 0.515625 0.25625 0.517187 0.25625 0.520312 0.252083 0.521875 0.252083 0.528125 0.260417 0.528125 0.26875 0.529688 0.270833 0.529688 0.272917 0.53125 0.275 0.53125 0.277083 0.532812 0.279167 0.532812 0.28125 0.535937 0.285417 0.535937 0.2875 0.545313 0.3 0.545313 0.302083 0.548437 0.30625 0.548437 0.308333 0.551562 0.3125 0.551562 0.314583 0.554688 0.31875 0.554688 0.320833 0.55625 0.322917 0.557813 0.322917 0.5625 0.329167 0.5625 0.33125 0.576563 0.35 0.578125 0.35 0.584375 0.358333 0.589063 0.358333 0.592188 0.354167 0.592188 0.341667 0.590625 0.339583 0.590625 0.335417 0.589063 0.335417 0.58125 0.325 0.58125 0.322917 0.579687 0.320833 0.579687 0.31875 0.575 0.3125 0.575 0.310417 0.573438 0.308333 0.573438 0.30625 0.570312 0.302083 0.570312 0.3 0.567187 0.295833 0.567187 0.29375 0.565625 0.291667 0.565625 0.289583 0.5625 0.285417 0.5625 0.28125 0.560938 0.279167 0.560938 0.275 0.559375 0.272917 0.559375 0.26875 0.55625 0.264583 0.55625 0.260417 0.554688 0.258333 0.554688 0.247917 0.553125 0.245833 0.553125 0.239583 0.551562 0.2375 0.551562 0.233333 0.55 0.23125 0.55 0.222917 0.548437 0.220833 0.548437 0.21875 0.55 0.216667 0.55 0.2125 0.553125 0.208333 0.55625 0.208333 0.557813 0.20625 0.560938 0.20625 0.567187 0.197917 0.567187 0.195833 0.573438 0.1875 0.573438 0.183333 0.575 0.18125 0.575 0.179167 0.576563 0.177083 0.576563 0.175 0.578125 0.172917 0.578125 0.16875 0.579687 0.166667 0.579687 0.15625 0.58125 0.154167 0.58125 0.147917 0.579687 0.145833 0.579687 0.139583 0.578125 0.1375 0.578125 0.135417 0.565625 0.11875 0.5625 0.11875 0.560938 0.116667\\n',\n",
              " '0 0.6375 0.05 0.635938 0.0520833 0.634375 0.0520833 0.63125 0.05625 0.63125 0.0583333 0.629687 0.0604167 0.629687 0.0625 0.626562 0.0666667 0.626562 0.06875 0.625 0.0708333 0.625 0.0854167 0.626562 0.0875 0.626562 0.0958333 0.628125 0.0979167 0.628125 0.114583 0.626562 0.116667 0.626562 0.122917 0.625 0.125 0.625 0.154167 0.623438 0.15625 0.623438 0.2 0.621875 0.202083 0.621875 0.208333 0.620313 0.210417 0.620313 0.21875 0.61875 0.220833 0.61875 0.241667 0.620313 0.24375 0.620313 0.245833 0.621875 0.247917 0.634375 0.247917 0.635938 0.25 0.640625 0.25 0.64375 0.254167 0.645312 0.254167 0.648438 0.258333 0.648438 0.260417 0.65 0.2625 0.65 0.264583 0.651563 0.266667 0.651563 0.270833 0.653125 0.272917 0.653125 0.297917 0.651563 0.3 0.651563 0.3125 0.659375 0.322917 0.660937 0.322917 0.664062 0.327083 0.664062 0.329167 0.665625 0.33125 0.66875 0.33125 0.670313 0.333333 0.673437 0.329167 0.673437 0.327083 0.675 0.325 0.675 0.322917 0.678125 0.31875 0.678125 0.316667 0.679688 0.314583 0.679688 0.310417 0.68125 0.308333 0.68125 0.304167 0.682813 0.302083 0.682813 0.3 0.685938 0.295833 0.685938 0.29375 0.689062 0.289583 0.689062 0.2875 0.690625 0.285417 0.690625 0.283333 0.695312 0.277083 0.695312 0.275 0.696875 0.272917 0.696875 0.241667 0.698438 0.239583 0.698438 0.225 0.7 0.222917 0.7 0.202083 0.701563 0.2 0.701563 0.185417 0.7 0.183333 0.7 0.175 0.698438 0.172917 0.698438 0.158333 0.696875 0.15625 0.696875 0.15 0.695312 0.147917 0.695312 0.145833 0.69375 0.14375 0.69375 0.141667 0.692187 0.139583 0.692187 0.135417 0.6875 0.129167 0.6875 0.127083 0.675 0.110417 0.675 0.108333 0.671875 0.104167 0.671875 0.0979167 0.670313 0.0958333 0.670313 0.0833333 0.66875 0.08125 0.66875 0.075 0.667188 0.0729167 0.667188 0.0645833 0.665625 0.0625 0.665625 0.0604167 0.660937 0.0541667 0.660937 0.0520833 0.659375 0.0520833 0.657812 0.05\\n',\n",
              " '0 0.35625 0.233333 0.354688 0.235417 0.351562 0.235417 0.351562 0.239583 0.35 0.241667 0.35 0.264583 0.351562 0.266667 0.351562 0.275 0.353125 0.277083 0.353125 0.279167 0.351562 0.28125 0.351562 0.2875 0.339063 0.304167 0.339063 0.30625 0.3375 0.308333 0.3375 0.310417 0.335938 0.3125 0.335938 0.314583 0.332812 0.31875 0.332812 0.325 0.33125 0.327083 0.33125 0.4125 0.332812 0.414583 0.332812 0.420833 0.334375 0.422917 0.334375 0.425 0.335938 0.422917 0.3375 0.422917 0.3375 0.420833 0.339063 0.41875 0.342187 0.422917 0.342187 0.427083 0.34375 0.429167 0.346875 0.429167 0.348437 0.43125 0.396875 0.43125 0.398438 0.429167 0.4 0.429167 0.403125 0.425 0.403125 0.410417 0.40625 0.40625 0.409375 0.40625 0.410937 0.404167 0.410937 0.397917 0.4125 0.395833 0.4125 0.39375 0.410937 0.391667 0.410937 0.383333 0.409375 0.38125 0.409375 0.379167 0.407813 0.377083 0.407813 0.375 0.40625 0.372917 0.40625 0.36875 0.404687 0.366667 0.404687 0.352083 0.403125 0.35 0.403125 0.34375 0.401563 0.341667 0.401563 0.339583 0.4 0.3375 0.4 0.33125 0.398438 0.329167 0.398438 0.316667 0.396875 0.314583 0.396875 0.310417 0.39375 0.30625 0.39375 0.304167 0.392188 0.302083 0.392188 0.3 0.3875 0.29375 0.3875 0.2875 0.389062 0.285417 0.389062 0.283333 0.390625 0.28125 0.390625 0.277083 0.392188 0.275 0.392188 0.24375 0.384375 0.233333\\n',\n",
              " '0 0.951563 0.108333 0.95 0.110417 0.95 0.139583 0.948438 0.141667 0.948438 0.14375 0.946875 0.145833 0.946875 0.147917 0.945312 0.15 0.945312 0.15625 0.94375 0.158333 0.94375 0.175 0.942187 0.177083 0.942187 0.183333 0.940625 0.185417 0.940625 0.189583 0.939062 0.191667 0.939062 0.2 0.9375 0.202083 0.9375 0.229167 0.939062 0.23125 0.939062 0.233333 0.940625 0.235417 0.940625 0.239583 0.939062 0.241667 0.939062 0.25 0.9375 0.252083 0.9375 0.277083 0.939062 0.279167 0.939062 0.28125 0.94375 0.2875 0.94375 0.289583 0.948438 0.295833 0.948438 0.297917 0.95 0.3 0.95 0.31875 0.948438 0.320833 0.948438 0.325 0.946875 0.327083 0.946875 0.333333 0.948438 0.335417 0.948438 0.339583 0.951563 0.34375 0.954687 0.34375 0.95625 0.341667 0.959375 0.341667 0.9625 0.3375 0.964063 0.3375 0.964063 0.335417 0.965625 0.333333 0.965625 0.329167 0.967188 0.327083 0.967188 0.322917 0.96875 0.320833 0.96875 0.3125 0.970312 0.310417 0.970312 0.308333 0.971875 0.30625 0.971875 0.3 0.973437 0.297917 0.973437 0.279167 0.975 0.277083 0.975 0.26875 0.976562 0.266667 0.976562 0.264583 0.978125 0.2625 0.978125 0.254167 0.979688 0.252083 0.979688 0.241667 0.98125 0.239583 0.98125 0.2375 0.982813 0.235417 0.982813 0.233333 0.984375 0.23125 0.984375 0.229167 0.985937 0.227083 0.985937 0.214583 0.9875 0.2125 0.9875 0.20625 0.989062 0.204167 0.989062 0.197917 0.990625 0.195833 0.990625 0.158333 0.989062 0.15625 0.989062 0.154167 0.985937 0.15 0.985937 0.145833 0.973437 0.129167 0.973437 0.110417 0.971875 0.108333\\n',\n",
              " '0 0.707812 0.216667 0.704687 0.220833 0.704687 0.222917 0.701563 0.227083 0.701563 0.229167 0.7 0.23125 0.7 0.241667 0.698438 0.24375 0.698438 0.264583 0.7 0.266667 0.7 0.272917 0.698438 0.275 0.698438 0.279167 0.696875 0.28125 0.696875 0.283333 0.695312 0.285417 0.695312 0.2875 0.69375 0.289583 0.69375 0.3625 0.695312 0.364583 0.695312 0.375 0.696875 0.377083 0.696875 0.389583 0.698438 0.391667 0.698438 0.39375 0.7 0.395833 0.7 0.397917 0.703125 0.402083 0.704687 0.402083 0.70625 0.404167 0.732813 0.404167 0.735937 0.4 0.7375 0.4 0.742188 0.39375 0.742188 0.389583 0.74375 0.3875 0.74375 0.379167 0.745313 0.377083 0.74375 0.375 0.74375 0.3625 0.742188 0.360417 0.742188 0.354167 0.740625 0.352083 0.740625 0.3375 0.742188 0.335417 0.742188 0.304167 0.740625 0.302083 0.740625 0.291667 0.7375 0.2875 0.7375 0.28125 0.735937 0.279167 0.735937 0.247917 0.7375 0.245833 0.7375 0.241667 0.735937 0.239583 0.735937 0.229167 0.734375 0.227083 0.734375 0.225 0.73125 0.220833 0.73125 0.21875 0.729688 0.21875 0.728125 0.216667\\n',\n",
              " '0 0.2875 0.0333333 0.285937 0.0354167 0.282813 0.0354167 0.28125 0.0375 0.28125 0.0395833 0.279687 0.0416667 0.279687 0.04375 0.278125 0.0458333 0.278125 0.0479167 0.276563 0.05 0.276563 0.0520833 0.275 0.0541667 0.275 0.0875 0.273438 0.0895833 0.273438 0.0916667 0.26875 0.0979167 0.26875 0.1 0.267188 0.102083 0.267188 0.114583 0.265625 0.116667 0.265625 0.135417 0.264062 0.1375 0.264062 0.1625 0.265625 0.164583 0.265625 0.197917 0.267188 0.2 0.267188 0.21875 0.26875 0.220833 0.26875 0.2375 0.270312 0.239583 0.270312 0.247917 0.271875 0.25 0.271875 0.25625 0.273438 0.258333 0.273438 0.266667 0.275 0.26875 0.275 0.277083 0.276563 0.279167 0.276563 0.283333 0.278125 0.285417 0.278125 0.2875 0.279687 0.289583 0.279687 0.291667 0.28125 0.29375 0.28125 0.30625 0.282813 0.308333 0.282813 0.31875 0.284375 0.320833 0.284375 0.325 0.285937 0.327083 0.285937 0.345833 0.284375 0.347917 0.284375 0.352083 0.28125 0.35625 0.28125 0.358333 0.275 0.366667 0.275 0.36875 0.26875 0.377083 0.26875 0.379167 0.264062 0.385417 0.264062 0.391667 0.2625 0.39375 0.2625 0.395833 0.264062 0.397917 0.264062 0.4 0.265625 0.402083 0.26875 0.402083 0.270312 0.404167 0.273438 0.404167 0.28125 0.414583 0.28125 0.416667 0.282813 0.41875 0.282813 0.425 0.284375 0.427083 0.284375 0.429167 0.289062 0.429167 0.290625 0.43125 0.292188 0.43125 0.29375 0.433333 0.296875 0.433333 0.298438 0.435417 0.3 0.435417 0.301562 0.4375 0.303125 0.4375 0.304688 0.435417 0.307813 0.435417 0.309375 0.433333 0.309375 0.43125 0.310937 0.429167 0.310937 0.41875 0.3125 0.416667 0.3125 0.410417 0.314063 0.408333 0.314063 0.402083 0.315625 0.4 0.315625 0.391667 0.317187 0.389583 0.317187 0.372917 0.31875 0.370833 0.31875 0.347917 0.320312 0.345833 0.320312 0.341667 0.321875 0.339583 0.321875 0.333333 0.323438 0.33125 0.323438 0.314583 0.325 0.3125 0.325 0.302083 0.326562 0.3 0.326562 0.266667 0.325 0.264583 0.325 0.260417 0.321875 0.25625 0.321875 0.254167 0.317187 0.247917 0.317187 0.24375 0.315625 0.241667 0.315625 0.239583 0.314063 0.2375 0.314063 0.229167 0.3125 0.227083 0.3125 0.214583 0.310937 0.2125 0.310937 0.191667 0.3125 0.189583 0.3125 0.175 0.314063 0.172917 0.314063 0.166667 0.315625 0.164583 0.315625 0.158333 0.317187 0.15625 0.317187 0.15 0.31875 0.147917 0.31875 0.135417 0.317187 0.133333 0.317187 0.129167 0.315625 0.127083 0.315625 0.125 0.3125 0.120833 0.3125 0.11875 0.310937 0.116667 0.310937 0.1125 0.309375 0.110417 0.310937 0.108333 0.310937 0.102083 0.315625 0.0958333 0.315625 0.09375 0.317187 0.0916667 0.317187 0.0854167 0.31875 0.0833333 0.31875 0.075 0.320312 0.0729167 0.320312 0.0520833 0.31875 0.05 0.31875 0.0458333 0.317187 0.04375 0.317187 0.0395833 0.314063 0.0354167 0.3125 0.0354167 0.310937 0.0333333\\n',\n",
              " '0 0.751562 0.0916667 0.75 0.09375 0.75 0.135417 0.748438 0.1375 0.748438 0.139583 0.74375 0.145833 0.74375 0.154167 0.742188 0.15625 0.742188 0.158333 0.740625 0.160417 0.740625 0.1625 0.739062 0.164583 0.739062 0.166667 0.7375 0.16875 0.7375 0.177083 0.735937 0.179167 0.735937 0.18125 0.732813 0.185417 0.732813 0.1875 0.73125 0.189583 0.73125 0.191667 0.729688 0.19375 0.729688 0.195833 0.725 0.202083 0.725 0.210417 0.726562 0.2125 0.726562 0.214583 0.7375 0.214583 0.739062 0.216667 0.739062 0.21875 0.740625 0.220833 0.740625 0.222917 0.742188 0.225 0.742188 0.227083 0.74375 0.229167 0.74375 0.233333 0.745313 0.235417 0.745313 0.24375 0.746875 0.245833 0.746875 0.247917 0.748438 0.25 0.748438 0.285417 0.746875 0.2875 0.746875 0.297917 0.745313 0.3 0.745313 0.329167 0.74375 0.33125 0.74375 0.341667 0.742188 0.34375 0.742188 0.354167 0.74375 0.35625 0.74375 0.360417 0.745313 0.3625 0.746875 0.3625 0.748438 0.360417 0.748438 0.35625 0.75 0.354167 0.75 0.352083 0.753125 0.347917 0.753125 0.345833 0.754687 0.34375 0.754687 0.3375 0.75625 0.335417 0.75625 0.333333 0.759375 0.329167 0.759375 0.327083 0.760938 0.325 0.760938 0.314583 0.7625 0.3125 0.7625 0.30625 0.764063 0.304167 0.765625 0.304167 0.767187 0.30625 0.770312 0.30625 0.773438 0.310417 0.773438 0.3125 0.775 0.314583 0.775 0.316667 0.776563 0.31875 0.776563 0.320833 0.78125 0.327083 0.78125 0.329167 0.785937 0.335417 0.785937 0.3375 0.789062 0.341667 0.790625 0.341667 0.792188 0.339583 0.79375 0.339583 0.795313 0.3375 0.796875 0.3375 0.796875 0.333333 0.798437 0.33125 0.798437 0.325 0.796875 0.322917 0.796875 0.31875 0.795313 0.316667 0.795313 0.314583 0.79375 0.3125 0.79375 0.310417 0.792188 0.308333 0.792188 0.302083 0.7875 0.295833 0.7875 0.29375 0.785937 0.291667 0.785937 0.2875 0.784375 0.285417 0.784375 0.28125 0.782812 0.279167 0.782812 0.264583 0.784375 0.2625 0.784375 0.254167 0.785937 0.252083 0.785937 0.2375 0.7875 0.235417 0.7875 0.202083 0.789062 0.2 0.789062 0.195833 0.790625 0.19375 0.790625 0.1875 0.792188 0.185417 0.792188 0.158333 0.79375 0.15625 0.79375 0.154167 0.792188 0.152083 0.792188 0.141667 0.790625 0.139583 0.790625 0.1375 0.785937 0.13125 0.784375 0.13125 0.782812 0.129167 0.782812 0.127083 0.78125 0.125 0.78125 0.122917 0.779688 0.120833 0.779688 0.09375 0.778125 0.09375 0.776563 0.0916667\\n',\n",
              " '0 0.621875 0.25 0.620313 0.252083 0.61875 0.252083 0.615625 0.25625 0.615625 0.258333 0.614062 0.260417 0.614062 0.266667 0.6125 0.26875 0.6125 0.279167 0.614062 0.28125 0.614062 0.304167 0.6125 0.30625 0.6125 0.308333 0.60625 0.316667 0.604688 0.316667 0.595312 0.329167 0.595312 0.333333 0.59375 0.335417 0.59375 0.341667 0.595312 0.34375 0.595312 0.347917 0.596875 0.35 0.596875 0.352083 0.598437 0.354167 0.598437 0.358333 0.595312 0.3625 0.59375 0.3625 0.592188 0.364583 0.589063 0.364583 0.5875 0.366667 0.584375 0.366667 0.582812 0.36875 0.582812 0.372917 0.58125 0.375 0.58125 0.404167 0.582812 0.40625 0.582812 0.410417 0.584375 0.4125 0.5875 0.4125 0.589063 0.414583 0.6 0.414583 0.601562 0.4125 0.617188 0.4125 0.61875 0.414583 0.635938 0.414583 0.6375 0.416667 0.639063 0.416667 0.642187 0.420833 0.64375 0.420833 0.645312 0.422917 0.654688 0.422917 0.65625 0.425 0.659375 0.425 0.660937 0.427083 0.664062 0.427083 0.665625 0.429167 0.68125 0.429167 0.682813 0.427083 0.685938 0.427083 0.6875 0.425 0.689062 0.425 0.690625 0.422917 0.703125 0.422917 0.704687 0.420833 0.704687 0.41875 0.703125 0.416667 0.703125 0.414583 0.701563 0.4125 0.701563 0.410417 0.7 0.408333 0.7 0.40625 0.698438 0.404167 0.698438 0.402083 0.696875 0.4 0.696875 0.397917 0.69375 0.39375 0.69375 0.377083 0.692187 0.375 0.692187 0.3625 0.690625 0.360417 0.690625 0.354167 0.682813 0.34375 0.679688 0.34375 0.678125 0.341667 0.670313 0.341667 0.667188 0.3375 0.667188 0.335417 0.65 0.3125 0.65 0.297917 0.651563 0.295833 0.651563 0.2875 0.653125 0.285417 0.653125 0.279167 0.651563 0.277083 0.651563 0.26875 0.65 0.266667 0.65 0.2625 0.648438 0.260417 0.648438 0.25625 0.646875 0.254167 0.646875 0.252083 0.642187 0.252083 0.640625 0.25\\n',\n",
              " '0 0.1 0.00833333 0.0984375 0.0104167 0.0953125 0.0104167 0.0921875 0.0145833 0.0921875 0.0166667 0.090625 0.01875 0.090625 0.0208333 0.0875 0.025 0.0875 0.0270833 0.0859375 0.0291667 0.0859375 0.03125 0.084375 0.0333333 0.084375 0.0354167 0.0828125 0.0375 0.0828125 0.0416667 0.08125 0.04375 0.08125 0.0541667 0.0796875 0.05625 0.0796875 0.0625 0.078125 0.0645833 0.078125 0.06875 0.0765625 0.0708333 0.0765625 0.08125 0.075 0.0833333 0.075 0.0979167 0.0734375 0.1 0.0734375 0.104167 0.071875 0.10625 0.071875 0.110417 0.0703125 0.1125 0.0703125 0.116667 0.06875 0.11875 0.06875 0.133333 0.0671875 0.135417 0.0671875 0.1375 0.06875 0.139583 0.06875 0.160417 0.0671875 0.1625 0.0671875 0.175 0.065625 0.177083 0.065625 0.189583 0.0640625 0.191667 0.0640625 0.2625 0.065625 0.264583 0.065625 0.26875 0.065625 0.266667 0.0671875 0.264583 0.0671875 0.2625 0.06875 0.260417 0.06875 0.258333 0.0703125 0.25625 0.0703125 0.254167 0.071875 0.252083 0.071875 0.25 0.0734375 0.247917 0.0734375 0.245833 0.075 0.24375 0.075 0.241667 0.0765625 0.239583 0.078125 0.239583 0.0796875 0.2375 0.08125 0.2375 0.0828125 0.235417 0.090625 0.235417 0.0921875 0.2375 0.09375 0.2375 0.0953125 0.239583 0.1 0.239583 0.101562 0.241667 0.103125 0.241667 0.104687 0.24375 0.104687 0.245833 0.10625 0.247917 0.10625 0.25625 0.104687 0.258333 0.104687 0.2625 0.103125 0.264583 0.103125 0.266667 0.0921875 0.28125 0.0921875 0.283333 0.090625 0.285417 0.090625 0.2875 0.0859375 0.29375 0.0859375 0.295833 0.084375 0.297917 0.0828125 0.297917 0.0796875 0.302083 0.078125 0.302083 0.0765625 0.304167 0.075 0.302083 0.0734375 0.302083 0.0703125 0.297917 0.06875 0.297917 0.065625 0.29375 0.065625 0.291667 0.065625 0.3125 0.0640625 0.314583 0.0640625 0.322917 0.0625 0.325 0.0625 0.435417 0.065625 0.439583 0.0671875 0.439583 0.06875 0.4375 0.08125 0.4375 0.0828125 0.435417 0.084375 0.4375 0.0921875 0.4375 0.09375 0.439583 0.107813 0.439583 0.109375 0.4375 0.117188 0.4375 0.120312 0.433333 0.120312 0.31875 0.121875 0.316667 0.121875 0.304167 0.123438 0.302083 0.123438 0.289583 0.125 0.2875 0.125 0.279167 0.126563 0.277083 0.126563 0.272917 0.128125 0.270833 0.128125 0.264583 0.129688 0.2625 0.129688 0.254167 0.13125 0.252083 0.13125 0.25 0.132812 0.247917 0.132812 0.245833 0.134375 0.24375 0.134375 0.189583 0.135937 0.1875 0.135937 0.179167 0.1375 0.177083 0.1375 0.172917 0.139062 0.170833 0.139062 0.166667 0.140625 0.164583 0.140625 0.160417 0.142188 0.158333 0.142188 0.13125 0.140625 0.129167 0.140625 0.125 0.139062 0.122917 0.139062 0.120833 0.1375 0.11875 0.1375 0.114583 0.135937 0.1125 0.135937 0.110417 0.134375 0.108333 0.134375 0.10625 0.132812 0.104167 0.132812 0.0979167 0.134375 0.0958333 0.134375 0.09375 0.135937 0.0916667 0.1375 0.0916667 0.14375 0.0833333 0.14375 0.08125 0.145313 0.0791667 0.145313 0.075 0.146875 0.0729167 0.146875 0.04375 0.145313 0.0416667 0.145313 0.0333333 0.14375 0.03125 0.14375 0.0229167 0.142188 0.0208333 0.142188 0.01875 0.135937 0.0104167 0.132812 0.0104167 0.13125 0.00833333\\n',\n",
              " '0 0.821875 0.1 0.81875 0.104167 0.81875 0.133333 0.820312 0.135417 0.820312 0.141667 0.81875 0.14375 0.81875 0.147917 0.814062 0.154167 0.814062 0.158333 0.8125 0.160417 0.8125 0.166667 0.810938 0.16875 0.810938 0.170833 0.809375 0.172917 0.809375 0.175 0.807813 0.177083 0.807813 0.179167 0.80625 0.18125 0.80625 0.185417 0.804688 0.1875 0.804688 0.191667 0.803125 0.19375 0.803125 0.195833 0.801562 0.197917 0.801562 0.2 0.8 0.202083 0.8 0.20625 0.798437 0.208333 0.798437 0.210417 0.795313 0.214583 0.795313 0.216667 0.79375 0.21875 0.79375 0.220833 0.790625 0.225 0.790625 0.227083 0.789062 0.229167 0.789062 0.24375 0.792188 0.24375 0.795313 0.239583 0.796875 0.239583 0.801562 0.233333 0.803125 0.233333 0.803125 0.23125 0.804688 0.229167 0.804688 0.227083 0.807813 0.222917 0.809375 0.222917 0.8125 0.227083 0.8125 0.247917 0.814062 0.25 0.814062 0.285417 0.815625 0.2875 0.817187 0.285417 0.81875 0.285417 0.820312 0.283333 0.821875 0.283333 0.834375 0.266667 0.835938 0.266667 0.84375 0.25625 0.845312 0.25625 0.85 0.25 0.851562 0.25 0.853125 0.247917 0.854688 0.247917 0.85625 0.245833 0.857813 0.245833 0.8625 0.239583 0.864062 0.239583 0.86875 0.233333 0.870313 0.233333 0.879687 0.220833 0.879687 0.214583 0.88125 0.2125 0.879687 0.210417 0.879687 0.204167 0.876562 0.2 0.876562 0.197917 0.875 0.195833 0.875 0.19375 0.873438 0.191667 0.873438 0.183333 0.871875 0.18125 0.871875 0.177083 0.86875 0.172917 0.86875 0.16875 0.867188 0.166667 0.867188 0.1625 0.865625 0.160417 0.865625 0.158333 0.8625 0.154167 0.8625 0.152083 0.860937 0.15 0.860937 0.147917 0.854688 0.139583 0.854688 0.1375 0.853125 0.135417 0.853125 0.125 0.851562 0.122917 0.851562 0.116667 0.85 0.114583 0.85 0.108333 0.848437 0.10625 0.848437 0.102083 0.846875 0.1\\n',\n",
              " '0 0.364062 0.05 0.3625 0.0520833 0.360938 0.0520833 0.359375 0.0541667 0.359375 0.05625 0.35625 0.0604167 0.35625 0.0708333 0.354688 0.0729167 0.354688 0.0875 0.353125 0.0895833 0.353125 0.09375 0.351562 0.0958333 0.351562 0.0979167 0.35 0.1 0.35 0.102083 0.348437 0.104167 0.348437 0.110417 0.345313 0.114583 0.342187 0.114583 0.340625 0.116667 0.339063 0.116667 0.3375 0.114583 0.33125 0.114583 0.329688 0.1125 0.326562 0.1125 0.323438 0.116667 0.321875 0.116667 0.320312 0.11875 0.320312 0.1375 0.31875 0.139583 0.31875 0.14375 0.317187 0.145833 0.317187 0.147917 0.315625 0.15 0.315625 0.152083 0.314063 0.154167 0.314063 0.160417 0.3125 0.1625 0.3125 0.170833 0.310937 0.172917 0.310937 0.189583 0.309375 0.191667 0.309375 0.2 0.307813 0.202083 0.307813 0.20625 0.309375 0.208333 0.309375 0.21875 0.310937 0.220833 0.310937 0.23125 0.3125 0.233333 0.3125 0.241667 0.314063 0.24375 0.314063 0.245833 0.315625 0.247917 0.315625 0.252083 0.317187 0.254167 0.317187 0.25625 0.31875 0.258333 0.31875 0.260417 0.320312 0.2625 0.320312 0.264583 0.321875 0.266667 0.321875 0.26875 0.323438 0.270833 0.323438 0.3 0.321875 0.302083 0.321875 0.30625 0.320312 0.308333 0.320312 0.320833 0.31875 0.322917 0.31875 0.35 0.317187 0.352083 0.317187 0.364583 0.315625 0.366667 0.315625 0.372917 0.314063 0.375 0.314063 0.383333 0.3125 0.385417 0.3125 0.3875 0.310937 0.389583 0.310937 0.391667 0.309375 0.39375 0.309375 0.397917 0.307813 0.4 0.307813 0.429167 0.310937 0.429167 0.3125 0.43125 0.323438 0.43125 0.325 0.429167 0.33125 0.429167 0.332812 0.427083 0.33125 0.425 0.33125 0.420833 0.328125 0.416667 0.328125 0.414583 0.326562 0.4125 0.326562 0.410417 0.325 0.408333 0.325 0.391667 0.326562 0.389583 0.326562 0.385417 0.328125 0.383333 0.328125 0.36875 0.329688 0.366667 0.329688 0.352083 0.328125 0.35 0.328125 0.34375 0.329688 0.341667 0.329688 0.33125 0.33125 0.329167 0.33125 0.327083 0.332812 0.325 0.332812 0.322917 0.334375 0.320833 0.334375 0.314583 0.335938 0.3125 0.335938 0.308333 0.3375 0.30625 0.3375 0.304167 0.345313 0.29375 0.345313 0.291667 0.348437 0.2875 0.35 0.2875 0.35 0.285417 0.351562 0.283333 0.351562 0.270833 0.35 0.26875 0.35 0.264583 0.348437 0.2625 0.348437 0.25 0.35 0.247917 0.35 0.241667 0.351562 0.239583 0.351562 0.2375 0.353125 0.235417 0.354688 0.235417 0.35625 0.233333 0.364062 0.233333 0.365625 0.23125 0.376563 0.23125 0.378125 0.233333 0.38125 0.233333 0.384375 0.2375 0.385938 0.2375 0.39375 0.247917 0.39375 0.252083 0.395312 0.254167 0.395312 0.279167 0.396875 0.277083 0.396875 0.275 0.395312 0.272917 0.395312 0.270833 0.396875 0.26875 0.396875 0.245833 0.395312 0.24375 0.395312 0.229167 0.39375 0.227083 0.39375 0.208333 0.395312 0.20625 0.395312 0.202083 0.396875 0.2 0.396875 0.197917 0.398438 0.195833 0.398438 0.191667 0.4 0.189583 0.4 0.1875 0.401563 0.185417 0.401563 0.183333 0.404687 0.179167 0.404687 0.172917 0.40625 0.170833 0.40625 0.166667 0.407813 0.164583 0.407813 0.1625 0.409375 0.160417 0.409375 0.139583 0.407813 0.1375 0.407813 0.135417 0.40625 0.133333 0.40625 0.13125 0.404687 0.129167 0.404687 0.127083 0.396875 0.116667 0.396875 0.114583 0.395312 0.1125 0.395312 0.110417 0.396875 0.108333 0.396875 0.10625 0.398438 0.104167 0.398438 0.0958333 0.4 0.09375 0.4 0.075 0.398438 0.0729167 0.398438 0.0666667 0.396875 0.0645833 0.396875 0.0625 0.39375 0.0583333 0.39375 0.05625 0.390625 0.0520833 0.3875 0.0520833 0.385938 0.05\\n',\n",
              " '58 0.03125 0.59375 0.0296875 0.595833 0.028125 0.595833 0.028125 0.608333 0.0265625 0.610417 0.0265625 0.622917 0.025 0.625 0.025 0.727083 0.0265625 0.729167 0.0265625 0.739583 0.025 0.741667 0.025 0.747917 0.0234375 0.75 0.0234375 0.752083 0.021875 0.754167 0.015625 0.754167 0.0140625 0.752083 0.0109375 0.752083 0.009375 0.75 0.0078125 0.752083 0.0078125 0.758333 0.00625 0.760417 0.00625 0.997917 0.217187 0.997917 0.217187 0.99375 0.21875 0.991667 0.21875 0.989583 0.221875 0.985417 0.223438 0.985417 0.225 0.983333 0.229687 0.983333 0.23125 0.985417 0.234375 0.985417 0.235938 0.9875 0.240625 0.9875 0.242188 0.989583 0.24375 0.989583 0.245312 0.991667 0.25 0.991667 0.253125 0.995833 0.253125 0.997917 0.31875 0.997917 0.31875 0.9875 0.315625 0.983333 0.315625 0.98125 0.3125 0.977083 0.3125 0.972917 0.310937 0.970833 0.310937 0.958333 0.3125 0.95625 0.3125 0.939583 0.314063 0.9375 0.3125 0.935417 0.3125 0.927083 0.310937 0.925 0.310937 0.922917 0.307813 0.91875 0.307813 0.916667 0.285937 0.8875 0.284375 0.8875 0.275 0.875 0.273438 0.875 0.271875 0.872917 0.270312 0.872917 0.265625 0.866667 0.265625 0.864583 0.264062 0.8625 0.264062 0.858333 0.265625 0.85625 0.265625 0.854167 0.267188 0.852083 0.26875 0.852083 0.270312 0.85 0.271875 0.85 0.273438 0.847917 0.275 0.847917 0.276563 0.845833 0.279687 0.845833 0.28125 0.84375 0.282813 0.84375 0.284375 0.841667 0.2875 0.841667 0.289062 0.839583 0.29375 0.839583 0.295312 0.8375 0.303125 0.8375 0.304688 0.835417 0.307813 0.835417 0.309375 0.833333 0.310937 0.833333 0.3125 0.83125 0.314063 0.83125 0.315625 0.829167 0.315625 0.820833 0.310937 0.814583 0.310937 0.8125 0.30625 0.80625 0.304688 0.80625 0.3 0.8 0.298438 0.8 0.295312 0.795833 0.29375 0.795833 0.290625 0.791667 0.289062 0.791667 0.2875 0.789583 0.285937 0.789583 0.284375 0.7875 0.282813 0.7875 0.28125 0.785417 0.279687 0.785417 0.278125 0.783333 0.275 0.783333 0.273438 0.78125 0.271875 0.78125 0.270312 0.779167 0.267188 0.779167 0.265625 0.777083 0.2625 0.777083 0.260938 0.775 0.253125 0.775 0.251563 0.772917 0.24375 0.772917 0.242188 0.770833 0.234375 0.770833 0.232812 0.76875 0.225 0.76875 0.223438 0.766667 0.2125 0.766667 0.210938 0.764583 0.209375 0.764583 0.207813 0.7625 0.20625 0.7625 0.203125 0.758333 0.2 0.758333 0.198437 0.75625 0.19375 0.75625 0.192188 0.758333 0.190625 0.758333 0.189063 0.760417 0.189063 0.7625 0.185937 0.766667 0.185937 0.76875 0.184375 0.770833 0.182812 0.770833 0.18125 0.772917 0.179688 0.772917 0.178125 0.775 0.175 0.775 0.173438 0.777083 0.16875 0.777083 0.167187 0.775 0.164062 0.775 0.1625 0.772917 0.159375 0.772917 0.157813 0.770833 0.157813 0.7625 0.15625 0.760417 0.15625 0.75 0.157813 0.747917 0.157813 0.727083 0.15625 0.725 0.15625 0.71875 0.154687 0.716667 0.154687 0.714583 0.151562 0.710417 0.151562 0.708333 0.15 0.70625 0.15 0.704167 0.148438 0.702083 0.148438 0.7 0.146875 0.697917 0.146875 0.695833 0.14375 0.691667 0.14375 0.6875 0.142188 0.685417 0.142188 0.670833 0.140625 0.66875 0.140625 0.6625 0.139062 0.660417 0.139062 0.654167 0.134375 0.647917 0.134375 0.645833 0.132812 0.645833 0.13125 0.647917 0.128125 0.647917 0.123438 0.654167 0.123438 0.65625 0.110937 0.672917 0.109375 0.672917 0.107813 0.675 0.10625 0.675 0.103125 0.679167 0.1 0.679167 0.0984375 0.68125 0.096875 0.68125 0.0953125 0.683333 0.090625 0.683333 0.0890625 0.68125 0.084375 0.68125 0.078125 0.672917 0.0765625 0.672917 0.0734375 0.66875 0.0734375 0.666667 0.071875 0.666667 0.06875 0.6625 0.06875 0.660417 0.0625 0.652083 0.0625 0.65 0.0578125 0.64375 0.0578125 0.641667 0.053125 0.635417 0.053125 0.633333 0.0515625 0.63125 0.0515625 0.629167 0.046875 0.622917 0.046875 0.620833 0.04375 0.616667 0.04375 0.614583 0.0421875 0.6125 0.0421875 0.608333 0.0390625 0.604167 0.0390625 0.602083 0.0375 0.6 0.0375 0.597917 0.034375 0.59375\\n',\n",
              " '26 0.957812 0.16875 0.957812 0.172917 0.95625 0.175 0.95625 0.177083 0.957812 0.179167 0.957812 0.18125 0.960938 0.18125 0.9625 0.183333 0.9625 0.1875 0.964063 0.189583 0.964063 0.191667 0.965625 0.191667 0.967188 0.19375 0.967188 0.195833 0.96875 0.197917 0.96875 0.202083 0.971875 0.20625 0.975 0.20625 0.976562 0.208333 0.976562 0.210417 0.978125 0.208333 0.978125 0.202083 0.973437 0.195833 0.973437 0.19375 0.971875 0.191667 0.970312 0.191667 0.967188 0.1875 0.967188 0.185417 0.965625 0.183333 0.964063 0.183333 0.960938 0.179167 0.960938 0.172917 0.959375 0.170833 0.959375 0.16875\\n',\n",
              " '8 0.959375 0.433333 0.957812 0.435417 0.94375 0.435417 0.942187 0.4375 0.935938 0.4375 0.934375 0.439583 0.928125 0.439583 0.920313 0.45 0.920313 0.454167 0.91875 0.45625 0.91875 0.50625 0.920313 0.508333 0.920313 0.51875 0.921875 0.520833 0.921875 0.525 0.923437 0.527083 0.923437 0.533333 0.925 0.535417 0.925 0.539583 0.926562 0.541667 0.926562 0.54375 0.928125 0.545833 0.928125 0.547917 0.929688 0.55 0.929688 0.552083 0.93125 0.554167 0.93125 0.55625 0.940625 0.56875 0.942187 0.56875 0.94375 0.570833 0.945312 0.570833 0.946875 0.572917 0.95 0.572917 0.951563 0.575 0.953125 0.575 0.95625 0.579167 0.957812 0.579167 0.967188 0.591667 0.96875 0.591667 0.978125 0.604167 0.979688 0.604167 0.982813 0.608333 0.984375 0.608333 0.985937 0.610417 0.989062 0.610417 0.990625 0.6125 0.998438 0.6125 0.998438 0.433333\\n']"
            ]
          },
          "metadata": {},
          "execution_count": 40
        }
      ]
    },
    {
      "cell_type": "code",
      "source": [
        "\n",
        "coco_names = [\"person\" , \"bicycle\" , \"car\" , \"motorcycle\" , \"airplane\" , \"bus\" , \"train\" , \"truck\" , \"boat\" , \"traffic light\" , \"fire hydrant\" , \"street sign\" , \"stop sign\" , \"parking meter\" , \"bench\" , \"bird\" , \"cat\" , \"dog\" , \"horse\" , \"sheep\" , \"cow\" , \"elephant\" , \"bear\" , \"zebra\" , \"giraffe\" , \"hat\" , \"backpack\" , \"umbrella\" , \"shoe\" , \"eye glasses\" , \"handbag\" , \"tie\" , \"ball\" ,\n",
        "\"frisbee\" , \"bat\" , \"snowboard\" , \" basketball\" , \"kite\" , \"bat\" ,\n",
        "\"baseball glove\" , \"skateboard\" , \"surfboard\" , \"tennis racket\" , \"bottle\" ,\n",
        "\"plate\" , \"wine glass\" , \"cup\" , \"fork\" , \"knife\" , \"spoon\" , \"bowl\" ,\n",
        "\"banana\" , \"apple\" , \"sandwich\" , \"orange\" , \"broccoli\" , \"carrot\" , \"hot dog\" ,\n",
        "\"potted plant\" , \"donut\" , \"cake\" , \"chair\" , \"couch\" , \"pizza\" , \"bed\" ,\n",
        "\"mirror\" , \"dining table\" , \"window\" , \"desk\" , \"toilet\" , \"door\" , \"tv\" ,\n",
        "\"laptop\" , \"mouse\" , \"remote\" , \"keyboard\" , \"cell phone\" , \"microwave\" ,\n",
        "\"oven\" , \"toaster\" , \"sink\" , \"refrigerator\" , \"blender\" , \"book\" ,\n",
        "\"clock\" , \"vase\" , \"scissors\" , \"teddy bear\" , \"hair drier\" , \"toothbrush\" , \"hair brush\"]"
      ],
      "metadata": {
        "id": "RHVdOM8U9JY3"
      },
      "execution_count": 41,
      "outputs": []
    },
    {
      "cell_type": "code",
      "source": [
        "for i in range(len(label)):\n",
        "  print(i)"
      ],
      "metadata": {
        "colab": {
          "base_uri": "https://localhost:8080/"
        },
        "id": "Q9tnnJc_4b-l",
        "outputId": "8f8f1c38-98db-4380-d99f-b26b59cf8d2d"
      },
      "execution_count": 42,
      "outputs": [
        {
          "output_type": "stream",
          "name": "stdout",
          "text": [
            "0\n",
            "1\n",
            "2\n",
            "3\n",
            "4\n",
            "5\n",
            "6\n",
            "7\n",
            "8\n",
            "9\n",
            "10\n",
            "11\n",
            "12\n",
            "13\n",
            "14\n",
            "15\n"
          ]
        }
      ]
    },
    {
      "cell_type": "code",
      "source": [
        "!pip install pycocotools"
      ],
      "metadata": {
        "colab": {
          "base_uri": "https://localhost:8080/"
        },
        "id": "p-VLy5TD7Z6s",
        "outputId": "2910e874-4430-47f2-ac53-445a990023be"
      },
      "execution_count": 43,
      "outputs": [
        {
          "output_type": "stream",
          "name": "stdout",
          "text": [
            "Requirement already satisfied: pycocotools in /usr/local/lib/python3.10/dist-packages (2.0.6)\n",
            "Requirement already satisfied: matplotlib>=2.1.0 in /usr/local/lib/python3.10/dist-packages (from pycocotools) (3.7.1)\n",
            "Requirement already satisfied: numpy in /usr/local/lib/python3.10/dist-packages (from pycocotools) (1.22.4)\n",
            "Requirement already satisfied: contourpy>=1.0.1 in /usr/local/lib/python3.10/dist-packages (from matplotlib>=2.1.0->pycocotools) (1.1.0)\n",
            "Requirement already satisfied: cycler>=0.10 in /usr/local/lib/python3.10/dist-packages (from matplotlib>=2.1.0->pycocotools) (0.11.0)\n",
            "Requirement already satisfied: fonttools>=4.22.0 in /usr/local/lib/python3.10/dist-packages (from matplotlib>=2.1.0->pycocotools) (4.40.0)\n",
            "Requirement already satisfied: kiwisolver>=1.0.1 in /usr/local/lib/python3.10/dist-packages (from matplotlib>=2.1.0->pycocotools) (1.4.4)\n",
            "Requirement already satisfied: packaging>=20.0 in /usr/local/lib/python3.10/dist-packages (from matplotlib>=2.1.0->pycocotools) (23.1)\n",
            "Requirement already satisfied: pillow>=6.2.0 in /usr/local/lib/python3.10/dist-packages (from matplotlib>=2.1.0->pycocotools) (8.4.0)\n",
            "Requirement already satisfied: pyparsing>=2.3.1 in /usr/local/lib/python3.10/dist-packages (from matplotlib>=2.1.0->pycocotools) (3.1.0)\n",
            "Requirement already satisfied: python-dateutil>=2.7 in /usr/local/lib/python3.10/dist-packages (from matplotlib>=2.1.0->pycocotools) (2.8.2)\n",
            "Requirement already satisfied: six>=1.5 in /usr/local/lib/python3.10/dist-packages (from python-dateutil>=2.7->matplotlib>=2.1.0->pycocotools) (1.16.0)\n"
          ]
        }
      ]
    },
    {
      "cell_type": "code",
      "source": [
        "for i in range(len(label)):\n",
        "  print(int(label[i].split()[0]),coco_names[int(label[i].split()[0])])"
      ],
      "metadata": {
        "colab": {
          "base_uri": "https://localhost:8080/"
        },
        "id": "AcWib4Y18FBf",
        "outputId": "7164c479-db87-427d-867c-8de5848a93ef"
      },
      "execution_count": 44,
      "outputs": [
        {
          "output_type": "stream",
          "name": "stdout",
          "text": [
            "0 person\n",
            "0 person\n",
            "0 person\n",
            "0 person\n",
            "0 person\n",
            "0 person\n",
            "0 person\n",
            "0 person\n",
            "0 person\n",
            "0 person\n",
            "0 person\n",
            "0 person\n",
            "0 person\n",
            "58 potted plant\n",
            "26 backpack\n",
            "8 boat\n"
          ]
        }
      ]
    },
    {
      "cell_type": "code",
      "source": [
        "label_counts = {}\n",
        "\n",
        "for i in range(len(label)):\n",
        "    label_index = int(label[i].split()[0])\n",
        "    label_name = coco_names[label_index]\n",
        "\n",
        "    if label_name in label_counts:\n",
        "        label_counts[label_name] += 1\n",
        "    else:\n",
        "        label_counts[label_name] = 1\n",
        "\n",
        "for label_name, count in label_counts.items():\n",
        "    print(label_name + '='+str(count))"
      ],
      "metadata": {
        "id": "u-ACfLoFPDtr",
        "outputId": "03507911-d7dd-461d-f778-1f7e0e0ce7c3",
        "colab": {
          "base_uri": "https://localhost:8080/"
        }
      },
      "execution_count": 45,
      "outputs": [
        {
          "output_type": "stream",
          "name": "stdout",
          "text": [
            "person=13\n",
            "potted plant=1\n",
            "backpack=1\n",
            "boat=1\n"
          ]
        }
      ]
    },
    {
      "cell_type": "code",
      "source": [
        "predict3=model.predict(\"/content/12ab.jpg\",save=True,save_txt=True)"
      ],
      "metadata": {
        "id": "_Ek-9ictPzvl",
        "colab": {
          "base_uri": "https://localhost:8080/"
        },
        "outputId": "f20a1750-a5b3-4b91-c943-8b9058056ef0"
      },
      "execution_count": 46,
      "outputs": [
        {
          "output_type": "stream",
          "name": "stderr",
          "text": [
            "\n",
            "image 1/1 /content/12ab.jpg: 352x640 22 persons, 15 cars, 1 bus, 1 truck, 1 traffic light, 1516.4ms\n",
            "Speed: 3.9ms preprocess, 1516.4ms inference, 96.0ms postprocess per image at shape (1, 3, 352, 640)\n",
            "Results saved to \u001b[1mruns/segment/predict\u001b[0m\n",
            "2 labels saved to runs/segment/predict/labels\n"
          ]
        }
      ]
    },
    {
      "cell_type": "code",
      "source": [
        "type(predict3)"
      ],
      "metadata": {
        "colab": {
          "base_uri": "https://localhost:8080/"
        },
        "id": "cZIKVGuhRtKl",
        "outputId": "9ee0f5ad-222a-4249-c384-e37529f41900"
      },
      "execution_count": 47,
      "outputs": [
        {
          "output_type": "execute_result",
          "data": {
            "text/plain": [
              "list"
            ]
          },
          "metadata": {},
          "execution_count": 47
        }
      ]
    },
    {
      "cell_type": "code",
      "source": [
        "predict3[0].masks.masks.shape"
      ],
      "metadata": {
        "colab": {
          "base_uri": "https://localhost:8080/"
        },
        "id": "gLJoj148R3wH",
        "outputId": "7ff0f0f5-2331-4b37-9f51-9bec958e0db6"
      },
      "execution_count": 48,
      "outputs": [
        {
          "output_type": "stream",
          "name": "stderr",
          "text": [
            "WARNING ⚠️ 'Masks.masks' is deprecated. Use 'Masks.data' instead.\n"
          ]
        },
        {
          "output_type": "execute_result",
          "data": {
            "text/plain": [
              "torch.Size([40, 352, 640])"
            ]
          },
          "metadata": {},
          "execution_count": 48
        }
      ]
    },
    {
      "cell_type": "code",
      "source": [
        "predict3[0].masks.masks[0].shape"
      ],
      "metadata": {
        "colab": {
          "base_uri": "https://localhost:8080/"
        },
        "id": "p_GqfMBJR8gW",
        "outputId": "2c125d77-bd41-4a99-fa70-34433b15154f"
      },
      "execution_count": 49,
      "outputs": [
        {
          "output_type": "stream",
          "name": "stderr",
          "text": [
            "WARNING ⚠️ 'Masks.masks' is deprecated. Use 'Masks.data' instead.\n"
          ]
        },
        {
          "output_type": "execute_result",
          "data": {
            "text/plain": [
              "torch.Size([352, 640])"
            ]
          },
          "metadata": {},
          "execution_count": 49
        }
      ]
    },
    {
      "cell_type": "code",
      "source": [
        "cv2_imshow((predict3[0].masks.masks[0].numpy()*255).astype(\"uint8\"))"
      ],
      "metadata": {
        "colab": {
          "base_uri": "https://localhost:8080/",
          "height": 386
        },
        "id": "eBGuZ9EoR-qL",
        "outputId": "5897041e-9760-4650-8d2b-ea798faf7a81"
      },
      "execution_count": 50,
      "outputs": [
        {
          "output_type": "stream",
          "name": "stderr",
          "text": [
            "WARNING ⚠️ 'Masks.masks' is deprecated. Use 'Masks.data' instead.\n"
          ]
        },
        {
          "output_type": "display_data",
          "data": {
            "text/plain": [
              "<PIL.Image.Image image mode=L size=640x352 at 0x7E50DA3B02E0>"
            ],
            "image/png": "[encoded data removed]"
          },
          "metadata": {}
        }
      ]
    },
    {
      "cell_type": "code",
      "source": [
        "cv2_imshow((predict3[0].masks.masks[1].numpy()*255).astype(\"uint8\"))"
      ],
      "metadata": {
        "colab": {
          "base_uri": "https://localhost:8080/",
          "height": 386
        },
        "id": "5RqH8rBlSFeE",
        "outputId": "c5d08b1b-f656-4a81-ea33-16312acd0795"
      },
      "execution_count": 52,
      "outputs": [
        {
          "output_type": "stream",
          "name": "stderr",
          "text": [
            "WARNING ⚠️ 'Masks.masks' is deprecated. Use 'Masks.data' instead.\n"
          ]
        },
        {
          "output_type": "display_data",
          "data": {
            "text/plain": [
              "<PIL.Image.Image image mode=L size=640x352 at 0x7E50DA3B2380>"
            ],
            "image/png": "[encoded data removed]"
          },
          "metadata": {}
        }
      ]
    },
    {
      "cell_type": "code",
      "source": [
        "cv2_imshow((predict3[0].masks.masks[2].numpy()*255).astype(\"uint8\"))"
      ],
      "metadata": {
        "colab": {
          "base_uri": "https://localhost:8080/",
          "height": 386
        },
        "id": "FaOK89a0SLdI",
        "outputId": "df20c1ee-14fc-4b00-85df-3427cfd6c713"
      },
      "execution_count": 53,
      "outputs": [
        {
          "output_type": "stream",
          "name": "stderr",
          "text": [
            "WARNING ⚠️ 'Masks.masks' is deprecated. Use 'Masks.data' instead.\n"
          ]
        },
        {
          "output_type": "display_data",
          "data": {
            "text/plain": [
              "<PIL.Image.Image image mode=L size=640x352 at 0x7E50DA3B3430>"
            ],
            "image/png": "[encoded data removed]"
          },
          "metadata": {}
        }
      ]
    },
    {
      "cell_type": "code",
      "source": [
        "cv2_imshow((predict3[0].masks.masks[3].numpy()*255).astype(\"uint8\"))"
      ],
      "metadata": {
        "colab": {
          "base_uri": "https://localhost:8080/",
          "height": 386
        },
        "id": "qMfaiu1ISLZf",
        "outputId": "38a10a98-2adc-4ea9-ca94-a983f9a2e7ae"
      },
      "execution_count": 54,
      "outputs": [
        {
          "output_type": "stream",
          "name": "stderr",
          "text": [
            "WARNING ⚠️ 'Masks.masks' is deprecated. Use 'Masks.data' instead.\n"
          ]
        },
        {
          "output_type": "display_data",
          "data": {
            "text/plain": [
              "<PIL.Image.Image image mode=L size=640x352 at 0x7E50DA3B37C0>"
            ],
            "image/png": "[encoded data removed]"
          },
          "metadata": {}
        }
      ]
    },
    {
      "cell_type": "code",
      "source": [
        "cv2_imshow((predict3[0].masks.masks[4].numpy()*255).astype(\"uint8\"))"
      ],
      "metadata": {
        "colab": {
          "base_uri": "https://localhost:8080/",
          "height": 386
        },
        "id": "TOBoysEZSLWF",
        "outputId": "1ce6aed8-50ac-4a77-d358-9e91a7ce6c53"
      },
      "execution_count": 55,
      "outputs": [
        {
          "output_type": "stream",
          "name": "stderr",
          "text": [
            "WARNING ⚠️ 'Masks.masks' is deprecated. Use 'Masks.data' instead.\n"
          ]
        },
        {
          "output_type": "display_data",
          "data": {
            "text/plain": [
              "<PIL.Image.Image image mode=L size=640x352 at 0x7E50DAF4EEC0>"
            ],
            "image/png": "[encoded data removed]"
          },
          "metadata": {}
        }
      ]
    },
    {
      "cell_type": "code",
      "source": [
        "cv2_imshow((predict3[0].masks.masks[5].numpy()*255).astype(\"uint8\"))"
      ],
      "metadata": {
        "colab": {
          "base_uri": "https://localhost:8080/",
          "height": 386
        },
        "id": "D0cszYvPSLTX",
        "outputId": "58684108-2e5d-49d5-d881-e82bfaab2110"
      },
      "execution_count": 56,
      "outputs": [
        {
          "output_type": "stream",
          "name": "stderr",
          "text": [
            "WARNING ⚠️ 'Masks.masks' is deprecated. Use 'Masks.data' instead.\n"
          ]
        },
        {
          "output_type": "display_data",
          "data": {
            "text/plain": [
              "<PIL.Image.Image image mode=L size=640x352 at 0x7E50DA3B2380>"
            ],
            "image/png": "[encoded data removed]"
          },
          "metadata": {}
        }
      ]
    },
    {
      "cell_type": "code",
      "source": [
        "cv2_imshow((predict3[0].masks.masks[6].numpy()*255).astype(\"uint8\"))"
      ],
      "metadata": {
        "colab": {
          "base_uri": "https://localhost:8080/",
          "height": 386
        },
        "id": "dN-j-bsISLRN",
        "outputId": "0e52ea66-7a05-48a4-a431-c4dadd8e16e4"
      },
      "execution_count": 57,
      "outputs": [
        {
          "output_type": "stream",
          "name": "stderr",
          "text": [
            "WARNING ⚠️ 'Masks.masks' is deprecated. Use 'Masks.data' instead.\n"
          ]
        },
        {
          "output_type": "display_data",
          "data": {
            "text/plain": [
              "<PIL.Image.Image image mode=L size=640x352 at 0x7E50DA3B14B0>"
            ],
            "image/png": "[encoded data removed]"
          },
          "metadata": {}
        }
      ]
    },
    {
      "cell_type": "code",
      "source": [
        "cv2_imshow((predict3[0].masks.masks[7].numpy()*255).astype(\"uint8\"))"
      ],
      "metadata": {
        "colab": {
          "base_uri": "https://localhost:8080/",
          "height": 386
        },
        "id": "9-OzafpKSLO4",
        "outputId": "7a4627d8-ff85-451f-ac70-8da60aa60277"
      },
      "execution_count": 58,
      "outputs": [
        {
          "output_type": "stream",
          "name": "stderr",
          "text": [
            "WARNING ⚠️ 'Masks.masks' is deprecated. Use 'Masks.data' instead.\n"
          ]
        },
        {
          "output_type": "display_data",
          "data": {
            "text/plain": [
              "<PIL.Image.Image image mode=L size=640x352 at 0x7E50DA3B25F0>"
            ],
            "image/png": "[encoded data removed]"
          },
          "metadata": {}
        }
      ]
    },
    {
      "cell_type": "code",
      "source": [
        "cv2_imshow((predict3[0].masks.masks[8].numpy()*255).astype(\"uint8\"))"
      ],
      "metadata": {
        "colab": {
          "base_uri": "https://localhost:8080/",
          "height": 386
        },
        "id": "WEE-VNPWSLMK",
        "outputId": "dcf460b4-4f98-481f-ab0f-a0a43058dd1c"
      },
      "execution_count": 60,
      "outputs": [
        {
          "output_type": "stream",
          "name": "stderr",
          "text": [
            "WARNING ⚠️ 'Masks.masks' is deprecated. Use 'Masks.data' instead.\n"
          ]
        },
        {
          "output_type": "display_data",
          "data": {
            "text/plain": [
              "<PIL.Image.Image image mode=L size=640x352 at 0x7E50DA3B0E80>"
            ],
            "image/png": "[encoded data removed]"
          },
          "metadata": {}
        }
      ]
    },
    {
      "cell_type": "code",
      "source": [
        "cv2_imshow((predict3[0].masks.masks[9].numpy()*255).astype(\"uint8\"))"
      ],
      "metadata": {
        "colab": {
          "base_uri": "https://localhost:8080/",
          "height": 386
        },
        "id": "FbbHSKyTSLJj",
        "outputId": "c8dbb4ab-3111-41a8-d017-7d5291e6d9af"
      },
      "execution_count": 61,
      "outputs": [
        {
          "output_type": "stream",
          "name": "stderr",
          "text": [
            "WARNING ⚠️ 'Masks.masks' is deprecated. Use 'Masks.data' instead.\n"
          ]
        },
        {
          "output_type": "display_data",
          "data": {
            "text/plain": [
              "<PIL.Image.Image image mode=L size=640x352 at 0x7E50DA3B37F0>"
            ],
            "image/png": "[encoded data removed]"
          },
          "metadata": {}
        }
      ]
    },
    {
      "cell_type": "code",
      "source": [
        "cv2_imshow((predict3[0].masks.masks[10].numpy()*255).astype(\"uint8\"))"
      ],
      "metadata": {
        "colab": {
          "base_uri": "https://localhost:8080/",
          "height": 386
        },
        "id": "JLWu5rlfSLHY",
        "outputId": "f658a9cb-0cf6-4e40-9867-e6b18aedff2e"
      },
      "execution_count": 62,
      "outputs": [
        {
          "output_type": "stream",
          "name": "stderr",
          "text": [
            "WARNING ⚠️ 'Masks.masks' is deprecated. Use 'Masks.data' instead.\n"
          ]
        },
        {
          "output_type": "display_data",
          "data": {
            "text/plain": [
              "<PIL.Image.Image image mode=L size=640x352 at 0x7E50DA3B3760>"
            ],
            "image/png": "[encoded data removed]"
          },
          "metadata": {}
        }
      ]
    },
    {
      "cell_type": "code",
      "source": [
        "cv2_imshow((predict3[0].masks.masks[11].numpy()*255).astype(\"uint8\"))"
      ],
      "metadata": {
        "id": "BM3_pW6QSLEt"
      },
      "execution_count": null,
      "outputs": []
    },
    {
      "cell_type": "code",
      "source": [
        "cv2_imshow((predict3[0].masks.masks[12].numpy()*255).astype(\"uint8\"))"
      ],
      "metadata": {
        "colab": {
          "base_uri": "https://localhost:8080/",
          "height": 386
        },
        "id": "hMJ5MFSvSKxw",
        "outputId": "e5233da9-28f6-4763-9ffb-eb9dd61914ad"
      },
      "execution_count": 64,
      "outputs": [
        {
          "output_type": "stream",
          "name": "stderr",
          "text": [
            "WARNING ⚠️ 'Masks.masks' is deprecated. Use 'Masks.data' instead.\n"
          ]
        },
        {
          "output_type": "display_data",
          "data": {
            "text/plain": [
              "<PIL.Image.Image image mode=L size=640x352 at 0x7E50DA3B3D60>"
            ],
            "image/png": "[encoded data removed]"
          },
          "metadata": {}
        }
      ]
    },
    {
      "cell_type": "code",
      "source": [
        "cv2_imshow((predict3[0].masks.masks[13].numpy()*255).astype(\"uint8\"))"
      ],
      "metadata": {
        "colab": {
          "base_uri": "https://localhost:8080/",
          "height": 386
        },
        "id": "aNytI2IdSkU9",
        "outputId": "74c3f484-d8c4-4fef-915e-3bdcb326aa24"
      },
      "execution_count": 65,
      "outputs": [
        {
          "output_type": "stream",
          "name": "stderr",
          "text": [
            "WARNING ⚠️ 'Masks.masks' is deprecated. Use 'Masks.data' instead.\n"
          ]
        },
        {
          "output_type": "display_data",
          "data": {
            "text/plain": [
              "<PIL.Image.Image image mode=L size=640x352 at 0x7E50DAF4FBB0>"
            ],
            "image/png": "[encoded data removed]"
          },
          "metadata": {}
        }
      ]
    },
    {
      "cell_type": "code",
      "source": [
        "cv2_imshow((predict3[0].masks.masks[14].numpy()*255).astype(\"uint8\"))"
      ],
      "metadata": {
        "colab": {
          "base_uri": "https://localhost:8080/",
          "height": 386
        },
        "id": "dLsRz179SkR4",
        "outputId": "e90006b1-5b69-4b8f-817e-866be2cef3d3"
      },
      "execution_count": 66,
      "outputs": [
        {
          "output_type": "stream",
          "name": "stderr",
          "text": [
            "WARNING ⚠️ 'Masks.masks' is deprecated. Use 'Masks.data' instead.\n"
          ]
        },
        {
          "output_type": "display_data",
          "data": {
            "text/plain": [
              "<PIL.Image.Image image mode=L size=640x352 at 0x7E50DA3B3790>"
            ],
            "image/png": "[encoded data removed]"
          },
          "metadata": {}
        }
      ]
    },
    {
      "cell_type": "code",
      "source": [
        "cv2_imshow((predict3[0].masks.masks[15].numpy()*255).astype(\"uint8\"))"
      ],
      "metadata": {
        "colab": {
          "base_uri": "https://localhost:8080/",
          "height": 386
        },
        "id": "jpmoVhuNSkO5",
        "outputId": "5e03e5c3-675e-4693-f587-ace52dcbac3c"
      },
      "execution_count": 67,
      "outputs": [
        {
          "output_type": "stream",
          "name": "stderr",
          "text": [
            "WARNING ⚠️ 'Masks.masks' is deprecated. Use 'Masks.data' instead.\n"
          ]
        },
        {
          "output_type": "display_data",
          "data": {
            "text/plain": [
              "<PIL.Image.Image image mode=L size=640x352 at 0x7E50DA3B0E50>"
            ],
            "image/png": "[encoded data removed]"
          },
          "metadata": {}
        }
      ]
    },
    {
      "cell_type": "code",
      "source": [
        "cv2_imshow((predict3[0].masks.masks[16].numpy()*255).astype(\"uint8\"))"
      ],
      "metadata": {
        "colab": {
          "base_uri": "https://localhost:8080/",
          "height": 386
        },
        "id": "xTrzNQWqSkNF",
        "outputId": "a8a91bd0-9b48-4d9b-9848-b419d956c717"
      },
      "execution_count": 68,
      "outputs": [
        {
          "output_type": "stream",
          "name": "stderr",
          "text": [
            "WARNING ⚠️ 'Masks.masks' is deprecated. Use 'Masks.data' instead.\n"
          ]
        },
        {
          "output_type": "display_data",
          "data": {
            "text/plain": [
              "<PIL.Image.Image image mode=L size=640x352 at 0x7E50DA3B1F60>"
            ],
            "image/png": "[encoded data removed]"
          },
          "metadata": {}
        }
      ]
    },
    {
      "cell_type": "code",
      "source": [
        "cv2_imshow((predict3[0].masks.masks[17].numpy()*255).astype(\"uint8\"))"
      ],
      "metadata": {
        "colab": {
          "base_uri": "https://localhost:8080/",
          "height": 386
        },
        "id": "bpmSkJDtSkK2",
        "outputId": "5d315d8f-646a-4bac-c099-01e45b24848e"
      },
      "execution_count": 69,
      "outputs": [
        {
          "output_type": "stream",
          "name": "stderr",
          "text": [
            "WARNING ⚠️ 'Masks.masks' is deprecated. Use 'Masks.data' instead.\n"
          ]
        },
        {
          "output_type": "display_data",
          "data": {
            "text/plain": [
              "<PIL.Image.Image image mode=L size=640x352 at 0x7E50DA3B19C0>"
            ],
            "image/png": "[encoded data removed]"
          },
          "metadata": {}
        }
      ]
    },
    {
      "cell_type": "code",
      "source": [
        "cv2_imshow((predict3[0].masks.masks[18].numpy()*255).astype(\"uint8\"))"
      ],
      "metadata": {
        "colab": {
          "base_uri": "https://localhost:8080/",
          "height": 386
        },
        "id": "JJp2je50SkH6",
        "outputId": "2d65a434-8e08-414f-beb2-d92a541d9711"
      },
      "execution_count": 70,
      "outputs": [
        {
          "output_type": "stream",
          "name": "stderr",
          "text": [
            "WARNING ⚠️ 'Masks.masks' is deprecated. Use 'Masks.data' instead.\n"
          ]
        },
        {
          "output_type": "display_data",
          "data": {
            "text/plain": [
              "<PIL.Image.Image image mode=L size=640x352 at 0x7E50DA3B3880>"
            ],
            "image/png": "[encoded data removed]"
          },
          "metadata": {}
        }
      ]
    },
    {
      "cell_type": "code",
      "source": [
        "cv2_imshow((predict3[0].masks.masks[19].numpy()*255).astype(\"uint8\"))"
      ],
      "metadata": {
        "colab": {
          "base_uri": "https://localhost:8080/",
          "height": 386
        },
        "id": "Mx7RY6kbSkFo",
        "outputId": "f4832cc8-88d0-4aa3-a0d4-a8663f73261b"
      },
      "execution_count": 71,
      "outputs": [
        {
          "output_type": "stream",
          "name": "stderr",
          "text": [
            "WARNING ⚠️ 'Masks.masks' is deprecated. Use 'Masks.data' instead.\n"
          ]
        },
        {
          "output_type": "display_data",
          "data": {
            "text/plain": [
              "<PIL.Image.Image image mode=L size=640x352 at 0x7E50DA3B0E50>"
            ],
            "image/png": "[encoded data removed]"
          },
          "metadata": {}
        }
      ]
    },
    {
      "cell_type": "code",
      "source": [
        "cv2_imshow((predict3[0].masks.masks[20].numpy()*255).astype(\"uint8\"))"
      ],
      "metadata": {
        "colab": {
          "base_uri": "https://localhost:8080/",
          "height": 386
        },
        "id": "IE-sdvyVSkDQ",
        "outputId": "744cd5bf-84c9-4174-d657-78d5a36c40ee"
      },
      "execution_count": 72,
      "outputs": [
        {
          "output_type": "stream",
          "name": "stderr",
          "text": [
            "WARNING ⚠️ 'Masks.masks' is deprecated. Use 'Masks.data' instead.\n"
          ]
        },
        {
          "output_type": "display_data",
          "data": {
            "text/plain": [
              "<PIL.Image.Image image mode=L size=640x352 at 0x7E50DAF4FF40>"
            ],
            "image/png": "[encoded data removed]"
          },
          "metadata": {}
        }
      ]
    },
    {
      "cell_type": "code",
      "source": [
        "cv2_imshow((predict3[0].masks.masks[21].numpy()*255).astype(\"uint8\"))"
      ],
      "metadata": {
        "colab": {
          "base_uri": "https://localhost:8080/",
          "height": 386
        },
        "id": "YcR63cJASkBH",
        "outputId": "7c9d242f-eb16-43b4-e001-55a79075f2d7"
      },
      "execution_count": 73,
      "outputs": [
        {
          "output_type": "stream",
          "name": "stderr",
          "text": [
            "WARNING ⚠️ 'Masks.masks' is deprecated. Use 'Masks.data' instead.\n"
          ]
        },
        {
          "output_type": "display_data",
          "data": {
            "text/plain": [
              "<PIL.Image.Image image mode=L size=640x352 at 0x7E50DA3B15A0>"
            ],
            "image/png": "[encoded data removed]"
          },
          "metadata": {}
        }
      ]
    },
    {
      "cell_type": "code",
      "source": [
        "cv2_imshow((predict3[0].masks.masks[22].numpy()*255).astype(\"uint8\"))"
      ],
      "metadata": {
        "colab": {
          "base_uri": "https://localhost:8080/",
          "height": 386
        },
        "id": "9oGe8ReQSj-z",
        "outputId": "b2093974-f545-4c7c-b029-44d78ce6d708"
      },
      "execution_count": 74,
      "outputs": [
        {
          "output_type": "stream",
          "name": "stderr",
          "text": [
            "WARNING ⚠️ 'Masks.masks' is deprecated. Use 'Masks.data' instead.\n"
          ]
        },
        {
          "output_type": "display_data",
          "data": {
            "text/plain": [
              "<PIL.Image.Image image mode=L size=640x352 at 0x7E50DA3B0130>"
            ],
            "image/png": "[encoded data removed]"
          },
          "metadata": {}
        }
      ]
    },
    {
      "cell_type": "code",
      "source": [
        "cv2_imshow((predict3[0].masks.masks[23].numpy()*255).astype(\"uint8\"))"
      ],
      "metadata": {
        "colab": {
          "base_uri": "https://localhost:8080/",
          "height": 386
        },
        "id": "1pOPDwj7S5MZ",
        "outputId": "f177065d-aea2-4bc0-80fd-c21153bc6530"
      },
      "execution_count": 78,
      "outputs": [
        {
          "output_type": "stream",
          "name": "stderr",
          "text": [
            "WARNING ⚠️ 'Masks.masks' is deprecated. Use 'Masks.data' instead.\n"
          ]
        },
        {
          "output_type": "display_data",
          "data": {
            "text/plain": [
              "<PIL.Image.Image image mode=L size=640x352 at 0x7E50DA3B1930>"
            ],
            "image/png": "[encoded data removed]"
          },
          "metadata": {}
        }
      ]
    },
    {
      "cell_type": "code",
      "source": [
        "cv2_imshow((predict3[0].masks.masks[24].numpy()*255).astype(\"uint8\"))"
      ],
      "metadata": {
        "colab": {
          "base_uri": "https://localhost:8080/",
          "height": 386
        },
        "id": "xKnGal0WS6gZ",
        "outputId": "5a07652d-2f13-4e07-db9a-0ed0d99d5c33"
      },
      "execution_count": 79,
      "outputs": [
        {
          "output_type": "stream",
          "name": "stderr",
          "text": [
            "WARNING ⚠️ 'Masks.masks' is deprecated. Use 'Masks.data' instead.\n"
          ]
        },
        {
          "output_type": "display_data",
          "data": {
            "text/plain": [
              "<PIL.Image.Image image mode=L size=640x352 at 0x7E50DA3B1390>"
            ],
            "image/png": "[encoded data removed]"
          },
          "metadata": {}
        }
      ]
    },
    {
      "cell_type": "code",
      "source": [
        "cv2_imshow((predict3[0].masks.masks[25].numpy()*255).astype(\"uint8\"))"
      ],
      "metadata": {
        "colab": {
          "base_uri": "https://localhost:8080/",
          "height": 386
        },
        "id": "FW0Pf_HoS6eQ",
        "outputId": "c66a3bf6-5278-4466-f1c2-6ed5a025cd6a"
      },
      "execution_count": 80,
      "outputs": [
        {
          "output_type": "stream",
          "name": "stderr",
          "text": [
            "WARNING ⚠️ 'Masks.masks' is deprecated. Use 'Masks.data' instead.\n"
          ]
        },
        {
          "output_type": "display_data",
          "data": {
            "text/plain": [
              "<PIL.Image.Image image mode=L size=640x352 at 0x7E50DA3B0B50>"
            ],
            "image/png": "[encoded data removed]"
          },
          "metadata": {}
        }
      ]
    },
    {
      "cell_type": "code",
      "source": [
        "cv2_imshow((predict3[0].masks.masks[26].numpy()*255).astype(\"uint8\"))"
      ],
      "metadata": {
        "colab": {
          "base_uri": "https://localhost:8080/",
          "height": 386
        },
        "id": "lA7IDqfbS6bx",
        "outputId": "b385af63-1961-4237-a432-9586f929ab94"
      },
      "execution_count": 81,
      "outputs": [
        {
          "output_type": "stream",
          "name": "stderr",
          "text": [
            "WARNING ⚠️ 'Masks.masks' is deprecated. Use 'Masks.data' instead.\n"
          ]
        },
        {
          "output_type": "display_data",
          "data": {
            "text/plain": [
              "<PIL.Image.Image image mode=L size=640x352 at 0x7E50DA3B0D30>"
            ],
            "image/png": "[encoded data removed]"
          },
          "metadata": {}
        }
      ]
    },
    {
      "cell_type": "code",
      "source": [
        "cv2_imshow((predict3[0].masks.masks[27].numpy()*255).astype(\"uint8\"))"
      ],
      "metadata": {
        "colab": {
          "base_uri": "https://localhost:8080/",
          "height": 386
        },
        "id": "X5atbTnKS6aU",
        "outputId": "b96396f5-4622-4141-a751-1b864f275679"
      },
      "execution_count": 82,
      "outputs": [
        {
          "output_type": "stream",
          "name": "stderr",
          "text": [
            "WARNING ⚠️ 'Masks.masks' is deprecated. Use 'Masks.data' instead.\n"
          ]
        },
        {
          "output_type": "display_data",
          "data": {
            "text/plain": [
              "<PIL.Image.Image image mode=L size=640x352 at 0x7E50DA3B3310>"
            ],
            "image/png": "[encoded data removed]"
          },
          "metadata": {}
        }
      ]
    },
    {
      "cell_type": "code",
      "source": [
        "cv2_imshow((predict3[0].masks.masks[28].numpy()*255).astype(\"uint8\"))"
      ],
      "metadata": {
        "colab": {
          "base_uri": "https://localhost:8080/",
          "height": 386
        },
        "id": "8i31nCnJS6X2",
        "outputId": "52afa9fd-aace-496a-bba4-c48cf423be9d"
      },
      "execution_count": 83,
      "outputs": [
        {
          "output_type": "stream",
          "name": "stderr",
          "text": [
            "WARNING ⚠️ 'Masks.masks' is deprecated. Use 'Masks.data' instead.\n"
          ]
        },
        {
          "output_type": "display_data",
          "data": {
            "text/plain": [
              "<PIL.Image.Image image mode=L size=640x352 at 0x7E50DA3B15A0>"
            ],
            "image/png": "[encoded data removed]"
          },
          "metadata": {}
        }
      ]
    },
    {
      "cell_type": "code",
      "source": [
        "cv2_imshow((predict3[0].masks.masks[29].numpy()*255).astype(\"uint8\"))"
      ],
      "metadata": {
        "colab": {
          "base_uri": "https://localhost:8080/",
          "height": 386
        },
        "id": "jgYScBQTS6VA",
        "outputId": "5d3ea7e1-6f24-4b1e-ecd7-675b88f4e4cd"
      },
      "execution_count": 84,
      "outputs": [
        {
          "output_type": "stream",
          "name": "stderr",
          "text": [
            "WARNING ⚠️ 'Masks.masks' is deprecated. Use 'Masks.data' instead.\n"
          ]
        },
        {
          "output_type": "display_data",
          "data": {
            "text/plain": [
              "<PIL.Image.Image image mode=L size=640x352 at 0x7E50DA3B3AC0>"
            ],
            "image/png": "[encoded data removed]"
          },
          "metadata": {}
        }
      ]
    },
    {
      "cell_type": "code",
      "source": [
        "cv2_imshow((predict3[0].masks.masks[30].numpy()*255).astype(\"uint8\"))"
      ],
      "metadata": {
        "colab": {
          "base_uri": "https://localhost:8080/",
          "height": 386
        },
        "id": "ciq_u735S6SB",
        "outputId": "af98533a-33f0-4c27-8696-79839cd731aa"
      },
      "execution_count": 85,
      "outputs": [
        {
          "output_type": "stream",
          "name": "stderr",
          "text": [
            "WARNING ⚠️ 'Masks.masks' is deprecated. Use 'Masks.data' instead.\n"
          ]
        },
        {
          "output_type": "display_data",
          "data": {
            "text/plain": [
              "<PIL.Image.Image image mode=L size=640x352 at 0x7E50DA3B0850>"
            ],
            "image/png": "[encoded data removed]"
          },
          "metadata": {}
        }
      ]
    },
    {
      "cell_type": "code",
      "source": [
        "cv2_imshow((predict3[0].masks.masks[31].numpy()*255).astype(\"uint8\"))"
      ],
      "metadata": {
        "colab": {
          "base_uri": "https://localhost:8080/",
          "height": 386
        },
        "id": "2uxaqlkcS6Pf",
        "outputId": "aefdd74b-fcd5-4035-978e-3accb5f27851"
      },
      "execution_count": 86,
      "outputs": [
        {
          "output_type": "stream",
          "name": "stderr",
          "text": [
            "WARNING ⚠️ 'Masks.masks' is deprecated. Use 'Masks.data' instead.\n"
          ]
        },
        {
          "output_type": "display_data",
          "data": {
            "text/plain": [
              "<PIL.Image.Image image mode=L size=640x352 at 0x7E50DA3B1B70>"
            ],
            "image/png": "[encoded data removed]"
          },
          "metadata": {}
        }
      ]
    },
    {
      "cell_type": "code",
      "source": [
        "cv2_imshow((predict3[0].masks.masks[32].numpy()*255).astype(\"uint8\"))"
      ],
      "metadata": {
        "colab": {
          "base_uri": "https://localhost:8080/",
          "height": 386
        },
        "id": "Z5w9KIqeS6My",
        "outputId": "ba394e98-db16-4783-ed1f-89555d309fcd"
      },
      "execution_count": 87,
      "outputs": [
        {
          "output_type": "stream",
          "name": "stderr",
          "text": [
            "WARNING ⚠️ 'Masks.masks' is deprecated. Use 'Masks.data' instead.\n"
          ]
        },
        {
          "output_type": "display_data",
          "data": {
            "text/plain": [
              "<PIL.Image.Image image mode=L size=640x352 at 0x7E50DA3B3430>"
            ],
            "image/png": "[encoded data removed]"
          },
          "metadata": {}
        }
      ]
    },
    {
      "cell_type": "code",
      "source": [
        "cv2_imshow((predict3[0].masks.masks[33].numpy()*255).astype(\"uint8\"))"
      ],
      "metadata": {
        "colab": {
          "base_uri": "https://localhost:8080/",
          "height": 386
        },
        "id": "hGAl5CXiS6Kq",
        "outputId": "d3ec1a05-666b-40b1-dc25-d2c3c115c58e"
      },
      "execution_count": 88,
      "outputs": [
        {
          "output_type": "stream",
          "name": "stderr",
          "text": [
            "WARNING ⚠️ 'Masks.masks' is deprecated. Use 'Masks.data' instead.\n"
          ]
        },
        {
          "output_type": "display_data",
          "data": {
            "text/plain": [
              "<PIL.Image.Image image mode=L size=640x352 at 0x7E50DA3B2740>"
            ],
            "image/png": "[encoded data removed]"
          },
          "metadata": {}
        }
      ]
    },
    {
      "cell_type": "code",
      "source": [
        "cv2_imshow((predict3[0].masks.masks[34].numpy()*255).astype(\"uint8\"))"
      ],
      "metadata": {
        "colab": {
          "base_uri": "https://localhost:8080/",
          "height": 386
        },
        "id": "haQBpXuaS6H8",
        "outputId": "6138ee64-e26e-4ac6-a349-f5bf8b965cd8"
      },
      "execution_count": 89,
      "outputs": [
        {
          "output_type": "stream",
          "name": "stderr",
          "text": [
            "WARNING ⚠️ 'Masks.masks' is deprecated. Use 'Masks.data' instead.\n"
          ]
        },
        {
          "output_type": "display_data",
          "data": {
            "text/plain": [
              "<PIL.Image.Image image mode=L size=640x352 at 0x7E50DA3B0CD0>"
            ],
            "image/png": "[encoded data removed]"
          },
          "metadata": {}
        }
      ]
    },
    {
      "cell_type": "code",
      "source": [
        "cv2_imshow((predict3[0].masks.masks[35].numpy()*255).astype(\"uint8\"))"
      ],
      "metadata": {
        "colab": {
          "base_uri": "https://localhost:8080/",
          "height": 386
        },
        "id": "rw5teUeHS6Fe",
        "outputId": "45d7db5a-4f7e-462e-cca3-810005ad4ce6"
      },
      "execution_count": 90,
      "outputs": [
        {
          "output_type": "stream",
          "name": "stderr",
          "text": [
            "WARNING ⚠️ 'Masks.masks' is deprecated. Use 'Masks.data' instead.\n"
          ]
        },
        {
          "output_type": "display_data",
          "data": {
            "text/plain": [
              "<PIL.Image.Image image mode=L size=640x352 at 0x7E50DAF808B0>"
            ],
            "image/png": "[encoded data removed]"
          },
          "metadata": {}
        }
      ]
    },
    {
      "cell_type": "code",
      "source": [
        "cv2_imshow((predict3[0].masks.masks[36].numpy()*255).astype(\"uint8\"))"
      ],
      "metadata": {
        "colab": {
          "base_uri": "https://localhost:8080/",
          "height": 386
        },
        "id": "_S_xFbibTNNa",
        "outputId": "bc4c6508-bb40-41ad-b5b2-18bb112544bb"
      },
      "execution_count": 91,
      "outputs": [
        {
          "output_type": "stream",
          "name": "stderr",
          "text": [
            "WARNING ⚠️ 'Masks.masks' is deprecated. Use 'Masks.data' instead.\n"
          ]
        },
        {
          "output_type": "display_data",
          "data": {
            "text/plain": [
              "<PIL.Image.Image image mode=L size=640x352 at 0x7E50DA3B1E10>"
            ],
            "image/png": "[encoded data removed]"
          },
          "metadata": {}
        }
      ]
    },
    {
      "cell_type": "code",
      "source": [
        "cv2_imshow((predict3[0].masks.masks[37].numpy()*255).astype(\"uint8\"))"
      ],
      "metadata": {
        "colab": {
          "base_uri": "https://localhost:8080/",
          "height": 386
        },
        "id": "tPaPUCfZTNJ-",
        "outputId": "94cd11ec-8340-4b9d-8099-e5cc8cc0399f"
      },
      "execution_count": 92,
      "outputs": [
        {
          "output_type": "stream",
          "name": "stderr",
          "text": [
            "WARNING ⚠️ 'Masks.masks' is deprecated. Use 'Masks.data' instead.\n"
          ]
        },
        {
          "output_type": "display_data",
          "data": {
            "text/plain": [
              "<PIL.Image.Image image mode=L size=640x352 at 0x7E50DA3B2830>"
            ],
            "image/png": "[encoded data removed]"
          },
          "metadata": {}
        }
      ]
    },
    {
      "cell_type": "code",
      "source": [
        "cv2_imshow((predict3[0].masks.masks[38].numpy()*255).astype(\"uint8\"))"
      ],
      "metadata": {
        "colab": {
          "base_uri": "https://localhost:8080/",
          "height": 386
        },
        "id": "Vrslfs-8TNHq",
        "outputId": "bc55107f-936c-475b-c51e-71f12b0205d4"
      },
      "execution_count": 93,
      "outputs": [
        {
          "output_type": "stream",
          "name": "stderr",
          "text": [
            "WARNING ⚠️ 'Masks.masks' is deprecated. Use 'Masks.data' instead.\n"
          ]
        },
        {
          "output_type": "display_data",
          "data": {
            "text/plain": [
              "<PIL.Image.Image image mode=L size=640x352 at 0x7E50DA3B0DF0>"
            ],
            "image/png": "[encoded data removed]"
          },
          "metadata": {}
        }
      ]
    },
    {
      "cell_type": "code",
      "source": [
        "cv2_imshow((predict3[0].masks.masks[39].numpy()*255).astype(\"uint8\"))"
      ],
      "metadata": {
        "colab": {
          "base_uri": "https://localhost:8080/",
          "height": 386
        },
        "id": "6jliIb1sTNFo",
        "outputId": "617e845a-acdd-4d7d-b15e-01602b78043e"
      },
      "execution_count": 94,
      "outputs": [
        {
          "output_type": "stream",
          "name": "stderr",
          "text": [
            "WARNING ⚠️ 'Masks.masks' is deprecated. Use 'Masks.data' instead.\n"
          ]
        },
        {
          "output_type": "display_data",
          "data": {
            "text/plain": [
              "<PIL.Image.Image image mode=L size=640x352 at 0x7E50DA3B2830>"
            ],
            "image/png": "[encoded data removed]"
          },
          "metadata": {}
        }
      ]
    },
    {
      "cell_type": "code",
      "source": [
        "type(predict3[0].masks.segments)"
      ],
      "metadata": {
        "colab": {
          "base_uri": "https://localhost:8080/"
        },
        "id": "IEz-s0_HTm0-",
        "outputId": "da12cb57-e07c-42a7-a26c-eaabb33d2050"
      },
      "execution_count": 97,
      "outputs": [
        {
          "output_type": "stream",
          "name": "stderr",
          "text": [
            "WARNING ⚠️ 'Masks.segments' is deprecated. Use 'Masks.xyn' for segments (normalized) and 'Masks.xy' for segments (pixels) instead.\n"
          ]
        },
        {
          "output_type": "execute_result",
          "data": {
            "text/plain": [
              "list"
            ]
          },
          "metadata": {},
          "execution_count": 97
        }
      ]
    },
    {
      "cell_type": "code",
      "source": [
        "len(predict3[0].masks.segments)"
      ],
      "metadata": {
        "colab": {
          "base_uri": "https://localhost:8080/"
        },
        "id": "bjI3UftbTupL",
        "outputId": "c5bbbd5b-8481-4977-8705-5f3b1bffeb36"
      },
      "execution_count": 98,
      "outputs": [
        {
          "output_type": "execute_result",
          "data": {
            "text/plain": [
              "40"
            ]
          },
          "metadata": {},
          "execution_count": 98
        }
      ]
    },
    {
      "cell_type": "code",
      "source": [
        "predict3[0].masks.segments[0].shape"
      ],
      "metadata": {
        "colab": {
          "base_uri": "https://localhost:8080/"
        },
        "id": "uC4dfxHuTulm",
        "outputId": "47c0a167-bb90-4281-956d-c09b8d7f6491"
      },
      "execution_count": 99,
      "outputs": [
        {
          "output_type": "execute_result",
          "data": {
            "text/plain": [
              "(109, 2)"
            ]
          },
          "metadata": {},
          "execution_count": 99
        }
      ]
    },
    {
      "cell_type": "code",
      "source": [
        "H,W,_=cv2.imread(\"/content/12ab.jpg\").shape"
      ],
      "metadata": {
        "id": "-GqNbYoaTuiw"
      },
      "execution_count": 100,
      "outputs": []
    },
    {
      "cell_type": "code",
      "source": [
        "X=(predict3[0].masks.segments[0][:,0]*W).astype(\"int\")\n",
        "Y=(predict3[0].masks.segments[0][:,1]*H).astype(\"int\")"
      ],
      "metadata": {
        "colab": {
          "base_uri": "https://localhost:8080/"
        },
        "id": "rjFVSF8RTuga",
        "outputId": "18770e33-b0f4-4f66-fd6c-2453dedaa486"
      },
      "execution_count": 103,
      "outputs": [
        {
          "output_type": "stream",
          "name": "stderr",
          "text": [
            "WARNING ⚠️ 'Masks.segments' is deprecated. Use 'Masks.xyn' for segments (normalized) and 'Masks.xy' for segments (pixels) instead.\n"
          ]
        }
      ]
    },
    {
      "cell_type": "code",
      "source": [
        "blk=np.zeros((H,W))\n",
        "blk[Y,X]=255\n",
        "cv2_imshow(blk.astype(\"uint8\"))"
      ],
      "metadata": {
        "colab": {
          "base_uri": "https://localhost:8080/",
          "height": 590
        },
        "id": "2C2pGUY7TuMQ",
        "outputId": "85fab790-c43a-41c6-93ca-7436ed4686ff"
      },
      "execution_count": 104,
      "outputs": [
        {
          "output_type": "display_data",
          "data": {
            "text/plain": [
              "<PIL.Image.Image image mode=L size=1380x728 at 0x7E50DA3B3430>"
            ],
            "image/png": "[encoded data removed]"
          },
          "metadata": {}
        }
      ]
    },
    {
      "cell_type": "code",
      "source": [
        "label=open(\"/content/runs/segment/predict/labels/12ab.txt\",\"r\").readlines()"
      ],
      "metadata": {
        "id": "p4S2kCvTUBQp"
      },
      "execution_count": 105,
      "outputs": []
    },
    {
      "cell_type": "code",
      "source": [
        "label"
      ],
      "metadata": {
        "colab": {
          "base_uri": "https://localhost:8080/"
        },
        "id": "jChqI0rOUGoO",
        "outputId": "a0074ee2-2154-468f-98c1-d79a5fa131e9"
      },
      "execution_count": 106,
      "outputs": [
        {
          "output_type": "execute_result",
          "data": {
            "text/plain": [
              "['2 0.465625 0.843578 0.464063 0.84654 0.459375 0.84654 0.457812 0.849502 0.454688 0.849502 0.453125 0.852464 0.451562 0.852464 0.45 0.855426 0.446875 0.855426 0.445312 0.858388 0.442187 0.858388 0.440625 0.86135 0.439063 0.86135 0.4375 0.864311 0.435937 0.864311 0.434375 0.867273 0.432813 0.867273 0.43125 0.870235 0.429688 0.870235 0.428125 0.873197 0.426562 0.873197 0.425 0.876159 0.423438 0.876159 0.421875 0.879121 0.420312 0.879121 0.41875 0.882083 0.4125 0.882083 0.410937 0.885045 0.404687 0.885045 0.403125 0.888006 0.396875 0.888006 0.395312 0.890968 0.390625 0.890968 0.389062 0.89393 0.389062 0.90874 0.390625 0.911702 0.390625 0.920587 0.389062 0.923549 0.389062 0.935397 0.3875 0.938358 0.3875 0.979825 0.392188 0.98871 0.392188 0.991672 0.39375 0.991672 0.395312 0.994634 0.396875 0.994634 0.398438 0.997596 0.425 0.997596 0.426562 0.994634 0.640625 0.994634 0.642187 0.991672 0.689062 0.991672 0.690625 0.98871 0.690625 0.985749 0.692187 0.982787 0.692187 0.976863 0.69375 0.973901 0.69375 0.970939 0.695312 0.967977 0.695312 0.95613 0.69375 0.953168 0.69375 0.947244 0.692187 0.944282 0.692187 0.94132 0.6875 0.932435 0.6875 0.929473 0.68125 0.917625 0.679688 0.917625 0.678125 0.914663 0.675 0.914663 0.673437 0.911702 0.671875 0.911702 0.670313 0.90874 0.66875 0.90874 0.667188 0.905778 0.659375 0.905778 0.657812 0.902816 0.651563 0.902816 0.65 0.899854 0.646875 0.899854 0.645312 0.896892 0.640625 0.896892 0.639063 0.89393 0.629687 0.89393 0.628125 0.890968 0.620313 0.890968 0.61875 0.888006 0.615625 0.888006 0.614062 0.885045 0.6125 0.885045 0.610937 0.882083 0.609375 0.882083 0.607813 0.879121 0.603125 0.879121 0.601562 0.876159 0.6 0.876159 0.596875 0.870235 0.59375 0.870235 0.592188 0.867273 0.584375 0.867273 0.582812 0.864311 0.58125 0.864311 0.578125 0.858388 0.576563 0.858388 0.575 0.855426 0.570312 0.855426 0.565625 0.84654 0.5625 0.84654 0.560938 0.843578\\n',\n",
              " '2 0.665625 0.511848 0.6625 0.517771 0.6625 0.606628 0.664062 0.60959 0.664062 0.612552 0.665625 0.615513 0.667188 0.615513 0.66875 0.612552 0.689062 0.612552 0.690625 0.60959 0.709375 0.60959 0.710938 0.612552 0.7125 0.612552 0.714063 0.615513 0.715625 0.615513 0.717188 0.618475 0.726562 0.618475 0.728125 0.615513 0.728125 0.612552 0.729688 0.60959 0.729688 0.571085 0.728125 0.568123 0.728125 0.5622 0.725 0.556276 0.725 0.553314 0.723437 0.550352 0.723437 0.541466 0.71875 0.532581 0.71875 0.529619 0.717188 0.526657 0.717188 0.523695 0.715625 0.520733 0.715625 0.517771 0.714063 0.514809 0.7125 0.514809 0.710938 0.511848\\n',\n",
              " '2 0.325 0.523695 0.323438 0.526657 0.321875 0.526657 0.3125 0.544428 0.3125 0.54739 0.310937 0.550352 0.310937 0.553314 0.30625 0.5622 0.30625 0.565161 0.3 0.577009 0.3 0.579971 0.298438 0.582933 0.298438 0.600704 0.295312 0.606628 0.295312 0.60959 0.29375 0.612552 0.29375 0.695484 0.295312 0.698446 0.295312 0.701408 0.296875 0.70437 0.298438 0.70437 0.3 0.707332 0.304688 0.707332 0.30625 0.70437 0.307813 0.70437 0.309375 0.701408 0.310937 0.701408 0.314063 0.695484 0.315625 0.695484 0.31875 0.68956 0.329688 0.68956 0.33125 0.686599 0.371875 0.686599 0.373437 0.68956 0.376563 0.68956 0.378125 0.692522 0.390625 0.692522 0.392188 0.68956 0.395312 0.68956 0.396875 0.686599 0.4 0.686599 0.401563 0.683637 0.403125 0.683637 0.403125 0.680675 0.404687 0.677713 0.404687 0.668827 0.40625 0.665865 0.40625 0.648094 0.407813 0.645132 0.407813 0.606628 0.40625 0.603666 0.40625 0.588856 0.404687 0.585895 0.404687 0.574047 0.403125 0.571085 0.403125 0.568123 0.401563 0.568123 0.4 0.565161 0.4 0.5622 0.398438 0.559238 0.398438 0.556276 0.396875 0.553314 0.396875 0.541466 0.392188 0.532581 0.392188 0.529619 0.390625 0.526657 0.384375 0.526657 0.382812 0.523695\\n',\n",
              " '7 0.80625 0.54739 0.804688 0.550352 0.801562 0.550352 0.8 0.553314 0.8 0.615513 0.798437 0.618475 0.798437 0.621437 0.8 0.624399 0.8 0.633285 0.801562 0.636247 0.801562 0.651056 0.8 0.654018 0.8 0.668827 0.798437 0.671789 0.798437 0.68956 0.796875 0.692522 0.796875 0.707332 0.795313 0.710294 0.795313 0.719179 0.79375 0.722141 0.79375 0.731027 0.792188 0.733989 0.792188 0.739912 0.790625 0.742874 0.790625 0.75176 0.789062 0.754722 0.789062 0.778417 0.790625 0.781379 0.790625 0.793226 0.792188 0.796188 0.792188 0.802112 0.79375 0.805074 0.79375 0.808036 0.798437 0.816921 0.8 0.816921 0.807813 0.831731 0.817187 0.831731 0.81875 0.828769 0.821875 0.828769 0.823438 0.825807 0.825 0.825807 0.826563 0.822845 0.828125 0.822845 0.829687 0.819883 0.83125 0.819883 0.832812 0.816921 0.8375 0.816921 0.839063 0.813959 0.840625 0.813959 0.840625 0.810997 0.842188 0.808036 0.842188 0.805074 0.84375 0.802112 0.84375 0.79915 0.845312 0.796188 0.848437 0.796188 0.85 0.793226 0.859375 0.793226 0.860937 0.796188 0.865625 0.796188 0.867188 0.793226 0.86875 0.793226 0.871875 0.787302 0.871875 0.784341 0.873438 0.781379 0.873438 0.760646 0.875 0.757684 0.875 0.754722 0.878125 0.748798 0.879687 0.748798 0.88125 0.745836 0.882812 0.745836 0.889063 0.733989 0.896875 0.733989 0.90625 0.75176 0.90625 0.754722 0.907812 0.757684 0.907812 0.760646 0.909375 0.763607 0.909375 0.778417 0.910937 0.781379 0.910937 0.790264 0.9125 0.793226 0.9125 0.822845 0.914062 0.825807 0.914062 0.828769 0.915625 0.831731 0.921875 0.831731 0.923437 0.834693 0.932813 0.834693 0.934375 0.837654 0.942187 0.837654 0.94375 0.834693 0.945312 0.834693 0.946875 0.831731 0.946875 0.828769 0.948438 0.825807 0.948438 0.790264 0.95 0.787302 0.95 0.784341 0.951563 0.781379 0.951563 0.778417 0.953125 0.775455 0.953125 0.760646 0.951563 0.757684 0.951563 0.75176 0.95 0.748798 0.95 0.736951 0.948438 0.733989 0.948438 0.674751 0.946875 0.671789 0.946875 0.600704 0.945312 0.597742 0.945312 0.571085 0.94375 0.568123 0.94375 0.565161 0.939062 0.556276 0.9375 0.556276 0.934375 0.550352 0.929688 0.550352 0.928125 0.54739\\n',\n",
              " '2 0.334375 0.701408 0.332812 0.70437 0.33125 0.70437 0.326562 0.713255 0.326562 0.716217 0.325 0.719179 0.325 0.748798 0.326562 0.75176 0.326562 0.760646 0.329688 0.766569 0.329688 0.772493 0.33125 0.775455 0.33125 0.778417 0.335938 0.787302 0.335938 0.790264 0.3375 0.793226 0.3375 0.796188 0.339063 0.79915 0.339063 0.810997 0.3375 0.813959 0.3375 0.816921 0.335938 0.819883 0.335938 0.825807 0.334375 0.828769 0.334375 0.831731 0.332812 0.834693 0.332812 0.852464 0.334375 0.855426 0.334375 0.870235 0.335938 0.873197 0.335938 0.885045 0.3375 0.888006 0.3375 0.90874 0.339063 0.911702 0.339063 0.917625 0.340625 0.920587 0.342187 0.920587 0.34375 0.923549 0.345313 0.923549 0.346875 0.926511 0.357812 0.926511 0.359375 0.923549 0.390625 0.923549 0.392188 0.920587 0.392188 0.917625 0.39375 0.914663 0.39375 0.911702 0.395312 0.90874 0.395312 0.896892 0.4 0.888006 0.401563 0.888006 0.403125 0.885045 0.407813 0.885045 0.409375 0.882083 0.417188 0.882083 0.41875 0.879121 0.420312 0.879121 0.421875 0.876159 0.426562 0.876159 0.429688 0.870235 0.43125 0.870235 0.432813 0.867273 0.434375 0.867273 0.435937 0.864311 0.439063 0.864311 0.440625 0.86135 0.442187 0.86135 0.44375 0.858388 0.445312 0.858388 0.446875 0.855426 0.448438 0.855426 0.45 0.852464 0.453125 0.852464 0.454688 0.849502 0.457812 0.849502 0.459375 0.84654 0.460938 0.84654 0.464063 0.840616 0.465625 0.840616 0.467187 0.837654 0.476562 0.837654 0.478125 0.834693 0.476562 0.831731 0.476562 0.825807 0.475 0.822845 0.473437 0.822845 0.46875 0.813959 0.46875 0.810997 0.467187 0.808036 0.467187 0.796188 0.46875 0.793226 0.46875 0.790264 0.471875 0.784341 0.471875 0.775455 0.470313 0.772493 0.467187 0.772493 0.465625 0.769531 0.460938 0.769531 0.459375 0.766569 0.457812 0.766569 0.45625 0.763607 0.45625 0.757684 0.454688 0.754722 0.454688 0.745836 0.453125 0.742874 0.453125 0.739912 0.45 0.733989 0.45 0.728065 0.448438 0.725103 0.448438 0.719179 0.446875 0.716217 0.446875 0.713255 0.442187 0.70437 0.440625 0.70437 0.439063 0.701408\\n',\n",
              " '2 0.215625 0.523695 0.214062 0.526657 0.209375 0.526657 0.20625 0.532581 0.20625 0.535543 0.204688 0.538504 0.204688 0.544428 0.201562 0.550352 0.201562 0.556276 0.2 0.559238 0.2 0.5622 0.195312 0.571085 0.195312 0.574047 0.19375 0.577009 0.19375 0.579971 0.192188 0.582933 0.190625 0.582933 0.1875 0.588856 0.1875 0.591818 0.184375 0.597742 0.184375 0.600704 0.182812 0.603666 0.182812 0.60959 0.18125 0.612552 0.18125 0.651056 0.182812 0.654018 0.182812 0.659942 0.184375 0.662903 0.185937 0.662903 0.192188 0.674751 0.19375 0.674751 0.195312 0.677713 0.196875 0.677713 0.196875 0.674751 0.198437 0.671789 0.198437 0.588856 0.2 0.585895 0.2 0.582933 0.201562 0.579971 0.203125 0.579971 0.204688 0.582933 0.204688 0.588856 0.20625 0.591818 0.20625 0.600704 0.207813 0.603666 0.207813 0.606628 0.209375 0.60959 0.209375 0.624399 0.210938 0.627361 0.210938 0.662903 0.2125 0.665865 0.2125 0.671789 0.214062 0.674751 0.215625 0.674751 0.217187 0.671789 0.221875 0.671789 0.223438 0.668827 0.228125 0.668827 0.229687 0.665865 0.257812 0.665865 0.265625 0.680675 0.267188 0.680675 0.26875 0.683637 0.278125 0.683637 0.282813 0.674751 0.284375 0.674751 0.285937 0.671789 0.285937 0.665865 0.2875 0.662903 0.2875 0.639208 0.285937 0.636247 0.285937 0.627361 0.284375 0.624399 0.284375 0.621437 0.28125 0.615513 0.28125 0.60959 0.279687 0.606628 0.279687 0.59478 0.278125 0.591818 0.278125 0.588856 0.276563 0.585895 0.276563 0.582933 0.275 0.579971 0.275 0.577009 0.273438 0.574047 0.275 0.571085 0.275 0.5622 0.26875 0.550352 0.26875 0.54739 0.267188 0.544428 0.267188 0.541466 0.260938 0.529619 0.260938 0.526657 0.257812 0.526657 0.25625 0.523695\\n',\n",
              " '0 0.876562 0.760646 0.875 0.763607 0.875 0.787302 0.873438 0.790264 0.873438 0.793226 0.870313 0.79915 0.870313 0.825807 0.871875 0.828769 0.871875 0.852464 0.873438 0.855426 0.873438 0.867273 0.875 0.870235 0.875 0.873197 0.873438 0.876159 0.873438 0.890968 0.871875 0.89393 0.871875 0.896892 0.873438 0.899854 0.873438 0.911702 0.875 0.914663 0.875 0.926511 0.873438 0.929473 0.871875 0.929473 0.870313 0.932435 0.870313 0.944282 0.871875 0.947244 0.873438 0.947244 0.873438 0.929473 0.875 0.926511 0.876562 0.926511 0.879687 0.932435 0.879687 0.950206 0.878125 0.953168 0.878125 0.959092 0.876562 0.962053 0.876562 0.965015 0.878125 0.967977 0.88125 0.967977 0.882812 0.970939 0.892187 0.970939 0.89375 0.967977 0.896875 0.967977 0.896875 0.965015 0.898438 0.962053 0.898438 0.920587 0.896875 0.917625 0.896875 0.911702 0.895312 0.90874 0.895312 0.858388 0.896875 0.855426 0.896875 0.816921 0.895312 0.813959 0.895312 0.808036 0.89375 0.805074 0.89375 0.796188 0.892187 0.793226 0.892187 0.781379 0.890625 0.778417 0.890625 0.769531 0.8875 0.763607 0.885938 0.763607 0.884375 0.760646\\n',\n",
              " '2 0.0890625 0.84654 0.0875 0.849502 0.0734375 0.849502 0.071875 0.852464 0.06875 0.852464 0.0671875 0.849502 0.0640625 0.849502 0.0625 0.852464 0.0578125 0.852464 0.05625 0.855426 0.0484375 0.855426 0.046875 0.858388 0.0421875 0.858388 0.0390625 0.864311 0.0390625 0.867273 0.0375 0.870235 0.0375 0.873197 0.0328125 0.882083 0.0328125 0.885045 0.03125 0.888006 0.03125 0.89393 0.0296875 0.896892 0.0296875 0.899854 0.0265625 0.905778 0.0265625 0.911702 0.025 0.914663 0.025 0.932435 0.0234375 0.935397 0.0234375 0.947244 0.021875 0.950206 0.021875 0.95613 0.0203125 0.959092 0.0203125 0.991672 0.021875 0.994634 0.021875 0.997596 0.0234375 1 0.0453125 1 0.046875 0.997596 0.0546875 0.997596 0.05625 0.994634 0.08125 0.994634 0.0828125 0.997596 0.0953125 0.997596 0.096875 0.994634 0.129688 0.994634 0.13125 0.991672 0.160938 0.991672 0.1625 0.994634 0.176563 0.994634 0.178125 0.991672 0.1875 0.991672 0.189063 0.98871 0.190625 0.98871 0.192188 0.991672 0.196875 0.991672 0.196875 0.982787 0.195312 0.979825 0.195312 0.965015 0.2 0.95613 0.2 0.953168 0.201562 0.950206 0.201562 0.94132 0.203125 0.938358 0.203125 0.929473 0.201562 0.926511 0.201562 0.923549 0.2 0.920587 0.2 0.885045 0.201562 0.882083 0.201562 0.86135 0.198437 0.855426 0.192188 0.855426 0.190625 0.852464 0.178125 0.852464 0.175 0.858388 0.175 0.864311 0.173438 0.867273 0.173438 0.882083 0.171875 0.885045 0.171875 0.888006 0.167187 0.896892 0.165625 0.896892 0.164062 0.899854 0.157813 0.899854 0.154687 0.89393 0.153125 0.89393 0.15 0.888006 0.15 0.882083 0.148438 0.879121 0.148438 0.858388 0.146875 0.855426 0.146875 0.849502 0.145313 0.84654\\n',\n",
              " '0 0.3125 0.748798 0.310937 0.75176 0.309375 0.75176 0.307813 0.754722 0.307813 0.760646 0.30625 0.763607 0.30625 0.879121 0.307813 0.882083 0.307813 0.885045 0.30625 0.888006 0.30625 0.90874 0.307813 0.911702 0.315625 0.911702 0.320312 0.920587 0.321875 0.920587 0.323438 0.917625 0.323438 0.885045 0.325 0.882083 0.325 0.86135 0.326562 0.858388 0.326562 0.849502 0.328125 0.84654 0.328125 0.840616 0.329688 0.837654 0.329688 0.831731 0.33125 0.828769 0.33125 0.819883 0.334375 0.813959 0.335938 0.813959 0.3375 0.810997 0.3375 0.802112 0.335938 0.79915 0.335938 0.796188 0.334375 0.793226 0.334375 0.790264 0.33125 0.784341 0.33125 0.781379 0.329688 0.778417 0.329688 0.775455 0.328125 0.772493 0.328125 0.763607 0.326562 0.760646 0.326562 0.757684 0.321875 0.748798\\n',\n",
              " '0 0.564062 0.736951 0.5625 0.739912 0.5625 0.772493 0.564062 0.775455 0.564062 0.805074 0.565625 0.808036 0.565625 0.825807 0.567187 0.828769 0.567187 0.837654 0.56875 0.840616 0.56875 0.849502 0.570312 0.849502 0.571875 0.852464 0.573438 0.852464 0.575 0.855426 0.576563 0.855426 0.578125 0.858388 0.579687 0.858388 0.58125 0.86135 0.584375 0.86135 0.585938 0.864311 0.589063 0.864311 0.590625 0.86135 0.592188 0.86135 0.592188 0.828769 0.595312 0.822845 0.595312 0.816921 0.596875 0.813959 0.596875 0.808036 0.595312 0.805074 0.595312 0.796188 0.592188 0.796188 0.589063 0.790264 0.589063 0.781379 0.5875 0.778417 0.5875 0.775455 0.584375 0.769531 0.584375 0.766569 0.579687 0.757684 0.579687 0.748798 0.578125 0.745836 0.578125 0.739912 0.576563 0.739912 0.575 0.736951\\n',\n",
              " '5 0.301562 0.203812 0.3 0.206774 0.296875 0.206774 0.295312 0.209736 0.295312 0.218621 0.29375 0.221583 0.29375 0.316363 0.295312 0.319325 0.295312 0.328211 0.296875 0.331173 0.298438 0.328211 0.298438 0.325249 0.3 0.322287 0.304688 0.322287 0.310937 0.334135 0.310937 0.34302 0.3125 0.345982 0.3125 0.363753 0.314063 0.366715 0.314063 0.369677 0.31875 0.369677 0.320312 0.366715 0.323438 0.366715 0.325 0.369677 0.334375 0.369677 0.335938 0.366715 0.353125 0.366715 0.354688 0.369677 0.360938 0.369677 0.3625 0.366715 0.370313 0.366715 0.371875 0.363753 0.371875 0.354868 0.373437 0.351906 0.373437 0.325249 0.371875 0.322287 0.371875 0.274897 0.370313 0.271935 0.370313 0.268973 0.36875 0.266011 0.36875 0.263049 0.367188 0.260088 0.367188 0.224545 0.365625 0.221583 0.365625 0.218621 0.364062 0.215659 0.3625 0.215659 0.360938 0.212697 0.359375 0.212697 0.35625 0.206774 0.354688 0.206774 0.353125 0.203812\\n',\n",
              " '0 0.0765625 0.630323 0.075 0.633285 0.0578125 0.633285 0.0578125 0.651056 0.059375 0.651056 0.0609375 0.648094 0.0609375 0.645132 0.0640625 0.639208 0.065625 0.639208 0.06875 0.645132 0.06875 0.648094 0.0671875 0.651056 0.0671875 0.654018 0.0640625 0.659942 0.0625 0.659942 0.0609375 0.662903 0.059375 0.662903 0.0578125 0.665865 0.0578125 0.674751 0.05625 0.677713 0.05625 0.707332 0.0578125 0.710294 0.0578125 0.713255 0.059375 0.716217 0.059375 0.719179 0.0609375 0.722141 0.0609375 0.725103 0.0625 0.728065 0.0625 0.75176 0.0640625 0.754722 0.0640625 0.757684 0.0671875 0.763607 0.0671875 0.772493 0.06875 0.775455 0.06875 0.787302 0.0671875 0.790264 0.0671875 0.816921 0.06875 0.819883 0.0703125 0.819883 0.071875 0.816921 0.075 0.816921 0.078125 0.810997 0.078125 0.802112 0.0796875 0.79915 0.0796875 0.787302 0.0859375 0.775455 0.0859375 0.75176 0.0875 0.748798 0.0875 0.745836 0.0890625 0.742874 0.0890625 0.739912 0.090625 0.736951 0.090625 0.733989 0.0921875 0.731027 0.0921875 0.713255 0.09375 0.710294 0.09375 0.68956 0.0921875 0.686599 0.0921875 0.671789 0.0796875 0.648094 0.0796875 0.636247\\n',\n",
              " '2 0.770312 0.559238 0.76875 0.5622 0.767187 0.5622 0.765625 0.565161 0.765625 0.568123 0.764063 0.571085 0.764063 0.574047 0.7625 0.577009 0.7625 0.585895 0.760938 0.588856 0.760938 0.591818 0.753125 0.606628 0.75 0.606628 0.748438 0.60959 0.746875 0.60959 0.746875 0.636247 0.745313 0.639208 0.745313 0.651056 0.74375 0.654018 0.74375 0.716217 0.745313 0.719179 0.745313 0.722141 0.746875 0.722141 0.75 0.728065 0.75 0.739912 0.751562 0.742874 0.751562 0.745836 0.754687 0.745836 0.75625 0.748798 0.7625 0.748798 0.764063 0.75176 0.765625 0.75176 0.764063 0.748798 0.764063 0.733989 0.7625 0.731027 0.7625 0.725103 0.760938 0.722141 0.760938 0.713255 0.759375 0.710294 0.759375 0.701408 0.757812 0.698446 0.757812 0.692522 0.75625 0.68956 0.75625 0.668827 0.765625 0.651056 0.767187 0.651056 0.76875 0.648094 0.76875 0.645132 0.771875 0.639208 0.771875 0.636247 0.776563 0.627361 0.778125 0.627361 0.779688 0.624399 0.78125 0.624399 0.782812 0.621437 0.784375 0.621437 0.785937 0.618475 0.789062 0.618475 0.790625 0.615513 0.792188 0.615513 0.79375 0.612552 0.795313 0.612552 0.795313 0.60959 0.796875 0.606628 0.796875 0.59478 0.798437 0.591818 0.798437 0.568123 0.8 0.565161 0.796875 0.559238\\n',\n",
              " '0 0.0078125 0.808036 0.00625 0.810997 0.00625 0.979825 0.0078125 0.982787 0.0078125 0.991672 0.015625 0.991672 0.01875 0.985749 0.01875 0.95613 0.0203125 0.953168 0.0203125 0.944282 0.021875 0.94132 0.021875 0.929473 0.0234375 0.926511 0.0234375 0.911702 0.025 0.90874 0.025 0.902816 0.028125 0.896892 0.028125 0.873197 0.0265625 0.870235 0.0265625 0.867273 0.025 0.864311 0.025 0.858388 0.0234375 0.855426 0.0234375 0.843578 0.021875 0.840616 0.021875 0.837654 0.01875 0.831731 0.01875 0.828769 0.0171875 0.825807 0.0171875 0.822845 0.015625 0.819883 0.015625 0.813959 0.0140625 0.810997 0.0109375 0.810997 0.009375 0.808036\\n',\n",
              " '0 0.889063 0.748798 0.8875 0.75176 0.8875 0.757684 0.889063 0.760646 0.889063 0.769531 0.890625 0.772493 0.890625 0.775455 0.892187 0.778417 0.892187 0.784341 0.89375 0.787302 0.89375 0.79915 0.895312 0.802112 0.895312 0.810997 0.896875 0.813959 0.896875 0.828769 0.898438 0.831731 0.898438 0.843578 0.896875 0.84654 0.896875 0.873197 0.898438 0.876159 0.898438 0.896892 0.9 0.899854 0.9 0.90874 0.901563 0.911702 0.903125 0.911702 0.904688 0.914663 0.904688 0.917625 0.90625 0.920587 0.90625 0.935397 0.904688 0.938358 0.904688 0.944282 0.901563 0.950206 0.901563 0.95613 0.903125 0.95613 0.904688 0.959092 0.914062 0.959092 0.917188 0.953168 0.917188 0.926511 0.915625 0.923549 0.915625 0.917625 0.9125 0.911702 0.9125 0.90874 0.910937 0.905778 0.910937 0.876159 0.909375 0.873197 0.909375 0.855426 0.910937 0.852464 0.910937 0.822845 0.909375 0.819883 0.909375 0.793226 0.907812 0.790264 0.907812 0.784341 0.90625 0.781379 0.90625 0.760646 0.904688 0.757684 0.904688 0.754722 0.901563 0.748798\\n',\n",
              " '2 0.385938 0.239354 0.384375 0.242316 0.382812 0.242316 0.382812 0.24824 0.38125 0.251202 0.38125 0.292668 0.382812 0.29563 0.382812 0.298592 0.384375 0.301554 0.385938 0.298592 0.389062 0.298592 0.390625 0.29563 0.403125 0.29563 0.404687 0.292668 0.407813 0.292668 0.409375 0.29563 0.410937 0.29563 0.414062 0.301554 0.414062 0.304516 0.425 0.304516 0.426562 0.301554 0.428125 0.301554 0.428125 0.29563 0.429688 0.292668 0.429688 0.268973 0.428125 0.266011 0.428125 0.263049 0.425 0.257126 0.425 0.254164 0.423438 0.251202 0.423438 0.24824 0.421875 0.245278 0.421875 0.242316 0.420312 0.242316 0.41875 0.239354\\n',\n",
              " '2 0.520312 0.298592 0.51875 0.301554 0.517187 0.301554 0.5125 0.31044 0.5125 0.316363 0.501562 0.337096 0.501562 0.340058 0.5 0.34302 0.5 0.381525 0.501562 0.384487 0.501562 0.387448 0.503125 0.387448 0.504687 0.39041 0.510938 0.39041 0.5125 0.393372 0.514063 0.393372 0.515625 0.396334 0.517187 0.393372 0.528125 0.393372 0.532812 0.384487 0.534375 0.384487 0.535937 0.381525 0.540625 0.381525 0.542188 0.378563 0.545313 0.378563 0.546875 0.375601 0.554688 0.375601 0.55625 0.372639 0.560938 0.372639 0.5625 0.369677 0.567187 0.369677 0.56875 0.366715 0.570312 0.366715 0.573438 0.360792 0.573438 0.354868 0.575 0.351906 0.575 0.331173 0.573438 0.328211 0.573438 0.319325 0.571875 0.316363 0.571875 0.31044 0.570312 0.307478 0.570312 0.304516 0.56875 0.301554 0.567187 0.301554 0.565625 0.298592\\n',\n",
              " '0 0.389062 0.322287 0.3875 0.325249 0.3875 0.408182 0.389062 0.411144 0.389062 0.414105 0.390625 0.417067 0.392188 0.417067 0.395312 0.422991 0.396875 0.422991 0.396875 0.417067 0.398438 0.414105 0.398438 0.375601 0.4 0.372639 0.4 0.348944 0.398438 0.345982 0.398438 0.328211 0.395312 0.322287\\n',\n",
              " '0 0.101562 0.701408 0.1 0.70437 0.1 0.796188 0.101562 0.79915 0.101562 0.808036 0.103125 0.810997 0.103125 0.813959 0.10625 0.813959 0.107813 0.816921 0.115625 0.816921 0.117188 0.813959 0.11875 0.813959 0.120312 0.810997 0.121875 0.810997 0.121875 0.808036 0.123438 0.805074 0.123438 0.796188 0.125 0.793226 0.125 0.787302 0.123438 0.784341 0.123438 0.766569 0.11875 0.757684 0.11875 0.754722 0.117188 0.75176 0.117188 0.719179 0.115625 0.716217 0.117188 0.713255 0.117188 0.70437 0.115625 0.701408\\n',\n",
              " '0 0.046875 0.559238 0.04375 0.565161 0.04375 0.577009 0.0390625 0.585895 0.0390625 0.591818 0.0375 0.59478 0.0375 0.636247 0.0390625 0.639208 0.0390625 0.645132 0.040625 0.648094 0.040625 0.651056 0.0421875 0.654018 0.0421875 0.65698 0.04375 0.659942 0.04375 0.671789 0.0421875 0.674751 0.0421875 0.680675 0.04375 0.683637 0.04375 0.68956 0.046875 0.695484 0.053125 0.695484 0.0578125 0.686599 0.0625 0.695484 0.065625 0.695484 0.0671875 0.698446 0.0703125 0.698446 0.071875 0.695484 0.071875 0.680675 0.0703125 0.677713 0.0703125 0.674751 0.06875 0.674751 0.0671875 0.677713 0.0625 0.677713 0.059375 0.671789 0.059375 0.654018 0.0609375 0.651056 0.0609375 0.64217 0.0625 0.639208 0.0625 0.636247 0.065625 0.630323 0.065625 0.627361 0.06875 0.621437 0.0671875 0.618475 0.0671875 0.612552 0.065625 0.60959 0.065625 0.606628 0.0625 0.600704 0.0625 0.59478 0.0609375 0.591818 0.0609375 0.585895 0.059375 0.582933 0.059375 0.579971 0.05625 0.574047 0.05625 0.5622 0.0546875 0.5622 0.053125 0.559238\\n',\n",
              " '0 0.60625 0.535543 0.604688 0.538504 0.601562 0.538504 0.6 0.541466 0.6 0.544428 0.596875 0.550352 0.596875 0.553314 0.595312 0.556276 0.595312 0.559238 0.59375 0.5622 0.59375 0.585895 0.595312 0.588856 0.595312 0.591818 0.621875 0.591818 0.621875 0.588856 0.623438 0.585895 0.623438 0.579971 0.621875 0.577009 0.621875 0.550352 0.620313 0.550352 0.614062 0.538504 0.6125 0.538504 0.610937 0.535543\\n',\n",
              " '0 0.754687 0.488152 0.753125 0.491114 0.751562 0.491114 0.751562 0.502962 0.75 0.505924 0.75 0.579971 0.751562 0.582933 0.751562 0.591818 0.753125 0.591818 0.754687 0.59478 0.757812 0.59478 0.759375 0.591818 0.759375 0.585895 0.760938 0.582933 0.760938 0.577009 0.7625 0.574047 0.7625 0.571085 0.764063 0.568123 0.764063 0.565161 0.765625 0.5622 0.765625 0.550352 0.767187 0.54739 0.767187 0.520733 0.765625 0.517771 0.765625 0.511848 0.764063 0.508886 0.764063 0.505924 0.7625 0.502962 0.7625 0.491114 0.760938 0.491114 0.759375 0.488152\\n',\n",
              " '0 0.279687 0.286744 0.278125 0.289706 0.276563 0.289706 0.276563 0.292668 0.275 0.29563 0.275 0.337096 0.273438 0.340058 0.273438 0.351906 0.275 0.354868 0.275 0.369677 0.273438 0.372639 0.273438 0.375601 0.270312 0.381525 0.270312 0.384487 0.26875 0.387448 0.26875 0.420029 0.270312 0.422991 0.273438 0.422991 0.273438 0.420029 0.276563 0.414105 0.276563 0.411144 0.279687 0.40522 0.279687 0.402258 0.28125 0.399296 0.28125 0.396334 0.284375 0.39041 0.284375 0.387448 0.285937 0.384487 0.285937 0.372639 0.2875 0.369677 0.2875 0.35783 0.289062 0.354868 0.289062 0.351906 0.290625 0.348944 0.290625 0.34302 0.292188 0.340058 0.292188 0.313401 0.290625 0.31044 0.290625 0.307478 0.2875 0.301554 0.2875 0.29563 0.285937 0.292668 0.285937 0.289706 0.284375 0.286744\\n',\n",
              " '0 0.40625 0.298592 0.404687 0.301554 0.401563 0.301554 0.401563 0.307478 0.4 0.31044 0.4 0.348944 0.401563 0.351906 0.401563 0.375601 0.4 0.378563 0.4 0.396334 0.401563 0.399296 0.401563 0.402258 0.403125 0.40522 0.404687 0.40522 0.40625 0.408182 0.409375 0.408182 0.410937 0.411144 0.415625 0.411144 0.415625 0.396334 0.414062 0.393372 0.414062 0.39041 0.4125 0.387448 0.4125 0.378563 0.410937 0.375601 0.410937 0.372639 0.4125 0.369677 0.4125 0.360792 0.415625 0.354868 0.415625 0.345982 0.417188 0.34302 0.417188 0.334135 0.415625 0.331173 0.415625 0.325249 0.410937 0.316363 0.410937 0.31044 0.4125 0.307478 0.4125 0.301554 0.410937 0.301554 0.409375 0.298592\\n',\n",
              " '0 0.501562 0.40522 0.5 0.408182 0.5 0.425953 0.501562 0.428915 0.501562 0.440762 0.503125 0.443724 0.503125 0.449648 0.504687 0.45261 0.504687 0.470381 0.501562 0.476305 0.501562 0.488152 0.503125 0.491114 0.503125 0.494076 0.50625 0.5 0.50625 0.505924 0.507812 0.508886 0.507812 0.514809 0.509375 0.514809 0.509375 0.511848 0.514063 0.502962 0.515625 0.502962 0.520312 0.511848 0.521875 0.511848 0.521875 0.508886 0.523438 0.505924 0.523438 0.497038 0.521875 0.494076 0.521875 0.461496 0.523438 0.458534 0.523438 0.455572 0.521875 0.45261 0.521875 0.446686 0.51875 0.440762 0.51875 0.4378 0.517187 0.434839 0.517187 0.420029 0.509375 0.40522\\n',\n",
              " '9 0.607813 0.144574 0.60625 0.147536 0.60625 0.218621 0.609375 0.224545 0.614062 0.224545 0.615625 0.221583 0.617188 0.221583 0.617188 0.159384 0.61875 0.156422 0.61875 0.150498 0.615625 0.144574\\n',\n",
              " '2 0.282813 0.0379464 0.28125 0.0409083 0.28125 0.0764509 0.284375 0.0823747 0.2875 0.0823747 0.289062 0.0794128 0.29375 0.0794128 0.295312 0.0764509 0.296875 0.0764509 0.298438 0.073489 0.3 0.073489 0.301562 0.0705271 0.307813 0.0705271 0.310937 0.0646034 0.310937 0.0438702 0.307813 0.0379464\\n',\n",
              " '0 0.028125 0.701408 0.025 0.707332 0.025 0.731027 0.0203125 0.739912 0.0203125 0.748798 0.01875 0.75176 0.01875 0.763607 0.0203125 0.766569 0.0203125 0.772493 0.0234375 0.778417 0.0234375 0.784341 0.025 0.787302 0.025 0.805074 0.0265625 0.808036 0.0265625 0.810997 0.0296875 0.816921 0.0296875 0.822845 0.03125 0.825807 0.03125 0.843578 0.0328125 0.84654 0.0328125 0.852464 0.034375 0.855426 0.04375 0.855426 0.0453125 0.852464 0.053125 0.852464 0.05625 0.84654 0.05625 0.787302 0.059375 0.781379 0.059375 0.775455 0.0609375 0.772493 0.0609375 0.75176 0.05625 0.742874 0.05625 0.739912 0.0546875 0.736951 0.0546875 0.731027 0.05 0.722141 0.0484375 0.722141 0.046875 0.719179 0.046875 0.716217 0.04375 0.710294 0.04375 0.707332 0.0421875 0.70437 0.040625 0.70437 0.0390625 0.701408\\n',\n",
              " '2 0.192188 0.479267 0.190625 0.482229 0.189063 0.482229 0.184375 0.491114 0.184375 0.494076 0.182812 0.497038 0.182812 0.5 0.18125 0.502962 0.18125 0.577009 0.182812 0.579971 0.182812 0.585895 0.185937 0.585895 0.189063 0.579971 0.190625 0.579971 0.190625 0.574047 0.192188 0.571085 0.192188 0.565161 0.19375 0.5622 0.19375 0.553314 0.195312 0.550352 0.195312 0.544428 0.196875 0.541466 0.196875 0.532581 0.198437 0.529619 0.198437 0.482229 0.196875 0.479267\\n',\n",
              " '0 0.715625 0.476305 0.7125 0.482229 0.7125 0.511848 0.714063 0.514809 0.714063 0.517771 0.71875 0.526657 0.71875 0.529619 0.723437 0.538504 0.723437 0.541466 0.725 0.544428 0.725 0.559238 0.726562 0.5622 0.726562 0.568123 0.729688 0.568123 0.73125 0.571085 0.732813 0.571085 0.732813 0.553314 0.73125 0.550352 0.73125 0.514809 0.729688 0.511848 0.729688 0.485191 0.728125 0.482229 0.728125 0.479267 0.725 0.479267 0.723437 0.476305\\n',\n",
              " '0 0.632812 0.523695 0.63125 0.526657 0.629687 0.526657 0.629687 0.532581 0.628125 0.535543 0.628125 0.541466 0.626562 0.544428 0.626562 0.54739 0.625 0.550352 0.625 0.588856 0.626562 0.591818 0.645312 0.591818 0.646875 0.588856 0.648438 0.588856 0.648438 0.582933 0.65 0.579971 0.65 0.574047 0.648438 0.571085 0.648438 0.5622 0.646875 0.559238 0.646875 0.54739 0.645312 0.544428 0.645312 0.541466 0.64375 0.538504 0.64375 0.532581 0.642187 0.529619 0.642187 0.526657 0.640625 0.523695\\n',\n",
              " '0 0.301562 0.322287 0.298438 0.328211 0.298438 0.331173 0.295312 0.337096 0.295312 0.340058 0.29375 0.34302 0.29375 0.396334 0.295312 0.399296 0.295312 0.414105 0.296875 0.414105 0.296875 0.411144 0.298438 0.408182 0.298438 0.40522 0.301562 0.399296 0.303125 0.399296 0.304688 0.402258 0.304688 0.40522 0.30625 0.408182 0.30625 0.411144 0.307813 0.414105 0.309375 0.414105 0.310937 0.411144 0.310937 0.331173 0.309375 0.328211 0.309375 0.325249 0.30625 0.325249 0.304688 0.322287\\n',\n",
              " '0 0.132812 0.68956 0.13125 0.692522 0.13125 0.813959 0.132812 0.816921 0.135937 0.816921 0.1375 0.813959 0.140625 0.813959 0.142188 0.810997 0.142188 0.796188 0.14375 0.793226 0.14375 0.75176 0.142188 0.748798 0.142188 0.692522 0.140625 0.68956\\n',\n",
              " '2 0.501562 0.298592 0.5 0.301554 0.495313 0.301554 0.49375 0.304516 0.49375 0.307478 0.492188 0.31044 0.492188 0.313401 0.489062 0.319325 0.489062 0.328211 0.4875 0.331173 0.4875 0.366715 0.489062 0.369677 0.489062 0.375601 0.49375 0.375601 0.496875 0.369677 0.496875 0.360792 0.498437 0.35783 0.498437 0.348944 0.5 0.345982 0.5 0.340058 0.501562 0.337096 0.501562 0.334135 0.504687 0.328211 0.504687 0.325249 0.509375 0.316363 0.509375 0.313401 0.514063 0.304516 0.514063 0.301554 0.50625 0.301554 0.504687 0.298592\\n',\n",
              " '0 0.0828125 0.784341 0.08125 0.787302 0.08125 0.79915 0.0796875 0.802112 0.0796875 0.805074 0.071875 0.819883 0.0703125 0.819883 0.0625 0.834693 0.0625 0.84654 0.065625 0.852464 0.075 0.852464 0.0765625 0.849502 0.084375 0.849502 0.0859375 0.84654 0.0875 0.84654 0.0875 0.843578 0.0890625 0.840616 0.0890625 0.837654 0.090625 0.834693 0.090625 0.831731 0.0921875 0.828769 0.0921875 0.825807 0.09375 0.822845 0.09375 0.793226 0.0921875 0.790264 0.0921875 0.787302 0.090625 0.784341\\n',\n",
              " '0 0.934375 0.511848 0.93125 0.517771 0.93125 0.544428 0.932813 0.54739 0.932813 0.550352 0.940625 0.550352 0.942187 0.553314 0.946875 0.553314 0.946875 0.526657 0.94375 0.520733 0.94375 0.517771 0.940625 0.511848\\n',\n",
              " '2 0.559375 0.369677 0.557813 0.372639 0.55 0.372639 0.546875 0.378563 0.545313 0.378563 0.54375 0.381525 0.542188 0.381525 0.535937 0.393372 0.532812 0.393372 0.526563 0.40522 0.526563 0.408182 0.525 0.411144 0.526563 0.414105 0.526563 0.434839 0.528125 0.434839 0.532812 0.425953 0.554688 0.425953 0.55625 0.422991 0.56875 0.422991 0.570312 0.420029 0.576563 0.420029 0.578125 0.417067 0.589063 0.417067 0.590625 0.414105 0.617188 0.414105 0.61875 0.417067 0.6375 0.417067 0.640625 0.411144 0.640625 0.408182 0.6375 0.402258 0.6375 0.396334 0.635938 0.393372 0.635938 0.387448 0.629687 0.375601 0.629687 0.372639 0.628125 0.372639 0.626562 0.369677\\n',\n",
              " '2 0.46875 0.251202 0.467187 0.254164 0.459375 0.254164 0.457812 0.257126 0.457812 0.274897 0.45625 0.277859 0.45625 0.331173 0.457812 0.334135 0.457812 0.340058 0.459375 0.340058 0.464063 0.331173 0.464063 0.328211 0.465625 0.325249 0.465625 0.316363 0.467187 0.313401 0.467187 0.304516 0.46875 0.301554 0.46875 0.298592 0.473437 0.289706 0.473437 0.283783 0.475 0.280821 0.475 0.277859 0.482812 0.263049 0.485938 0.263049 0.4875 0.260088 0.498437 0.260088 0.5 0.263049 0.503125 0.263049 0.503125 0.254164 0.492188 0.254164 0.490625 0.251202\\n',\n",
              " '0 0.251563 0.286744 0.25 0.289706 0.248437 0.289706 0.248437 0.292668 0.246875 0.29563 0.245312 0.29563 0.24375 0.298592 0.24375 0.301554 0.242188 0.304516 0.242188 0.31044 0.240625 0.313401 0.240625 0.319325 0.239063 0.322287 0.239063 0.337096 0.2375 0.340058 0.2375 0.414105 0.239063 0.417067 0.239063 0.420029 0.245312 0.420029 0.246875 0.417067 0.251563 0.417067 0.254687 0.411144 0.254687 0.363753 0.25625 0.360792 0.25625 0.34302 0.254687 0.340058 0.254687 0.307478 0.25625 0.304516 0.25625 0.289706 0.254687 0.289706 0.253125 0.286744\\n',\n",
              " '2 0.478125 0.274897 0.476562 0.277859 0.473437 0.277859 0.471875 0.280821 0.471875 0.283783 0.473437 0.286744 0.473437 0.292668 0.470313 0.298592 0.470313 0.307478 0.46875 0.31044 0.46875 0.351906 0.470313 0.354868 0.476562 0.354868 0.478125 0.351906 0.48125 0.351906 0.482812 0.348944 0.482812 0.337096 0.484375 0.334135 0.484375 0.328211 0.485938 0.325249 0.485938 0.319325 0.4875 0.316363 0.4875 0.313401 0.489062 0.31044 0.489062 0.307478 0.495313 0.29563 0.496875 0.29563 0.498437 0.292668 0.501562 0.292668 0.504687 0.286744 0.504687 0.283783 0.50625 0.280821 0.503125 0.274897\\n']"
            ]
          },
          "metadata": {},
          "execution_count": 106
        }
      ]
    },
    {
      "cell_type": "code",
      "source": [
        "\n",
        "coco_names = [\"person\" , \"bicycle\" , \"car\" , \"motorcycle\" , \"airplane\" , \"bus\" , \"train\" , \"truck\" , \"boat\" , \"traffic light\" , \"fire hydrant\" , \"street sign\" , \"stop sign\" , \"parking meter\" , \"bench\" , \"bird\" , \"cat\" , \"dog\" , \"horse\" , \"sheep\" , \"cow\" , \"elephant\" , \"bear\" , \"zebra\" , \"giraffe\" , \"hat\" , \"backpack\" , \"umbrella\" , \"shoe\" , \"eye glasses\" , \"handbag\" , \"tie\" , \"ball\" ,\n",
        "\"frisbee\" , \"bat\" , \"snowboard\" , \" basketball\" , \"kite\" , \"bat\" ,\n",
        "\"baseball glove\" , \"skateboard\" , \"surfboard\" , \"tennis racket\" , \"bottle\" ,\n",
        "\"plate\" , \"wine glass\" , \"cup\" , \"fork\" , \"knife\" , \"spoon\" , \"bowl\" ,\n",
        "\"banana\" , \"apple\" , \"sandwich\" , \"orange\" , \"broccoli\" , \"carrot\" , \"hot dog\" ,\n",
        "\"potted plant\" , \"donut\" , \"cake\" , \"chair\" , \"couch\" , \"pizza\" , \"bed\" ,\n",
        "\"mirror\" , \"dining table\" , \"window\" , \"desk\" , \"toilet\" , \"door\" , \"tv\" ,\n",
        "\"laptop\" , \"mouse\" , \"remote\" , \"keyboard\" , \"cell phone\" , \"microwave\" ,\n",
        "\"oven\" , \"toaster\" , \"sink\" , \"refrigerator\" , \"blender\" , \"book\" ,\n",
        "\"clock\" , \"vase\" , \"scissors\" , \"teddy bear\" , \"hair drier\" , \"toothbrush\" , \"hair brush\"]"
      ],
      "metadata": {
        "id": "lZSw-XxYUGk0"
      },
      "execution_count": 107,
      "outputs": []
    },
    {
      "cell_type": "code",
      "source": [
        "for i in range(len(label)):\n",
        "  print(i)"
      ],
      "metadata": {
        "colab": {
          "base_uri": "https://localhost:8080/"
        },
        "id": "_h0-8brBUUkQ",
        "outputId": "22e48279-3879-4b98-f1c9-706c85047dbd"
      },
      "execution_count": 108,
      "outputs": [
        {
          "output_type": "stream",
          "name": "stdout",
          "text": [
            "0\n",
            "1\n",
            "2\n",
            "3\n",
            "4\n",
            "5\n",
            "6\n",
            "7\n",
            "8\n",
            "9\n",
            "10\n",
            "11\n",
            "12\n",
            "13\n",
            "14\n",
            "15\n",
            "16\n",
            "17\n",
            "18\n",
            "19\n",
            "20\n",
            "21\n",
            "22\n",
            "23\n",
            "24\n",
            "25\n",
            "26\n",
            "27\n",
            "28\n",
            "29\n",
            "30\n",
            "31\n",
            "32\n",
            "33\n",
            "34\n",
            "35\n",
            "36\n",
            "37\n",
            "38\n",
            "39\n"
          ]
        }
      ]
    },
    {
      "cell_type": "code",
      "source": [
        "!pip install pycocotools"
      ],
      "metadata": {
        "colab": {
          "base_uri": "https://localhost:8080/"
        },
        "id": "-1UAxiKsUUaF",
        "outputId": "e3ca97f7-0943-40e4-bd7f-e26019a2efcc"
      },
      "execution_count": 109,
      "outputs": [
        {
          "output_type": "stream",
          "name": "stdout",
          "text": [
            "Requirement already satisfied: pycocotools in /usr/local/lib/python3.10/dist-packages (2.0.6)\n",
            "Requirement already satisfied: matplotlib>=2.1.0 in /usr/local/lib/python3.10/dist-packages (from pycocotools) (3.7.1)\n",
            "Requirement already satisfied: numpy in /usr/local/lib/python3.10/dist-packages (from pycocotools) (1.22.4)\n",
            "Requirement already satisfied: contourpy>=1.0.1 in /usr/local/lib/python3.10/dist-packages (from matplotlib>=2.1.0->pycocotools) (1.1.0)\n",
            "Requirement already satisfied: cycler>=0.10 in /usr/local/lib/python3.10/dist-packages (from matplotlib>=2.1.0->pycocotools) (0.11.0)\n",
            "Requirement already satisfied: fonttools>=4.22.0 in /usr/local/lib/python3.10/dist-packages (from matplotlib>=2.1.0->pycocotools) (4.40.0)\n",
            "Requirement already satisfied: kiwisolver>=1.0.1 in /usr/local/lib/python3.10/dist-packages (from matplotlib>=2.1.0->pycocotools) (1.4.4)\n",
            "Requirement already satisfied: packaging>=20.0 in /usr/local/lib/python3.10/dist-packages (from matplotlib>=2.1.0->pycocotools) (23.1)\n",
            "Requirement already satisfied: pillow>=6.2.0 in /usr/local/lib/python3.10/dist-packages (from matplotlib>=2.1.0->pycocotools) (8.4.0)\n",
            "Requirement already satisfied: pyparsing>=2.3.1 in /usr/local/lib/python3.10/dist-packages (from matplotlib>=2.1.0->pycocotools) (3.1.0)\n",
            "Requirement already satisfied: python-dateutil>=2.7 in /usr/local/lib/python3.10/dist-packages (from matplotlib>=2.1.0->pycocotools) (2.8.2)\n",
            "Requirement already satisfied: six>=1.5 in /usr/local/lib/python3.10/dist-packages (from python-dateutil>=2.7->matplotlib>=2.1.0->pycocotools) (1.16.0)\n"
          ]
        }
      ]
    },
    {
      "cell_type": "code",
      "source": [
        "for i in range(len(label)):\n",
        "  print(int(label[i].split()[0]),coco_names[int(label[i].split()[0])])"
      ],
      "metadata": {
        "colab": {
          "base_uri": "https://localhost:8080/"
        },
        "id": "N8fqPH4UUUWp",
        "outputId": "d967cfcd-739b-4909-9ca1-070684d63deb"
      },
      "execution_count": 110,
      "outputs": [
        {
          "output_type": "stream",
          "name": "stdout",
          "text": [
            "2 car\n",
            "2 car\n",
            "2 car\n",
            "7 truck\n",
            "2 car\n",
            "2 car\n",
            "0 person\n",
            "2 car\n",
            "0 person\n",
            "0 person\n",
            "5 bus\n",
            "0 person\n",
            "2 car\n",
            "0 person\n",
            "0 person\n",
            "2 car\n",
            "2 car\n",
            "0 person\n",
            "0 person\n",
            "0 person\n",
            "0 person\n",
            "0 person\n",
            "0 person\n",
            "0 person\n",
            "0 person\n",
            "9 traffic light\n",
            "2 car\n",
            "0 person\n",
            "2 car\n",
            "0 person\n",
            "0 person\n",
            "0 person\n",
            "0 person\n",
            "2 car\n",
            "0 person\n",
            "0 person\n",
            "2 car\n",
            "2 car\n",
            "0 person\n",
            "2 car\n"
          ]
        }
      ]
    },
    {
      "cell_type": "code",
      "source": [
        "label_counts = {}\n",
        "\n",
        "for i in range(len(label)):\n",
        "    label_index = int(label[i].split()[0])\n",
        "    label_name = coco_names[label_index]\n",
        "\n",
        "    if label_name in label_counts:\n",
        "        label_counts[label_name] += 1\n",
        "    else:\n",
        "        label_counts[label_name] = 1\n",
        "\n",
        "for label_name, count in label_counts.items():\n",
        "    print(label_name + '='+str(count))"
      ],
      "metadata": {
        "colab": {
          "base_uri": "https://localhost:8080/"
        },
        "id": "69Aks4DHUUUl",
        "outputId": "15f2e8af-e5d2-4da4-9399-44702b8c2f72"
      },
      "execution_count": 111,
      "outputs": [
        {
          "output_type": "stream",
          "name": "stdout",
          "text": [
            "car=15\n",
            "truck=1\n",
            "person=22\n",
            "bus=1\n",
            "traffic light=1\n"
          ]
        }
      ]
    },
    {
      "cell_type": "code",
      "source": [
        "predict4=model.predict(\"/content/141755292_7a0b3364cf.jpg\",save=True,save_txt=True)"
      ],
      "metadata": {
        "colab": {
          "base_uri": "https://localhost:8080/"
        },
        "id": "yD4B51ARUUSM",
        "outputId": "dd584c57-b796-4ed7-e195-10998a805ddb"
      },
      "execution_count": 112,
      "outputs": [
        {
          "output_type": "stream",
          "name": "stderr",
          "text": [
            "\n",
            "image 1/1 /content/141755292_7a0b3364cf.jpg: 544x640 3 persons, 1 knife, 1 pizza, 1 cake, 2610.9ms\n",
            "Speed: 9.0ms preprocess, 2610.9ms inference, 25.1ms postprocess per image at shape (1, 3, 544, 640)\n",
            "Results saved to \u001b[1mruns/segment/predict\u001b[0m\n",
            "3 labels saved to runs/segment/predict/labels\n"
          ]
        }
      ]
    },
    {
      "cell_type": "code",
      "source": [
        "type(predict4)"
      ],
      "metadata": {
        "colab": {
          "base_uri": "https://localhost:8080/"
        },
        "id": "n6a9YW3-a3jQ",
        "outputId": "9de86d84-c4c6-4e6f-8b94-18bfe5722b05"
      },
      "execution_count": 113,
      "outputs": [
        {
          "output_type": "execute_result",
          "data": {
            "text/plain": [
              "list"
            ]
          },
          "metadata": {},
          "execution_count": 113
        }
      ]
    },
    {
      "cell_type": "code",
      "source": [
        "predict4[0].masks.masks.shape"
      ],
      "metadata": {
        "colab": {
          "base_uri": "https://localhost:8080/"
        },
        "id": "4LsPpa5Ia6XB",
        "outputId": "568178cd-c80b-47d8-f5d3-cf24094bc8c2"
      },
      "execution_count": 114,
      "outputs": [
        {
          "output_type": "stream",
          "name": "stderr",
          "text": [
            "WARNING ⚠️ 'Masks.masks' is deprecated. Use 'Masks.data' instead.\n"
          ]
        },
        {
          "output_type": "execute_result",
          "data": {
            "text/plain": [
              "torch.Size([6, 544, 640])"
            ]
          },
          "metadata": {},
          "execution_count": 114
        }
      ]
    },
    {
      "cell_type": "code",
      "source": [
        "predict4[0].masks.masks[0].shape"
      ],
      "metadata": {
        "colab": {
          "base_uri": "https://localhost:8080/"
        },
        "id": "y26SQM3sa9Ke",
        "outputId": "ae7a7906-645f-4d36-e9a3-20fb97815ff9"
      },
      "execution_count": 115,
      "outputs": [
        {
          "output_type": "stream",
          "name": "stderr",
          "text": [
            "WARNING ⚠️ 'Masks.masks' is deprecated. Use 'Masks.data' instead.\n"
          ]
        },
        {
          "output_type": "execute_result",
          "data": {
            "text/plain": [
              "torch.Size([544, 640])"
            ]
          },
          "metadata": {},
          "execution_count": 115
        }
      ]
    },
    {
      "cell_type": "code",
      "source": [
        "cv2_imshow((predict4[0].masks.masks[0].numpy()*255).astype(\"uint8\"))"
      ],
      "metadata": {
        "colab": {
          "base_uri": "https://localhost:8080/",
          "height": 578
        },
        "id": "on6USKLXa9Fh",
        "outputId": "16581c7e-08c0-42d5-d973-c3e371b9c05b"
      },
      "execution_count": 116,
      "outputs": [
        {
          "output_type": "stream",
          "name": "stderr",
          "text": [
            "WARNING ⚠️ 'Masks.masks' is deprecated. Use 'Masks.data' instead.\n"
          ]
        },
        {
          "output_type": "display_data",
          "data": {
            "text/plain": [
              "<PIL.Image.Image image mode=L size=640x544 at 0x7E50DA4407C0>"
            ],
            "image/png": "[encoded data removed]"
          },
          "metadata": {}
        }
      ]
    },
    {
      "cell_type": "code",
      "source": [
        "cv2_imshow((predict4[0].masks.masks[1].numpy()*255).astype(\"uint8\"))"
      ],
      "metadata": {
        "colab": {
          "base_uri": "https://localhost:8080/",
          "height": 578
        },
        "id": "uG07gwnxa9DE",
        "outputId": "856ae6e2-a908-4359-9834-e0c088add3d1"
      },
      "execution_count": 117,
      "outputs": [
        {
          "output_type": "stream",
          "name": "stderr",
          "text": [
            "WARNING ⚠️ 'Masks.masks' is deprecated. Use 'Masks.data' instead.\n"
          ]
        },
        {
          "output_type": "display_data",
          "data": {
            "text/plain": [
              "<PIL.Image.Image image mode=L size=640x544 at 0x7E50DA4424D0>"
            ],
            "image/png": "[encoded data removed]"
          },
          "metadata": {}
        }
      ]
    },
    {
      "cell_type": "code",
      "source": [
        "cv2_imshow((predict4[0].masks.masks[2].numpy()*255).astype(\"uint8\"))"
      ],
      "metadata": {
        "id": "VVBhUKgHa9AO"
      },
      "execution_count": null,
      "outputs": []
    },
    {
      "cell_type": "code",
      "source": [
        "cv2_imshow((predict4[0].masks.masks[3].numpy()*255).astype(\"uint8\"))"
      ],
      "metadata": {
        "colab": {
          "base_uri": "https://localhost:8080/",
          "height": 578
        },
        "id": "2WobxtqLbDVQ",
        "outputId": "d3509086-9c47-441e-c70c-ec11a8db99ca"
      },
      "execution_count": 119,
      "outputs": [
        {
          "output_type": "stream",
          "name": "stderr",
          "text": [
            "WARNING ⚠️ 'Masks.masks' is deprecated. Use 'Masks.data' instead.\n"
          ]
        },
        {
          "output_type": "display_data",
          "data": {
            "text/plain": [
              "<PIL.Image.Image image mode=L size=640x544 at 0x7E50DA3D8910>"
            ],
            "image/png": "[encoded data removed]"
          },
          "metadata": {}
        }
      ]
    },
    {
      "cell_type": "code",
      "source": [
        "cv2_imshow((predict4[0].masks.masks[4].numpy()*255).astype(\"uint8\"))"
      ],
      "metadata": {
        "colab": {
          "base_uri": "https://localhost:8080/",
          "height": 578
        },
        "id": "KO_jxJfibDKk",
        "outputId": "b729e716-b500-4ed8-d97c-d85b629c511a"
      },
      "execution_count": 120,
      "outputs": [
        {
          "output_type": "stream",
          "name": "stderr",
          "text": [
            "WARNING ⚠️ 'Masks.masks' is deprecated. Use 'Masks.data' instead.\n"
          ]
        },
        {
          "output_type": "display_data",
          "data": {
            "text/plain": [
              "<PIL.Image.Image image mode=L size=640x544 at 0x7E50DA3D8340>"
            ],
            "image/png": "[encoded data removed]"
          },
          "metadata": {}
        }
      ]
    },
    {
      "cell_type": "code",
      "source": [
        "cv2_imshow((predict4[0].masks.masks[5].numpy()*255).astype(\"uint8\"))"
      ],
      "metadata": {
        "id": "rGYpL4_3bDCy"
      },
      "execution_count": null,
      "outputs": []
    },
    {
      "cell_type": "code",
      "source": [
        "type(predict4[0].masks.segments)"
      ],
      "metadata": {
        "colab": {
          "base_uri": "https://localhost:8080/"
        },
        "id": "uPdwByAtbbqa",
        "outputId": "12195eac-f1a3-4ae2-bf8b-2d5d3a8be767"
      },
      "execution_count": 122,
      "outputs": [
        {
          "output_type": "stream",
          "name": "stderr",
          "text": [
            "WARNING ⚠️ 'Masks.segments' is deprecated. Use 'Masks.xyn' for segments (normalized) and 'Masks.xy' for segments (pixels) instead.\n"
          ]
        },
        {
          "output_type": "execute_result",
          "data": {
            "text/plain": [
              "list"
            ]
          },
          "metadata": {},
          "execution_count": 122
        }
      ]
    },
    {
      "cell_type": "code",
      "source": [
        "len(predict4[0].masks.segments)"
      ],
      "metadata": {
        "colab": {
          "base_uri": "https://localhost:8080/"
        },
        "id": "QfFafYoubboB",
        "outputId": "a6f5b1ab-19e9-4f38-ab38-a932e385035f"
      },
      "execution_count": 123,
      "outputs": [
        {
          "output_type": "execute_result",
          "data": {
            "text/plain": [
              "6"
            ]
          },
          "metadata": {},
          "execution_count": 123
        }
      ]
    },
    {
      "cell_type": "code",
      "source": [
        "predict4[0].masks.segments[0].shape"
      ],
      "metadata": {
        "colab": {
          "base_uri": "https://localhost:8080/"
        },
        "id": "y39kkVkmbbll",
        "outputId": "c9820dc0-8592-4d63-be27-79be476f55ca"
      },
      "execution_count": 124,
      "outputs": [
        {
          "output_type": "execute_result",
          "data": {
            "text/plain": [
              "(459, 2)"
            ]
          },
          "metadata": {},
          "execution_count": 124
        }
      ]
    },
    {
      "cell_type": "code",
      "source": [
        "H,W,_=cv2.imread(\"/content/141755292_7a0b3364cf.jpg\").shape"
      ],
      "metadata": {
        "id": "1VRZDbgLbbjJ"
      },
      "execution_count": 125,
      "outputs": []
    },
    {
      "cell_type": "code",
      "source": [
        "X=(predict2[0].masks.segments[0][:,0]*W).astype(\"int\")\n",
        "Y=(predict2[0].masks.segments[0][:,1]*H).astype(\"int\")"
      ],
      "metadata": {
        "colab": {
          "base_uri": "https://localhost:8080/"
        },
        "id": "Zk8G096Zboo6",
        "outputId": "8d70dfc3-9d50-4167-c4bc-3411e111e430"
      },
      "execution_count": 126,
      "outputs": [
        {
          "output_type": "stream",
          "name": "stderr",
          "text": [
            "WARNING ⚠️ 'Masks.segments' is deprecated. Use 'Masks.xyn' for segments (normalized) and 'Masks.xy' for segments (pixels) instead.\n"
          ]
        }
      ]
    },
    {
      "cell_type": "code",
      "source": [
        "blk=np.zeros((H,W))\n",
        "blk[Y,X]=255\n",
        "cv2_imshow(blk.astype(\"uint8\"))"
      ],
      "metadata": {
        "colab": {
          "base_uri": "https://localhost:8080/",
          "height": 425
        },
        "id": "PVt4mbXObolg",
        "outputId": "2fdb03fe-0c7c-4b77-a4de-0fe66b8883e1"
      },
      "execution_count": 127,
      "outputs": [
        {
          "output_type": "display_data",
          "data": {
            "text/plain": [
              "<PIL.Image.Image image mode=L size=500x408 at 0x7E50DA3D9D80>"
            ],
            "image/png": "[encoded data removed]"
          },
          "metadata": {}
        }
      ]
    },
    {
      "cell_type": "code",
      "source": [
        "label=open(\"/content/runs/segment/predict/labels/141755292_7a0b3364cf.txt\",\"r\").readlines()"
      ],
      "metadata": {
        "id": "EBJrE0Z4boi5"
      },
      "execution_count": 132,
      "outputs": []
    },
    {
      "cell_type": "code",
      "source": [
        "label"
      ],
      "metadata": {
        "colab": {
          "base_uri": "https://localhost:8080/"
        },
        "id": "cpYtBhn9bogc",
        "outputId": "b2a0796b-544e-4c4d-d6b4-f8d28a224b65"
      },
      "execution_count": 133,
      "outputs": [
        {
          "output_type": "execute_result",
          "data": {
            "text/plain": [
              "['0 0.8 0.208946 0.798437 0.210861 0.792188 0.210861 0.790625 0.212776 0.789062 0.212776 0.7875 0.214691 0.785937 0.214691 0.779688 0.22235 0.778125 0.22235 0.771875 0.230009 0.770312 0.230009 0.767187 0.233839 0.765625 0.233839 0.751562 0.251072 0.751562 0.252987 0.748438 0.256817 0.748438 0.258732 0.746875 0.260646 0.746875 0.266391 0.745313 0.268306 0.745313 0.320006 0.746875 0.321921 0.746875 0.32958 0.748438 0.331495 0.748438 0.339154 0.75 0.341069 0.75 0.365962 0.751562 0.367877 0.751562 0.400429 0.753125 0.402344 0.753125 0.413833 0.754687 0.415748 0.754687 0.427237 0.75625 0.429151 0.75625 0.44064 0.754687 0.442555 0.754687 0.450214 0.753125 0.452129 0.753125 0.454044 0.751562 0.455959 0.751562 0.463618 0.75 0.465533 0.75 0.471278 0.748438 0.473192 0.748438 0.477022 0.746875 0.478937 0.746875 0.480852 0.745313 0.482767 0.745313 0.484681 0.74375 0.486596 0.74375 0.490426 0.742188 0.492341 0.742188 0.494256 0.739062 0.498085 0.739062 0.5 0.7375 0.501915 0.7375 0.50383 0.732813 0.509574 0.732813 0.511489 0.728125 0.517233 0.728125 0.519148 0.7125 0.538297 0.7125 0.540211 0.6875 0.570849 0.6875 0.572764 0.684375 0.576593 0.682813 0.576593 0.671875 0.589997 0.670313 0.589997 0.6625 0.599571 0.6625 0.601486 0.659375 0.605316 0.657812 0.605316 0.654688 0.609145 0.653125 0.609145 0.65 0.612975 0.646875 0.612975 0.645312 0.61489 0.642187 0.61489 0.640625 0.616805 0.635938 0.616805 0.634375 0.618719 0.628125 0.618719 0.626562 0.620634 0.61875 0.620634 0.617188 0.622549 0.610937 0.622549 0.609375 0.624464 0.604688 0.624464 0.603125 0.626379 0.6 0.626379 0.598437 0.628294 0.595312 0.628294 0.59375 0.630208 0.589063 0.630208 0.585938 0.634038 0.585938 0.635953 0.584375 0.637868 0.584375 0.639782 0.58125 0.643612 0.578125 0.643612 0.576563 0.645527 0.575 0.645527 0.573438 0.647442 0.571875 0.647442 0.570312 0.649357 0.567187 0.649357 0.565625 0.651271 0.564062 0.651271 0.5625 0.649357 0.55625 0.649357 0.554688 0.647442 0.55 0.647442 0.548437 0.649357 0.545313 0.649357 0.54375 0.651271 0.54375 0.653186 0.542188 0.655101 0.542188 0.660846 0.539062 0.664675 0.5375 0.664675 0.535937 0.66659 0.495313 0.66659 0.49375 0.664675 0.4875 0.664675 0.485938 0.66659 0.482812 0.66659 0.479688 0.67042 0.479688 0.676164 0.482812 0.679994 0.492188 0.679994 0.49375 0.681909 0.498437 0.681909 0.5 0.683824 0.503125 0.683824 0.50625 0.687653 0.515625 0.687653 0.517187 0.689568 0.532812 0.689568 0.534375 0.691483 0.540625 0.691483 0.542188 0.693398 0.545313 0.693398 0.546875 0.695312 0.551562 0.695312 0.553125 0.697227 0.55625 0.697227 0.557813 0.699142 0.560938 0.699142 0.5625 0.701057 0.56875 0.701057 0.570312 0.699142 0.58125 0.699142 0.582812 0.701057 0.60625 0.701057 0.607813 0.702972 0.609375 0.702972 0.610937 0.704887 0.614062 0.704887 0.615625 0.706801 0.617188 0.706801 0.61875 0.708716 0.621875 0.708716 0.625 0.712546 0.628125 0.712546 0.629687 0.714461 0.632812 0.714461 0.634375 0.716376 0.6375 0.716376 0.640625 0.720205 0.642187 0.720205 0.645312 0.724035 0.645312 0.735524 0.646875 0.737439 0.653125 0.737439 0.654688 0.735524 0.673437 0.735524 0.675 0.737439 0.68125 0.737439 0.682813 0.739354 0.684375 0.739354 0.6875 0.743183 0.690625 0.743183 0.692187 0.745098 0.695312 0.745098 0.696875 0.747013 0.698438 0.747013 0.7 0.748928 0.701563 0.748928 0.703125 0.750843 0.70625 0.750843 0.707812 0.752757 0.710938 0.752757 0.7125 0.754672 0.714063 0.754672 0.715625 0.756587 0.717188 0.756587 0.71875 0.758502 0.720312 0.758502 0.721875 0.760417 0.725 0.760417 0.726562 0.762331 0.728125 0.762331 0.729688 0.764246 0.73125 0.764246 0.732813 0.766161 0.734375 0.766161 0.735937 0.768076 0.739062 0.768076 0.740625 0.769991 0.742188 0.769991 0.746875 0.775735 0.751562 0.775735 0.753125 0.77765 0.75625 0.77765 0.757812 0.779565 0.760938 0.779565 0.7625 0.78148 0.765625 0.78148 0.767187 0.783395 0.76875 0.783395 0.771875 0.787224 0.771875 0.789139 0.773438 0.791054 0.773438 0.800628 0.775 0.802543 0.775 0.806373 0.778125 0.810202 0.782812 0.810202 0.784375 0.812117 0.7875 0.812117 0.789062 0.814032 0.790625 0.814032 0.792188 0.815947 0.796875 0.815947 0.798437 0.817861 0.804688 0.817861 0.80625 0.819776 0.809375 0.819776 0.810938 0.821691 0.814062 0.821691 0.815625 0.823606 0.817187 0.823606 0.81875 0.825521 0.823438 0.825521 0.825 0.827436 0.829687 0.827436 0.83125 0.82935 0.834375 0.82935 0.835938 0.831265 0.8375 0.831265 0.839063 0.83318 0.845312 0.83318 0.846875 0.835095 0.851562 0.835095 0.853125 0.83701 0.85625 0.83701 0.857813 0.838925 0.859375 0.838925 0.860937 0.840839 0.864062 0.840839 0.865625 0.842754 0.870313 0.842754 0.871875 0.844669 0.875 0.844669 0.876562 0.846584 0.878125 0.846584 0.879687 0.848499 0.88125 0.848499 0.882812 0.850414 0.885938 0.850414 0.8875 0.852328 0.889063 0.852328 0.898438 0.863817 0.898438 0.865732 0.9 0.867647 0.9 0.871477 0.901563 0.873392 0.901563 0.881051 0.903125 0.882966 0.903125 0.884881 0.904688 0.886795 0.904688 0.890625 0.90625 0.89254 0.90625 0.898284 0.907812 0.900199 0.907812 0.902114 0.909375 0.904029 0.909375 0.905944 0.917188 0.915518 0.920313 0.915518 0.921875 0.917433 0.929688 0.917433 0.93125 0.919347 0.9375 0.919347 0.939062 0.921262 0.942187 0.921262 0.94375 0.923177 0.946875 0.923177 0.948438 0.925092 0.953125 0.925092 0.954687 0.927007 0.979688 0.927007 0.98125 0.925092 0.9875 0.925092 0.989062 0.927007 0.992188 0.927007 0.992188 0.917433 0.990625 0.915518 0.990625 0.900199 0.989062 0.898284 0.989062 0.89254 0.9875 0.890625 0.9875 0.886795 0.985937 0.884881 0.985937 0.881051 0.984375 0.879136 0.984375 0.875306 0.982813 0.873392 0.982813 0.871477 0.98125 0.869562 0.98125 0.867647 0.979688 0.865732 0.979688 0.863817 0.978125 0.861903 0.978125 0.859988 0.976562 0.858073 0.976562 0.854243 0.975 0.852328 0.975 0.848499 0.973437 0.846584 0.973437 0.83701 0.971875 0.835095 0.971875 0.821691 0.970312 0.819776 0.970312 0.789139 0.96875 0.787224 0.96875 0.771906 0.970312 0.769991 0.970312 0.752757 0.971875 0.750843 0.971875 0.739354 0.970312 0.737439 0.970312 0.727865 0.971875 0.72595 0.971875 0.679994 0.970312 0.678079 0.970312 0.651271 0.96875 0.649357 0.96875 0.647442 0.970312 0.645527 0.970312 0.637868 0.96875 0.635953 0.96875 0.628294 0.970312 0.626379 0.970312 0.624464 0.96875 0.622549 0.96875 0.576593 0.967188 0.574678 0.967188 0.567019 0.965625 0.565104 0.965625 0.561275 0.964063 0.55936 0.964063 0.557445 0.9625 0.55553 0.9625 0.5517 0.960938 0.549786 0.960938 0.545956 0.959375 0.544041 0.959375 0.540211 0.95625 0.536382 0.95625 0.532552 0.954687 0.530637 0.954687 0.528722 0.953125 0.526808 0.953125 0.524893 0.95 0.521063 0.95 0.517233 0.948438 0.515319 0.948438 0.511489 0.946875 0.509574 0.946875 0.505744 0.945312 0.50383 0.945312 0.49617 0.94375 0.494256 0.94375 0.488511 0.942187 0.486596 0.942187 0.480852 0.940625 0.478937 0.940625 0.477022 0.932813 0.467448 0.932813 0.465533 0.926562 0.457874 0.926562 0.455959 0.925 0.454044 0.925 0.452129 0.923437 0.450214 0.923437 0.446385 0.921875 0.44447 0.921875 0.436811 0.920313 0.434896 0.920313 0.415748 0.921875 0.413833 0.921875 0.400429 0.923437 0.398514 0.923437 0.38894 0.925 0.387025 0.925 0.379366 0.926562 0.377451 0.926562 0.373621 0.928125 0.371706 0.928125 0.369792 0.929688 0.367877 0.929688 0.362132 0.93125 0.360218 0.93125 0.354473 0.932813 0.352558 0.932813 0.350643 0.934375 0.348729 0.934375 0.341069 0.935938 0.339154 0.935938 0.323836 0.9375 0.321921 0.9375 0.297028 0.935938 0.295113 0.935938 0.283624 0.934375 0.28171 0.934375 0.27788 0.932813 0.275965 0.932813 0.272135 0.93125 0.270221 0.93125 0.268306 0.929688 0.266391 0.929688 0.262561 0.928125 0.260646 0.928125 0.258732 0.926562 0.256817 0.926562 0.254902 0.925 0.252987 0.925 0.251072 0.921875 0.247243 0.921875 0.245328 0.90625 0.22618 0.904688 0.22618 0.901563 0.22235 0.9 0.22235 0.898438 0.220435 0.896875 0.220435 0.895312 0.21852 0.89375 0.21852 0.892187 0.216605 0.890625 0.216605 0.889063 0.214691 0.8875 0.214691 0.885938 0.212776 0.882812 0.212776 0.88125 0.210861 0.873438 0.210861 0.871875 0.208946\\n',\n",
              " '0 0.0078125 0.796798 0.0078125 0.802543 0.00625 0.804458 0.00625 0.984452 0.009375 0.988281 0.0953125 0.988281 0.096875 0.986366 0.0984375 0.986366 0.1 0.984452 0.0984375 0.982537 0.0984375 0.978707 0.0953125 0.974877 0.0953125 0.972963 0.09375 0.971048 0.09375 0.969133 0.0921875 0.967218 0.0921875 0.965303 0.090625 0.963389 0.090625 0.961474 0.0875 0.957644 0.0875 0.953814 0.0859375 0.9519 0.0859375 0.949985 0.084375 0.94807 0.084375 0.946155 0.0796875 0.940411 0.0796875 0.938496 0.078125 0.936581 0.078125 0.934666 0.075 0.930836 0.075 0.928922 0.0734375 0.927007 0.0734375 0.925092 0.071875 0.923177 0.071875 0.921262 0.06875 0.917433 0.06875 0.915518 0.0671875 0.913603 0.0671875 0.911688 0.065625 0.909773 0.065625 0.907858 0.0625 0.904029 0.0625 0.902114 0.0609375 0.900199 0.0609375 0.898284 0.059375 0.896369 0.059375 0.894455 0.05625 0.890625 0.05625 0.88871 0.0546875 0.886795 0.0546875 0.884881 0.053125 0.882966 0.053125 0.881051 0.0515625 0.879136 0.0515625 0.877221 0.05 0.875306 0.05 0.873392 0.0484375 0.871477 0.0484375 0.869562 0.046875 0.867647 0.046875 0.865732 0.0453125 0.863817 0.0453125 0.861903 0.0421875 0.858073 0.0421875 0.856158 0.040625 0.854243 0.040625 0.852328 0.0375 0.848499 0.0375 0.846584 0.0359375 0.844669 0.0359375 0.842754 0.0328125 0.838925 0.0328125 0.83701 0.0296875 0.83318 0.0296875 0.831265 0.025 0.825521 0.025 0.823606 0.0203125 0.817861 0.0203125 0.815947 0.0171875 0.812117 0.0171875 0.810202 0.0125 0.804458 0.0125 0.802543 0.0109375 0.800628 0.0109375 0.798713 0.009375 0.796798\\n',\n",
              " '0 0.628125 0.00980392 0.626562 0.0117188 0.625 0.0117188 0.623438 0.0136336 0.623438 0.0155484 0.620313 0.0193781 0.620313 0.0212929 0.61875 0.0232077 0.61875 0.0251225 0.617188 0.0270374 0.617188 0.030867 0.615625 0.0327819 0.615625 0.0346967 0.614062 0.0366115 0.614062 0.0404412 0.6125 0.042356 0.6125 0.053845 0.610937 0.0557598 0.610937 0.120864 0.6125 0.122779 0.6125 0.140012 0.614062 0.141927 0.614062 0.149586 0.615625 0.151501 0.615625 0.155331 0.617188 0.157246 0.617188 0.16299 0.61875 0.164905 0.61875 0.168735 0.620313 0.17065 0.620313 0.174479 0.621875 0.176394 0.621875 0.178309 0.623438 0.180224 0.623438 0.182138 0.625 0.184053 0.625 0.187883 0.626562 0.189798 0.626562 0.191713 0.628125 0.193627 0.628125 0.197457 0.629687 0.199372 0.629687 0.205116 0.620313 0.216605 0.61875 0.216605 0.6125 0.224265 0.610937 0.224265 0.5875 0.252987 0.585938 0.252987 0.56875 0.27405 0.56875 0.275965 0.546875 0.302773 0.546875 0.304688 0.542188 0.310432 0.542188 0.312347 0.5375 0.318091 0.5375 0.321921 0.535937 0.323836 0.535937 0.325751 0.532812 0.32958 0.532812 0.331495 0.53125 0.33341 0.53125 0.339154 0.529688 0.341069 0.529688 0.344899 0.526563 0.348729 0.526563 0.352558 0.525 0.354473 0.525 0.360218 0.523438 0.362132 0.523438 0.365962 0.521875 0.367877 0.521875 0.371706 0.520312 0.373621 0.520312 0.377451 0.51875 0.379366 0.51875 0.390855 0.517187 0.39277 0.517187 0.471278 0.515625 0.473192 0.515625 0.478937 0.514063 0.480852 0.514063 0.484681 0.5125 0.486596 0.5125 0.49617 0.510938 0.498085 0.510938 0.50383 0.509375 0.505744 0.509375 0.507659 0.507812 0.509574 0.507812 0.513404 0.50625 0.515319 0.50625 0.521063 0.504687 0.522978 0.504687 0.528722 0.503125 0.530637 0.503125 0.536382 0.501562 0.538297 0.501562 0.545956 0.5 0.547871 0.5 0.567019 0.501562 0.568934 0.501562 0.572764 0.507812 0.580423 0.509375 0.580423 0.510938 0.582338 0.514063 0.582338 0.515625 0.584252 0.517187 0.584252 0.51875 0.586167 0.520312 0.586167 0.521875 0.588082 0.523438 0.588082 0.526563 0.591912 0.528125 0.591912 0.532812 0.597656 0.534375 0.597656 0.5375 0.601486 0.539062 0.601486 0.540625 0.603401 0.542188 0.603401 0.545313 0.60723 0.546875 0.60723 0.548437 0.609145 0.55 0.609145 0.551562 0.61106 0.553125 0.61106 0.554688 0.612975 0.559375 0.612975 0.560938 0.61489 0.564062 0.61489 0.565625 0.616805 0.567187 0.616805 0.56875 0.618719 0.570312 0.618719 0.571875 0.620634 0.573438 0.620634 0.575 0.622549 0.576563 0.622549 0.578125 0.624464 0.579687 0.624464 0.582812 0.628294 0.592188 0.628294 0.59375 0.626379 0.6 0.626379 0.601562 0.624464 0.604688 0.624464 0.60625 0.622549 0.609375 0.622549 0.610937 0.620634 0.615625 0.620634 0.617188 0.618719 0.621875 0.618719 0.623438 0.616805 0.628125 0.616805 0.629687 0.61489 0.635938 0.61489 0.6375 0.612975 0.642187 0.612975 0.64375 0.61106 0.646875 0.61106 0.648438 0.609145 0.65 0.609145 0.651563 0.60723 0.653125 0.60723 0.657812 0.601486 0.659375 0.601486 0.659375 0.599571 0.675 0.580423 0.676562 0.580423 0.678125 0.578508 0.678125 0.576593 0.68125 0.572764 0.682813 0.572764 0.684375 0.570849 0.684375 0.568934 0.725 0.519148 0.725 0.517233 0.732813 0.507659 0.732813 0.505744 0.735937 0.501915 0.735937 0.5 0.7375 0.498085 0.7375 0.49617 0.740625 0.492341 0.740625 0.490426 0.742188 0.488511 0.742188 0.484681 0.74375 0.482767 0.74375 0.480852 0.745313 0.478937 0.745313 0.475107 0.746875 0.473192 0.746875 0.467448 0.748438 0.465533 0.748438 0.457874 0.75 0.455959 0.75 0.452129 0.751562 0.450214 0.751562 0.44447 0.753125 0.442555 0.753125 0.417662 0.751562 0.415748 0.751562 0.400429 0.75 0.398514 0.75 0.379366 0.748438 0.377451 0.748438 0.352558 0.746875 0.350643 0.746875 0.335325 0.745313 0.33341 0.745313 0.321921 0.74375 0.320006 0.74375 0.275965 0.745313 0.27405 0.745313 0.264476 0.746875 0.262561 0.746875 0.258732 0.748438 0.256817 0.748438 0.254902 0.75 0.252987 0.75 0.251072 0.754687 0.245328 0.754687 0.243413 0.773438 0.220435 0.773438 0.212776 0.764063 0.201287 0.7625 0.201287 0.757812 0.195542 0.75625 0.195542 0.753125 0.191713 0.751562 0.191713 0.748438 0.187883 0.746875 0.187883 0.740625 0.180224 0.740625 0.178309 0.7375 0.174479 0.7375 0.172564 0.735937 0.17065 0.735937 0.168735 0.734375 0.16682 0.734375 0.159161 0.735937 0.157246 0.735937 0.153416 0.7375 0.151501 0.7375 0.149586 0.739062 0.147672 0.739062 0.145757 0.742188 0.141927 0.742188 0.138097 0.74375 0.136183 0.74375 0.134268 0.745313 0.132353 0.745313 0.130438 0.746875 0.128523 0.746875 0.126608 0.748438 0.124694 0.748438 0.120864 0.75 0.118949 0.75 0.115119 0.751562 0.113205 0.751562 0.11129 0.753125 0.109375 0.753125 0.10746 0.754687 0.105545 0.754687 0.097886 0.75625 0.0959712 0.75625 0.0863971 0.757812 0.0844822 0.757812 0.0576746 0.75625 0.0557598 0.75625 0.0481005 0.754687 0.0461857 0.754687 0.0404412 0.753125 0.0385263 0.753125 0.0346967 0.75 0.030867 0.75 0.0270374 0.748438 0.0251225 0.748438 0.0232077 0.746875 0.0212929 0.746875 0.0193781 0.74375 0.0155484 0.74375 0.0136336 0.742188 0.0117188 0.740625 0.0117188 0.739062 0.00980392\\n',\n",
              " '53 0.46875 0.561275 0.467187 0.563189 0.465625 0.563189 0.460938 0.568934 0.460938 0.570849 0.457812 0.574678 0.45625 0.574678 0.45 0.582338 0.448438 0.582338 0.446875 0.584252 0.445312 0.584252 0.440625 0.589997 0.440625 0.591912 0.4375 0.595741 0.4375 0.597656 0.435937 0.599571 0.435937 0.601486 0.432813 0.605316 0.428125 0.605316 0.415625 0.620634 0.414062 0.620634 0.414062 0.622549 0.4125 0.624464 0.4125 0.630208 0.414062 0.632123 0.414062 0.634038 0.415625 0.634038 0.417188 0.635953 0.423438 0.635953 0.425 0.637868 0.429688 0.637868 0.432813 0.641697 0.4375 0.641697 0.439063 0.643612 0.453125 0.643612 0.454688 0.645527 0.457812 0.645527 0.459375 0.647442 0.460938 0.647442 0.4625 0.649357 0.46875 0.649357 0.470313 0.651271 0.484375 0.651271 0.485938 0.653186 0.490625 0.653186 0.492188 0.655101 0.495313 0.655101 0.496875 0.657016 0.504687 0.657016 0.50625 0.658931 0.532812 0.658931 0.534375 0.657016 0.535937 0.657016 0.5375 0.655101 0.5375 0.653186 0.539062 0.651271 0.539062 0.649357 0.542188 0.645527 0.545313 0.645527 0.546875 0.643612 0.548437 0.645527 0.557813 0.645527 0.559375 0.647442 0.5625 0.647442 0.564062 0.649357 0.565625 0.649357 0.567187 0.647442 0.570312 0.647442 0.573438 0.643612 0.575 0.643612 0.576563 0.641697 0.576563 0.637868 0.56875 0.628294 0.56875 0.626379 0.565625 0.622549 0.564062 0.622549 0.5625 0.620634 0.559375 0.620634 0.557813 0.618719 0.554688 0.618719 0.553125 0.616805 0.551562 0.616805 0.55 0.61489 0.548437 0.61489 0.546875 0.612975 0.545313 0.612975 0.542188 0.609145 0.540625 0.609145 0.539062 0.60723 0.5375 0.60723 0.532812 0.601486 0.53125 0.601486 0.525 0.593827 0.523438 0.593827 0.520312 0.589997 0.51875 0.589997 0.514063 0.584252 0.510938 0.584252 0.509375 0.582338 0.507812 0.582338 0.503125 0.576593 0.501562 0.576593 0.5 0.574678 0.498437 0.574678 0.49375 0.568934 0.49375 0.567019 0.490625 0.563189 0.489062 0.563189 0.4875 0.561275\\n',\n",
              " '55 0.464063 0.568934 0.4625 0.570849 0.460938 0.570849 0.457812 0.574678 0.45625 0.574678 0.45 0.582338 0.448438 0.582338 0.446875 0.584252 0.445312 0.584252 0.440625 0.589997 0.440625 0.591912 0.4375 0.595741 0.4375 0.597656 0.435937 0.599571 0.435937 0.601486 0.434375 0.603401 0.432813 0.603401 0.43125 0.605316 0.428125 0.605316 0.415625 0.620634 0.414062 0.620634 0.414062 0.622549 0.4125 0.624464 0.4125 0.630208 0.414062 0.632123 0.414062 0.634038 0.415625 0.635953 0.423438 0.635953 0.425 0.637868 0.428125 0.637868 0.429688 0.639782 0.43125 0.639782 0.432813 0.641697 0.4375 0.641697 0.439063 0.643612 0.451562 0.643612 0.453125 0.645527 0.457812 0.645527 0.459375 0.647442 0.460938 0.647442 0.4625 0.649357 0.46875 0.649357 0.470313 0.651271 0.482812 0.651271 0.484375 0.653186 0.490625 0.653186 0.492188 0.655101 0.495313 0.655101 0.496875 0.657016 0.504687 0.657016 0.50625 0.658931 0.534375 0.658931 0.535937 0.657016 0.5375 0.657016 0.5375 0.655101 0.539062 0.653186 0.539062 0.649357 0.542188 0.645527 0.55625 0.645527 0.557813 0.647442 0.5625 0.647442 0.564062 0.649357 0.565625 0.649357 0.567187 0.647442 0.570312 0.647442 0.573438 0.643612 0.575 0.643612 0.576563 0.641697 0.576563 0.637868 0.56875 0.628294 0.56875 0.626379 0.565625 0.622549 0.564062 0.622549 0.5625 0.620634 0.559375 0.620634 0.557813 0.618719 0.554688 0.618719 0.553125 0.616805 0.551562 0.616805 0.548437 0.612975 0.546875 0.612975 0.545313 0.61106 0.54375 0.61106 0.542188 0.609145 0.540625 0.609145 0.539062 0.60723 0.5375 0.60723 0.534375 0.603401 0.532812 0.603401 0.525 0.593827 0.523438 0.593827 0.521875 0.591912 0.520312 0.591912 0.514063 0.584252 0.510938 0.584252 0.509375 0.582338 0.507812 0.582338 0.503125 0.576593 0.501562 0.576593 0.5 0.574678 0.498437 0.574678 0.495313 0.570849 0.492188 0.570849 0.490625 0.568934\\n',\n",
              " '43 0.615625 0.737439 0.614062 0.739354 0.6125 0.739354 0.6125 0.741268 0.610937 0.743183 0.609375 0.743183 0.607813 0.745098 0.601562 0.745098 0.6 0.747013 0.598437 0.747013 0.598437 0.748928 0.596875 0.750843 0.595312 0.750843 0.59375 0.752757 0.5875 0.752757 0.585938 0.754672 0.584375 0.754672 0.582812 0.756587 0.58125 0.756587 0.578125 0.760417 0.573438 0.760417 0.571875 0.762331 0.570312 0.762331 0.565625 0.768076 0.559375 0.768076 0.557813 0.769991 0.55625 0.769991 0.551562 0.775735 0.545313 0.775735 0.54375 0.77765 0.542188 0.77765 0.539062 0.78148 0.5375 0.78148 0.535937 0.783395 0.528125 0.783395 0.521875 0.791054 0.51875 0.791054 0.517187 0.792969 0.514063 0.792969 0.509375 0.798713 0.503125 0.798713 0.501562 0.800628 0.498437 0.800628 0.496875 0.802543 0.496875 0.808287 0.501562 0.808287 0.503125 0.806373 0.504687 0.806373 0.50625 0.804458 0.514063 0.804458 0.515625 0.802543 0.517187 0.802543 0.520312 0.798713 0.523438 0.798713 0.525 0.796798 0.528125 0.796798 0.53125 0.792969 0.532812 0.792969 0.534375 0.791054 0.535937 0.791054 0.5375 0.789139 0.54375 0.789139 0.545313 0.787224 0.551562 0.787224 0.553125 0.785309 0.55625 0.785309 0.557813 0.783395 0.560938 0.783395 0.5625 0.78148 0.565625 0.78148 0.567187 0.779565 0.567187 0.77765 0.56875 0.775735 0.570312 0.775735 0.571875 0.77382 0.573438 0.77382 0.578125 0.768076 0.579687 0.768076 0.58125 0.766161 0.582812 0.766161 0.584375 0.764246 0.585938 0.764246 0.5875 0.762331 0.589063 0.762331 0.590625 0.760417 0.592188 0.760417 0.59375 0.758502 0.607813 0.758502 0.609375 0.756587 0.610937 0.756587 0.614062 0.752757 0.615625 0.752757 0.617188 0.750843 0.623438 0.750843 0.625 0.748928 0.626562 0.748928 0.629687 0.745098 0.63125 0.745098 0.632812 0.743183 0.634375 0.743183 0.635938 0.741268 0.6375 0.741268 0.6375 0.739354 0.635938 0.739354 0.634375 0.737439\\n']"
            ]
          },
          "metadata": {},
          "execution_count": 133
        }
      ]
    },
    {
      "cell_type": "code",
      "source": [
        "\n",
        "coco_names = [\"person\" , \"bicycle\" , \"car\" , \"motorcycle\" , \"airplane\" , \"bus\" , \"train\" , \"truck\" , \"boat\" , \"traffic light\" , \"fire hydrant\" , \"street sign\" , \"stop sign\" , \"parking meter\" , \"bench\" , \"bird\" , \"cat\" , \"dog\" , \"horse\" , \"sheep\" , \"cow\" , \"elephant\" , \"bear\" , \"zebra\" , \"giraffe\" , \"hat\" , \"backpack\" , \"umbrella\" , \"shoe\" , \"eye glasses\" , \"handbag\" , \"tie\" , \"ball\" ,\n",
        "\"frisbee\" , \"bat\" , \"snowboard\" , \" basketball\" , \"kite\" , \"bat\" ,\n",
        "\"baseball glove\" , \"skateboard\" , \"surfboard\" , \"tennis racket\" , \"bottle\" ,\n",
        "\"plate\" , \"wine glass\" , \"cup\" , \"fork\" , \"big spoon\" , \"spoon\" , \"bowl\" ,\n",
        "\"banana\" , \"apple\" , \"food\" , \"orange\" , \"food\" , \"carrot\" , \"hot dog\" ,\n",
        "\"potted plant\" , \"donut\" , \"cake\" , \"chair\" , \"couch\" , \"pizza\" , \"bed\" ,\n",
        "\"mirror\" , \"dining table\" , \"window\" , \"desk\" , \"toilet\" , \"door\" , \"tv\" ,\n",
        "\"laptop\" , \"mouse\" , \"remote\" , \"keyboard\" , \"cell phone\" , \"microwave\" ,\n",
        "\"oven\" , \"toaster\" , \"sink\" , \"refrigerator\" , \"blender\" , \"book\" ,\n",
        "\"clock\" , \"vase\" , \"scissors\" , \"teddy bear\" , \"hair drier\" , \"toothbrush\" , \"hair brush\"]"
      ],
      "metadata": {
        "id": "m4iVsbdrboeI"
      },
      "execution_count": 144,
      "outputs": []
    },
    {
      "cell_type": "code",
      "source": [
        "for i in range(len(label)):\n",
        "  print(i)"
      ],
      "metadata": {
        "colab": {
          "base_uri": "https://localhost:8080/"
        },
        "id": "1MXkeLXjbobp",
        "outputId": "f6abe655-37b4-42c4-daa4-9dfe9c8103f6"
      },
      "execution_count": 145,
      "outputs": [
        {
          "output_type": "stream",
          "name": "stdout",
          "text": [
            "0\n",
            "1\n",
            "2\n",
            "3\n",
            "4\n",
            "5\n"
          ]
        }
      ]
    },
    {
      "cell_type": "code",
      "source": [
        "!pip install pycocotools"
      ],
      "metadata": {
        "colab": {
          "base_uri": "https://localhost:8080/"
        },
        "id": "UhksJODeboZO",
        "outputId": "03a0ca7d-d887-46b4-e6bd-192b163910aa"
      },
      "execution_count": 146,
      "outputs": [
        {
          "output_type": "stream",
          "name": "stdout",
          "text": [
            "Requirement already satisfied: pycocotools in /usr/local/lib/python3.10/dist-packages (2.0.6)\n",
            "Requirement already satisfied: matplotlib>=2.1.0 in /usr/local/lib/python3.10/dist-packages (from pycocotools) (3.7.1)\n",
            "Requirement already satisfied: numpy in /usr/local/lib/python3.10/dist-packages (from pycocotools) (1.22.4)\n",
            "Requirement already satisfied: contourpy>=1.0.1 in /usr/local/lib/python3.10/dist-packages (from matplotlib>=2.1.0->pycocotools) (1.1.0)\n",
            "Requirement already satisfied: cycler>=0.10 in /usr/local/lib/python3.10/dist-packages (from matplotlib>=2.1.0->pycocotools) (0.11.0)\n",
            "Requirement already satisfied: fonttools>=4.22.0 in /usr/local/lib/python3.10/dist-packages (from matplotlib>=2.1.0->pycocotools) (4.40.0)\n",
            "Requirement already satisfied: kiwisolver>=1.0.1 in /usr/local/lib/python3.10/dist-packages (from matplotlib>=2.1.0->pycocotools) (1.4.4)\n",
            "Requirement already satisfied: packaging>=20.0 in /usr/local/lib/python3.10/dist-packages (from matplotlib>=2.1.0->pycocotools) (23.1)\n",
            "Requirement already satisfied: pillow>=6.2.0 in /usr/local/lib/python3.10/dist-packages (from matplotlib>=2.1.0->pycocotools) (8.4.0)\n",
            "Requirement already satisfied: pyparsing>=2.3.1 in /usr/local/lib/python3.10/dist-packages (from matplotlib>=2.1.0->pycocotools) (3.1.0)\n",
            "Requirement already satisfied: python-dateutil>=2.7 in /usr/local/lib/python3.10/dist-packages (from matplotlib>=2.1.0->pycocotools) (2.8.2)\n",
            "Requirement already satisfied: six>=1.5 in /usr/local/lib/python3.10/dist-packages (from python-dateutil>=2.7->matplotlib>=2.1.0->pycocotools) (1.16.0)\n"
          ]
        }
      ]
    },
    {
      "cell_type": "code",
      "source": [
        "for i in range(len(label)):\n",
        "  print(int(label[i].split()[0]),coco_names[int(label[i].split()[0])])"
      ],
      "metadata": {
        "colab": {
          "base_uri": "https://localhost:8080/"
        },
        "id": "nR2TuQT0b0as",
        "outputId": "23854bc1-7786-412e-f3e5-34290dfe56a4"
      },
      "execution_count": 147,
      "outputs": [
        {
          "output_type": "stream",
          "name": "stdout",
          "text": [
            "0 person\n",
            "0 person\n",
            "0 person\n",
            "53 food\n",
            "55 food\n",
            "43 bottle\n"
          ]
        }
      ]
    },
    {
      "cell_type": "code",
      "source": [
        "label_counts = {}\n",
        "\n",
        "for i in range(len(label)):\n",
        "    label_index = int(label[i].split()[0])\n",
        "    label_name = coco_names[label_index]\n",
        "\n",
        "    if label_name in label_counts:\n",
        "        label_counts[label_name] += 1\n",
        "    else:\n",
        "        label_counts[label_name] = 1\n",
        "\n",
        "for label_name, count in label_counts.items():\n",
        "    print(label_name + '='+str(count))"
      ],
      "metadata": {
        "colab": {
          "base_uri": "https://localhost:8080/"
        },
        "id": "ZAIppI1Xb2Kd",
        "outputId": "cd028005-b9c2-49dc-f52b-23c16ad17b07"
      },
      "execution_count": 143,
      "outputs": [
        {
          "output_type": "stream",
          "name": "stdout",
          "text": [
            "person=3\n",
            "sandwich=1\n",
            "food=1\n",
            "bottle=1\n"
          ]
        }
      ]
    },
    {
      "cell_type": "code",
      "source": [
        "predict5=model.predict(\"/content/images.jpeg\",save=True,save_txt=True)"
      ],
      "metadata": {
        "colab": {
          "base_uri": "https://localhost:8080/"
        },
        "id": "PdbfyxBkehu4",
        "outputId": "ebbe03a9-76ce-4175-9f34-51a8ab740fa7"
      },
      "execution_count": 149,
      "outputs": [
        {
          "output_type": "stream",
          "name": "stderr",
          "text": [
            "\n",
            "image 1/1 /content/images.jpeg: 480x640 3 apples, 1519.6ms\n",
            "Speed: 2.9ms preprocess, 1519.6ms inference, 12.2ms postprocess per image at shape (1, 3, 480, 640)\n",
            "Results saved to \u001b[1mruns/segment/predict\u001b[0m\n",
            "4 labels saved to runs/segment/predict/labels\n"
          ]
        }
      ]
    },
    {
      "cell_type": "code",
      "source": [
        "type(predict5)"
      ],
      "metadata": {
        "id": "M7i92pbngw5Y"
      },
      "execution_count": null,
      "outputs": []
    },
    {
      "cell_type": "code",
      "source": [
        "predict5[0].masks.masks.shape"
      ],
      "metadata": {
        "colab": {
          "base_uri": "https://localhost:8080/"
        },
        "id": "DUpJsuHqgw2B",
        "outputId": "584aec85-7501-458a-e4ef-b315918d5cdb"
      },
      "execution_count": 150,
      "outputs": [
        {
          "output_type": "stream",
          "name": "stderr",
          "text": [
            "WARNING ⚠️ 'Masks.masks' is deprecated. Use 'Masks.data' instead.\n"
          ]
        },
        {
          "output_type": "execute_result",
          "data": {
            "text/plain": [
              "torch.Size([3, 480, 640])"
            ]
          },
          "metadata": {},
          "execution_count": 150
        }
      ]
    },
    {
      "cell_type": "code",
      "source": [
        "predict5[0].masks.masks[0].shape"
      ],
      "metadata": {
        "colab": {
          "base_uri": "https://localhost:8080/"
        },
        "id": "IVPHMgNygwxp",
        "outputId": "21a463cc-cc4a-44a9-bd55-34339691c87b"
      },
      "execution_count": 151,
      "outputs": [
        {
          "output_type": "stream",
          "name": "stderr",
          "text": [
            "WARNING ⚠️ 'Masks.masks' is deprecated. Use 'Masks.data' instead.\n"
          ]
        },
        {
          "output_type": "execute_result",
          "data": {
            "text/plain": [
              "torch.Size([480, 640])"
            ]
          },
          "metadata": {},
          "execution_count": 151
        }
      ]
    },
    {
      "cell_type": "code",
      "source": [
        "cv2_imshow((predict5[0].masks.masks[0].numpy()*255).astype(\"uint8\"))"
      ],
      "metadata": {
        "colab": {
          "base_uri": "https://localhost:8080/",
          "height": 514
        },
        "id": "3ZYZC3c4gwuM",
        "outputId": "103f83f8-61ae-4280-c0be-63bbb89889c3"
      },
      "execution_count": 152,
      "outputs": [
        {
          "output_type": "stream",
          "name": "stderr",
          "text": [
            "WARNING ⚠️ 'Masks.masks' is deprecated. Use 'Masks.data' instead.\n"
          ]
        },
        {
          "output_type": "display_data",
          "data": {
            "text/plain": [
              "<PIL.Image.Image image mode=L size=640x480 at 0x7E507C1E0F10>"
            ],
            "image/png": "[encoded data removed]"
          },
          "metadata": {}
        }
      ]
    },
    {
      "cell_type": "code",
      "source": [
        "cv2_imshow((predict5[0].masks.masks[1].numpy()*255).astype(\"uint8\"))"
      ],
      "metadata": {
        "colab": {
          "base_uri": "https://localhost:8080/",
          "height": 514
        },
        "id": "m-im84JMgwsB",
        "outputId": "41b7db71-f713-4aea-87fa-03976a578452"
      },
      "execution_count": 153,
      "outputs": [
        {
          "output_type": "stream",
          "name": "stderr",
          "text": [
            "WARNING ⚠️ 'Masks.masks' is deprecated. Use 'Masks.data' instead.\n"
          ]
        },
        {
          "output_type": "display_data",
          "data": {
            "text/plain": [
              "<PIL.Image.Image image mode=L size=640x480 at 0x7E507C1E34C0>"
            ],
            "image/png": "[encoded data removed]"
          },
          "metadata": {}
        }
      ]
    },
    {
      "cell_type": "code",
      "source": [
        "cv2_imshow((predict5[0].masks.masks[2].numpy()*255).astype(\"uint8\"))"
      ],
      "metadata": {
        "colab": {
          "base_uri": "https://localhost:8080/",
          "height": 514
        },
        "id": "QSbxW4plgwpd",
        "outputId": "030aae63-933a-4a4a-ed55-2858840d8be8"
      },
      "execution_count": 154,
      "outputs": [
        {
          "output_type": "stream",
          "name": "stderr",
          "text": [
            "WARNING ⚠️ 'Masks.masks' is deprecated. Use 'Masks.data' instead.\n"
          ]
        },
        {
          "output_type": "display_data",
          "data": {
            "text/plain": [
              "<PIL.Image.Image image mode=L size=640x480 at 0x7E507C1E08B0>"
            ],
            "image/png": "[encoded data removed]"
          },
          "metadata": {}
        }
      ]
    },
    {
      "cell_type": "code",
      "source": [
        "predict6=model.predict(\"/content/watermelon.jpg\",save=True,save_txt=True)\n",
        "type(predict6)"
      ],
      "metadata": {
        "colab": {
          "base_uri": "https://localhost:8080/"
        },
        "id": "3IynBdx7hfhB",
        "outputId": "8fd98402-00b5-421d-f0f7-46ae237d1bf5"
      },
      "execution_count": 157,
      "outputs": [
        {
          "output_type": "stream",
          "name": "stderr",
          "text": [
            "\n",
            "image 1/1 /content/watermelon.jpg: 448x640 7 apples, 1421.7ms\n",
            "Speed: 3.9ms preprocess, 1421.7ms inference, 18.5ms postprocess per image at shape (1, 3, 448, 640)\n",
            "Results saved to \u001b[1mruns/segment/predict\u001b[0m\n",
            "5 labels saved to runs/segment/predict/labels\n"
          ]
        },
        {
          "output_type": "execute_result",
          "data": {
            "text/plain": [
              "list"
            ]
          },
          "metadata": {},
          "execution_count": 157
        }
      ]
    },
    {
      "cell_type": "code",
      "source": [
        "predict6[0].masks.masks.shape"
      ],
      "metadata": {
        "colab": {
          "base_uri": "https://localhost:8080/"
        },
        "id": "oPSd-IVLiWof",
        "outputId": "c678626c-582c-41c5-ff63-ecf680cb8041"
      },
      "execution_count": 158,
      "outputs": [
        {
          "output_type": "stream",
          "name": "stderr",
          "text": [
            "WARNING ⚠️ 'Masks.masks' is deprecated. Use 'Masks.data' instead.\n"
          ]
        },
        {
          "output_type": "execute_result",
          "data": {
            "text/plain": [
              "torch.Size([7, 448, 640])"
            ]
          },
          "metadata": {},
          "execution_count": 158
        }
      ]
    },
    {
      "cell_type": "code",
      "source": [
        "predict6[0].masks.masks[0].shape"
      ],
      "metadata": {
        "colab": {
          "base_uri": "https://localhost:8080/"
        },
        "id": "37OZb-pIiWk1",
        "outputId": "d631e24a-3662-4fc1-8a5b-16e3d07aee92"
      },
      "execution_count": 159,
      "outputs": [
        {
          "output_type": "stream",
          "name": "stderr",
          "text": [
            "WARNING ⚠️ 'Masks.masks' is deprecated. Use 'Masks.data' instead.\n"
          ]
        },
        {
          "output_type": "execute_result",
          "data": {
            "text/plain": [
              "torch.Size([448, 640])"
            ]
          },
          "metadata": {},
          "execution_count": 159
        }
      ]
    },
    {
      "cell_type": "code",
      "source": [
        "cv2_imshow((predict6[0].masks.masks[0].numpy()*255).astype(\"uint8\"))"
      ],
      "metadata": {
        "colab": {
          "base_uri": "https://localhost:8080/",
          "height": 482
        },
        "id": "MklXOVtaiWhw",
        "outputId": "788547cc-7c6e-4635-8d90-56c3349407c3"
      },
      "execution_count": 160,
      "outputs": [
        {
          "output_type": "stream",
          "name": "stderr",
          "text": [
            "WARNING ⚠️ 'Masks.masks' is deprecated. Use 'Masks.data' instead.\n"
          ]
        },
        {
          "output_type": "display_data",
          "data": {
            "text/plain": [
              "<PIL.Image.Image image mode=L size=640x448 at 0x7E51B19D9AE0>"
            ],
            "image/png": "[encoded data removed]"
          },
          "metadata": {}
        }
      ]
    },
    {
      "cell_type": "code",
      "source": [
        "cv2_imshow((predict6[0].masks.masks[1].numpy()*255).astype(\"uint8\"))"
      ],
      "metadata": {
        "colab": {
          "base_uri": "https://localhost:8080/",
          "height": 482
        },
        "id": "Y_fputhIiWfH",
        "outputId": "c5a533a2-c56b-4af1-903b-764a325303e0"
      },
      "execution_count": 161,
      "outputs": [
        {
          "output_type": "stream",
          "name": "stderr",
          "text": [
            "WARNING ⚠️ 'Masks.masks' is deprecated. Use 'Masks.data' instead.\n"
          ]
        },
        {
          "output_type": "display_data",
          "data": {
            "text/plain": [
              "<PIL.Image.Image image mode=L size=640x448 at 0x7E51B2724520>"
            ],
            "image/png": "[encoded data removed]"
          },
          "metadata": {}
        }
      ]
    },
    {
      "cell_type": "code",
      "source": [
        "cv2_imshow((predict6[0].masks.masks[2].numpy()*255).astype(\"uint8\"))"
      ],
      "metadata": {
        "colab": {
          "base_uri": "https://localhost:8080/",
          "height": 482
        },
        "id": "a2GkyFQMiWcf",
        "outputId": "f000cdba-fcc0-4a6e-81d1-afa75b43e530"
      },
      "execution_count": 163,
      "outputs": [
        {
          "output_type": "stream",
          "name": "stderr",
          "text": [
            "WARNING ⚠️ 'Masks.masks' is deprecated. Use 'Masks.data' instead.\n"
          ]
        },
        {
          "output_type": "display_data",
          "data": {
            "text/plain": [
              "<PIL.Image.Image image mode=L size=640x448 at 0x7E507C1E3130>"
            ],
            "image/png": "[encoded data removed]"
          },
          "metadata": {}
        }
      ]
    },
    {
      "cell_type": "code",
      "source": [
        "cv2_imshow((predict6[0].masks.masks[3].numpy()*255).astype(\"uint8\"))"
      ],
      "metadata": {
        "colab": {
          "base_uri": "https://localhost:8080/",
          "height": 482
        },
        "id": "7RNERwYGiWZ2",
        "outputId": "5ce90bb9-b7ef-4184-cfe5-5422e0baea07"
      },
      "execution_count": 162,
      "outputs": [
        {
          "output_type": "stream",
          "name": "stderr",
          "text": [
            "WARNING ⚠️ 'Masks.masks' is deprecated. Use 'Masks.data' instead.\n"
          ]
        },
        {
          "output_type": "display_data",
          "data": {
            "text/plain": [
              "<PIL.Image.Image image mode=L size=640x448 at 0x7E507C1E1750>"
            ],
            "image/png": "[encoded data removed]"
          },
          "metadata": {}
        }
      ]
    },
    {
      "cell_type": "code",
      "source": [
        "cv2_imshow((predict6[0].masks.masks[4].numpy()*255).astype(\"uint8\"))"
      ],
      "metadata": {
        "colab": {
          "base_uri": "https://localhost:8080/",
          "height": 482
        },
        "id": "5SsZ00DaiWXS",
        "outputId": "26e41f1e-5ac2-423b-db36-1184ea90b0e1"
      },
      "execution_count": 164,
      "outputs": [
        {
          "output_type": "stream",
          "name": "stderr",
          "text": [
            "WARNING ⚠️ 'Masks.masks' is deprecated. Use 'Masks.data' instead.\n"
          ]
        },
        {
          "output_type": "display_data",
          "data": {
            "text/plain": [
              "<PIL.Image.Image image mode=L size=640x448 at 0x7E507C1E1960>"
            ],
            "image/png": "[encoded data removed]"
          },
          "metadata": {}
        }
      ]
    },
    {
      "cell_type": "code",
      "source": [
        "cv2_imshow((predict6[0].masks.masks[5].numpy()*255).astype(\"uint8\"))"
      ],
      "metadata": {
        "colab": {
          "base_uri": "https://localhost:8080/",
          "height": 482
        },
        "id": "ncIacEsqiWSO",
        "outputId": "cbf0368e-2549-4ba6-c4b4-cc213f6731fe"
      },
      "execution_count": 166,
      "outputs": [
        {
          "output_type": "stream",
          "name": "stderr",
          "text": [
            "WARNING ⚠️ 'Masks.masks' is deprecated. Use 'Masks.data' instead.\n"
          ]
        },
        {
          "output_type": "display_data",
          "data": {
            "text/plain": [
              "<PIL.Image.Image image mode=L size=640x448 at 0x7E509FA86620>"
            ],
            "image/png": "[encoded data removed]"
          },
          "metadata": {}
        }
      ]
    },
    {
      "cell_type": "code",
      "source": [
        "cv2_imshow((predict6[0].masks.masks[6].numpy()*255).astype(\"uint8\"))"
      ],
      "metadata": {
        "colab": {
          "base_uri": "https://localhost:8080/",
          "height": 482
        },
        "id": "lCywXJagiWQU",
        "outputId": "7378cdd8-a881-4a37-8f58-1187bbce7594"
      },
      "execution_count": 167,
      "outputs": [
        {
          "output_type": "stream",
          "name": "stderr",
          "text": [
            "WARNING ⚠️ 'Masks.masks' is deprecated. Use 'Masks.data' instead.\n"
          ]
        },
        {
          "output_type": "display_data",
          "data": {
            "text/plain": [
              "<PIL.Image.Image image mode=L size=640x448 at 0x7E507C1E1FC0>"
            ],
            "image/png": "[encoded data removed]"
          },
          "metadata": {}
        }
      ]
    },
    {
      "cell_type": "code",
      "source": [
        "type(predict6[0].masks.segments)"
      ],
      "metadata": {
        "colab": {
          "base_uri": "https://localhost:8080/"
        },
        "id": "vx3E_9kXiWK9",
        "outputId": "623a803d-1f0b-4840-e028-4e0b648accdd"
      },
      "execution_count": 169,
      "outputs": [
        {
          "output_type": "stream",
          "name": "stderr",
          "text": [
            "WARNING ⚠️ 'Masks.segments' is deprecated. Use 'Masks.xyn' for segments (normalized) and 'Masks.xy' for segments (pixels) instead.\n"
          ]
        },
        {
          "output_type": "execute_result",
          "data": {
            "text/plain": [
              "list"
            ]
          },
          "metadata": {},
          "execution_count": 169
        }
      ]
    },
    {
      "cell_type": "code",
      "source": [
        "len(predict6[0].masks.segments)"
      ],
      "metadata": {
        "colab": {
          "base_uri": "https://localhost:8080/"
        },
        "id": "Me-S2X8HiWIn",
        "outputId": "0d9cd4fa-5a36-45d9-ec16-b5b75a72cda9"
      },
      "execution_count": 170,
      "outputs": [
        {
          "output_type": "execute_result",
          "data": {
            "text/plain": [
              "7"
            ]
          },
          "metadata": {},
          "execution_count": 170
        }
      ]
    },
    {
      "cell_type": "code",
      "source": [
        "predict6[0].masks.segments[0].shape"
      ],
      "metadata": {
        "colab": {
          "base_uri": "https://localhost:8080/"
        },
        "id": "Nx0usEHUjtVY",
        "outputId": "8ecf95f8-234f-474c-ccd3-8c99a5cb19d3"
      },
      "execution_count": 171,
      "outputs": [
        {
          "output_type": "execute_result",
          "data": {
            "text/plain": [
              "(81, 2)"
            ]
          },
          "metadata": {},
          "execution_count": 171
        }
      ]
    },
    {
      "cell_type": "code",
      "source": [
        "H,W,_=cv2.imread(\"/content/watermelon.jpg\").shape"
      ],
      "metadata": {
        "id": "Bi9VqRj3jwf6"
      },
      "execution_count": 172,
      "outputs": []
    },
    {
      "cell_type": "code",
      "source": [
        "X=(predict6[0].masks.segments[0][:,0]*W).astype(\"int\")\n",
        "Y=(predict6[0].masks.segments[0][:,1]*H).astype(\"int\")"
      ],
      "metadata": {
        "id": "mr8fgEVYj4Tj"
      },
      "execution_count": 173,
      "outputs": []
    },
    {
      "cell_type": "code",
      "source": [
        "blk=np.zeros((H,W))\n",
        "blk[Y,X]=255\n",
        "cv2_imshow(blk.astype(\"uint8\"))"
      ],
      "metadata": {
        "colab": {
          "base_uri": "https://localhost:8080/",
          "height": 741
        },
        "id": "Z44XknEAj4QY",
        "outputId": "32b02110-7fe6-4f13-91ed-51136f872196"
      },
      "execution_count": 174,
      "outputs": [
        {
          "output_type": "display_data",
          "data": {
            "text/plain": [
              "<PIL.Image.Image image mode=L size=1500x1000 at 0x7E507C1E3430>"
            ],
            "image/png": "[encoded data removed]"
          },
          "metadata": {}
        }
      ]
    },
    {
      "cell_type": "code",
      "source": [
        "label=open(\"/content/runs/segment/predict/labels/watermelon.txt\",\"r\").readlines()\n",
        "label"
      ],
      "metadata": {
        "colab": {
          "base_uri": "https://localhost:8080/"
        },
        "id": "9KyYpl9vj4NR",
        "outputId": "219bdec6-c161-4cac-99a7-c8bae811e978"
      },
      "execution_count": 175,
      "outputs": [
        {
          "output_type": "execute_result",
          "data": {
            "text/plain": [
              "['47 0.601562 0.003125 0.6 0.00546875 0.6 0.078125 0.601562 0.0804687 0.601562 0.0945312 0.603125 0.096875 0.603125 0.0992187 0.604688 0.101562 0.604688 0.103906 0.60625 0.10625 0.60625 0.113281 0.607813 0.115625 0.607813 0.127344 0.609375 0.129688 0.609375 0.134375 0.610937 0.136719 0.610937 0.14375 0.6125 0.146094 0.6125 0.153125 0.614062 0.155469 0.614062 0.1625 0.615625 0.164844 0.615625 0.167187 0.617188 0.169531 0.617188 0.171875 0.61875 0.174219 0.61875 0.178906 0.620313 0.18125 0.620313 0.183594 0.625 0.190625 0.625 0.192969 0.626562 0.195312 0.628125 0.195312 0.6375 0.209375 0.6375 0.21875 0.639063 0.221094 0.639063 0.232812 0.640625 0.235156 0.640625 0.239844 0.645312 0.246875 0.648438 0.246875 0.65 0.244531 0.653125 0.244531 0.654688 0.242188 0.65625 0.242188 0.660937 0.235156 0.6625 0.235156 0.665625 0.230469 0.667188 0.230469 0.671875 0.223438 0.673437 0.223438 0.682813 0.209375 0.684375 0.209375 0.69375 0.195312 0.695312 0.195312 0.707812 0.176563 0.709375 0.176563 0.721875 0.157813 0.723437 0.157813 0.729688 0.148438 0.73125 0.148438 0.754687 0.113281 0.75625 0.113281 0.767187 0.096875 0.767187 0.0945312 0.773438 0.0851562 0.773438 0.0828125 0.779688 0.0734375 0.779688 0.0710937 0.782812 0.0664062 0.784375 0.0664062 0.785937 0.0640625 0.785937 0.0617187 0.8 0.040625 0.8 0.0382812 0.810938 0.021875 0.810938 0.0195312 0.81875 0.0078125 0.81875 0.00546875 0.817187 0.00546875 0.815625 0.003125\\n',\n",
              " '47 0.390625 0.003125 0.389062 0.00546875 0.3875 0.00546875 0.385938 0.0078125 0.385938 0.0101562 0.382812 0.0148437 0.382812 0.0171875 0.38125 0.0195312 0.38125 0.021875 0.379687 0.0242187 0.379687 0.0265625 0.376563 0.03125 0.376563 0.0335938 0.375 0.0359375 0.375 0.0382812 0.373437 0.040625 0.373437 0.0453125 0.371875 0.0476562 0.371875 0.05 0.370313 0.0523437 0.370313 0.0546875 0.36875 0.0570312 0.36875 0.059375 0.367188 0.0617187 0.367188 0.0640625 0.365625 0.0664062 0.365625 0.06875 0.364062 0.0710937 0.364062 0.0734375 0.3625 0.0757812 0.3625 0.0828125 0.360938 0.0851562 0.360938 0.0875 0.359375 0.0898437 0.359375 0.0921875 0.357812 0.0945312 0.357812 0.096875 0.35625 0.0992187 0.35625 0.103906 0.354688 0.10625 0.354688 0.110937 0.351562 0.115625 0.351562 0.117969 0.35 0.120312 0.35 0.127344 0.348437 0.129688 0.348437 0.132031 0.346875 0.134375 0.346875 0.136719 0.345313 0.139062 0.345313 0.14375 0.34375 0.146094 0.34375 0.150781 0.342187 0.153125 0.342187 0.157813 0.339063 0.1625 0.339063 0.164844 0.3375 0.167187 0.3375 0.174219 0.335938 0.176563 0.335938 0.178906 0.334375 0.18125 0.334375 0.183594 0.332812 0.185937 0.332812 0.190625 0.33125 0.192969 0.33125 0.235156 0.332812 0.2375 0.332812 0.242188 0.335938 0.246875 0.3375 0.246875 0.340625 0.251563 0.342187 0.251563 0.34375 0.253906 0.348437 0.253906 0.35 0.25625 0.357812 0.25625 0.359375 0.258594 0.360938 0.258594 0.364062 0.263281 0.365625 0.263281 0.36875 0.267969 0.373437 0.267969 0.375 0.270312 0.398438 0.270312 0.4 0.272656 0.409375 0.272656 0.410937 0.270312 0.423438 0.270312 0.425 0.267969 0.426562 0.267969 0.43125 0.260938 0.432813 0.260938 0.435937 0.25625 0.4375 0.25625 0.440625 0.251563 0.442187 0.251563 0.446875 0.244531 0.448438 0.244531 0.453125 0.2375 0.454688 0.2375 0.459375 0.230469 0.460938 0.230469 0.464063 0.225781 0.465625 0.225781 0.470313 0.21875 0.471875 0.21875 0.475 0.214062 0.476562 0.214062 0.48125 0.207031 0.482812 0.207031 0.484375 0.204688 0.485938 0.204688 0.489062 0.2 0.490625 0.2 0.49375 0.195312 0.495313 0.195312 0.501562 0.185937 0.503125 0.185937 0.50625 0.18125 0.509375 0.18125 0.510938 0.178906 0.514063 0.178906 0.515625 0.176563 0.521875 0.176563 0.523438 0.178906 0.526563 0.178906 0.53125 0.185937 0.53125 0.188281 0.534375 0.192969 0.534375 0.195312 0.535937 0.197656 0.535937 0.202344 0.5375 0.204688 0.5375 0.214062 0.539062 0.216406 0.539062 0.221094 0.540625 0.223438 0.542188 0.223438 0.54375 0.225781 0.55 0.225781 0.551562 0.223438 0.553125 0.223438 0.554688 0.221094 0.55625 0.221094 0.557813 0.21875 0.559375 0.21875 0.560938 0.216406 0.565625 0.216406 0.567187 0.214062 0.570312 0.214062 0.571875 0.211719 0.575 0.211719 0.576563 0.209375 0.579687 0.209375 0.58125 0.207031 0.585938 0.207031 0.5875 0.204688 0.590625 0.204688 0.592188 0.202344 0.595312 0.202344 0.596875 0.2 0.6 0.2 0.601562 0.197656 0.60625 0.197656 0.607813 0.195312 0.61875 0.195312 0.620313 0.192969 0.620313 0.190625 0.61875 0.188281 0.61875 0.183594 0.617188 0.18125 0.617188 0.178906 0.615625 0.176563 0.615625 0.174219 0.609375 0.164844 0.609375 0.1625 0.598437 0.146094 0.598437 0.14375 0.596875 0.14375 0.59375 0.139062 0.59375 0.136719 0.585938 0.125 0.585938 0.122656 0.576563 0.108594 0.576563 0.10625 0.567187 0.0921875 0.567187 0.0898437 0.560938 0.0804687 0.560938 0.078125 0.559375 0.078125 0.55625 0.0734375 0.55625 0.0710937 0.554688 0.06875 0.554688 0.0664062 0.551562 0.0617187 0.55 0.0617187 0.546875 0.0570312 0.545313 0.0570312 0.54375 0.0546875 0.54375 0.0523437 0.529688 0.03125 0.529688 0.0289062 0.525 0.021875 0.525 0.0195312 0.517187 0.0078125 0.515625 0.0078125 0.514063 0.00546875 0.510938 0.00546875 0.509375 0.003125\\n',\n",
              " '47 0.157813 0.29375 0.15625 0.296094 0.15625 0.535156 0.157813 0.5375 0.157813 0.560938 0.159375 0.563281 0.159375 0.575 0.160938 0.577344 0.160938 0.584375 0.1625 0.586719 0.1625 0.591406 0.164062 0.59375 0.164062 0.596094 0.165625 0.598437 0.165625 0.603125 0.167187 0.605469 0.167187 0.610156 0.16875 0.6125 0.16875 0.614844 0.175 0.624219 0.175 0.628906 0.176563 0.63125 0.176563 0.633594 0.179688 0.638281 0.179688 0.640625 0.18125 0.642969 0.18125 0.645312 0.185937 0.652344 0.185937 0.657031 0.1875 0.659375 0.1875 0.661719 0.19375 0.671094 0.19375 0.673437 0.195312 0.675781 0.196875 0.675781 0.198437 0.678125 0.198437 0.680469 0.2 0.682813 0.201562 0.682813 0.20625 0.689844 0.20625 0.692187 0.2125 0.701563 0.2125 0.703906 0.220313 0.715625 0.220313 0.717969 0.228125 0.729688 0.229687 0.729688 0.23125 0.732031 0.232812 0.732031 0.234375 0.734375 0.242188 0.734375 0.24375 0.732031 0.246875 0.732031 0.25 0.727344 0.251563 0.727344 0.265625 0.70625 0.267188 0.70625 0.275 0.694531 0.276563 0.694531 0.282813 0.685156 0.284375 0.685156 0.296875 0.666406 0.298438 0.666406 0.3 0.664062 0.3 0.661719 0.301562 0.659375 0.303125 0.659375 0.30625 0.654688 0.30625 0.652344 0.309375 0.647656 0.309375 0.645312 0.310937 0.642969 0.310937 0.638281 0.3125 0.635938 0.3125 0.633594 0.314063 0.63125 0.314063 0.628906 0.315625 0.626562 0.315625 0.621875 0.317187 0.619531 0.317187 0.610156 0.31875 0.607813 0.31875 0.603125 0.320312 0.600781 0.320312 0.598437 0.321875 0.596094 0.321875 0.589063 0.323438 0.586719 0.323438 0.575 0.325 0.572656 0.325 0.567969 0.326562 0.565625 0.326562 0.560938 0.328125 0.558594 0.328125 0.553906 0.329688 0.551562 0.329688 0.542188 0.33125 0.539844 0.33125 0.532812 0.332812 0.530469 0.332812 0.523438 0.334375 0.521094 0.334375 0.514063 0.335938 0.511719 0.335938 0.502344 0.3375 0.5 0.3375 0.488281 0.339063 0.485937 0.339063 0.471875 0.340625 0.469531 0.340625 0.464844 0.342187 0.4625 0.342187 0.455469 0.34375 0.453125 0.34375 0.446094 0.346875 0.441406 0.346875 0.436719 0.348437 0.434375 0.348437 0.427344 0.35 0.425 0.35 0.417969 0.351562 0.415625 0.351562 0.410937 0.353125 0.408594 0.353125 0.40625 0.354688 0.403906 0.354688 0.399219 0.35625 0.396875 0.35625 0.394531 0.357812 0.392187 0.357812 0.3875 0.354688 0.382812 0.354688 0.380469 0.353125 0.380469 0.351562 0.378125 0.35 0.378125 0.348437 0.375781 0.346875 0.375781 0.345313 0.373437 0.342187 0.373437 0.340625 0.371094 0.3375 0.371094 0.335938 0.36875 0.329688 0.36875 0.328125 0.366406 0.325 0.366406 0.323438 0.364062 0.321875 0.364062 0.320312 0.361719 0.31875 0.361719 0.317187 0.359375 0.310937 0.359375 0.309375 0.357031 0.30625 0.357031 0.304688 0.354687 0.303125 0.354687 0.301562 0.352344 0.298438 0.352344 0.296875 0.35 0.29375 0.35 0.292188 0.347656 0.289062 0.347656 0.2875 0.345312 0.284375 0.345312 0.282813 0.342969 0.28125 0.342969 0.279687 0.340625 0.275 0.340625 0.273438 0.338281 0.270312 0.338281 0.26875 0.335937 0.267188 0.335937 0.265625 0.333594 0.264062 0.333594 0.2625 0.33125 0.259375 0.33125 0.257812 0.328906 0.254687 0.328906 0.253125 0.326562 0.251563 0.326562 0.25 0.324219 0.245312 0.324219 0.24375 0.321875 0.240625 0.321875 0.2375 0.317187 0.235938 0.317187 0.234375 0.314844 0.232812 0.314844 0.23125 0.3125 0.223438 0.3125 0.221875 0.310156 0.21875 0.310156 0.217187 0.307812 0.215625 0.307812 0.214062 0.305469 0.210938 0.305469 0.209375 0.303125 0.201562 0.303125 0.2 0.300781 0.196875 0.300781 0.19375 0.296094 0.190625 0.296094 0.189063 0.29375\\n',\n",
              " '47 0.378125 0.809375 0.376563 0.811719 0.375 0.811719 0.375 0.814062 0.373437 0.816406 0.373437 0.821094 0.371875 0.823438 0.371875 0.832812 0.370313 0.835156 0.370313 0.884375 0.36875 0.886719 0.36875 0.989844 0.371875 0.994531 0.571875 0.994531 0.573438 0.992188 0.617188 0.992188 0.61875 0.989844 0.620313 0.989844 0.617188 0.985156 0.617188 0.982813 0.615625 0.980469 0.615625 0.978125 0.6125 0.973437 0.6125 0.971094 0.610937 0.96875 0.610937 0.966406 0.604688 0.957031 0.604688 0.954687 0.592188 0.935938 0.592188 0.933594 0.590625 0.933594 0.582812 0.921875 0.58125 0.921875 0.573438 0.910156 0.571875 0.910156 0.554688 0.884375 0.553125 0.884375 0.55 0.879687 0.548437 0.879687 0.539062 0.865625 0.5375 0.865625 0.535937 0.863281 0.535937 0.860937 0.534375 0.858594 0.532812 0.858594 0.529688 0.853906 0.528125 0.853906 0.523438 0.846875 0.521875 0.846875 0.517187 0.839844 0.515625 0.839844 0.514063 0.8375 0.510938 0.8375 0.509375 0.835156 0.507812 0.835156 0.50625 0.832812 0.504687 0.832812 0.503125 0.830469 0.501562 0.830469 0.5 0.828125 0.495313 0.828125 0.49375 0.825781 0.492188 0.825781 0.490625 0.823438 0.489062 0.823438 0.4875 0.821094 0.484375 0.821094 0.482812 0.81875 0.478125 0.81875 0.476562 0.816406 0.473437 0.816406 0.471875 0.814062 0.470313 0.814062 0.46875 0.811719 0.464063 0.811719 0.4625 0.809375\\n',\n",
              " '47 0.515625 0.171875 0.514063 0.174219 0.510938 0.174219 0.50625 0.18125 0.504687 0.18125 0.503125 0.183594 0.501562 0.183594 0.5 0.185937 0.5 0.188281 0.498437 0.190625 0.496875 0.190625 0.490625 0.2 0.489062 0.2 0.4875 0.202344 0.485938 0.202344 0.484375 0.204688 0.482812 0.204688 0.478125 0.211719 0.476562 0.211719 0.471875 0.21875 0.470313 0.21875 0.465625 0.225781 0.464063 0.225781 0.460938 0.230469 0.459375 0.230469 0.454688 0.2375 0.453125 0.2375 0.446875 0.246875 0.445312 0.246875 0.440625 0.253906 0.439063 0.253906 0.4375 0.25625 0.435937 0.25625 0.429688 0.265625 0.428125 0.265625 0.420312 0.277344 0.41875 0.277344 0.41875 0.279687 0.417188 0.282031 0.415625 0.282031 0.407813 0.29375 0.40625 0.29375 0.38125 0.33125 0.38125 0.333594 0.379687 0.335937 0.379687 0.338281 0.375 0.345312 0.375 0.347656 0.373437 0.35 0.373437 0.352344 0.370313 0.357031 0.370313 0.359375 0.36875 0.361719 0.36875 0.364062 0.364062 0.371094 0.364062 0.373437 0.3625 0.375781 0.3625 0.378125 0.360938 0.380469 0.360938 0.382812 0.357812 0.3875 0.357812 0.392187 0.35625 0.394531 0.35625 0.396875 0.354688 0.399219 0.354688 0.401562 0.351562 0.40625 0.351562 0.413281 0.35 0.415625 0.35 0.422656 0.348437 0.425 0.348437 0.429687 0.346875 0.432031 0.346875 0.434375 0.345313 0.436719 0.345313 0.448437 0.34375 0.450781 0.34375 0.485937 0.345313 0.488281 0.345313 0.492969 0.348437 0.497656 0.351562 0.497656 0.353125 0.5 0.359375 0.5 0.360938 0.502344 0.367188 0.502344 0.36875 0.504687 0.370313 0.504687 0.371875 0.507031 0.376563 0.507031 0.378125 0.509375 0.38125 0.509375 0.382812 0.511719 0.384375 0.511719 0.385938 0.514063 0.390625 0.514063 0.392188 0.516406 0.398438 0.516406 0.4 0.51875 0.403125 0.51875 0.404687 0.521094 0.40625 0.521094 0.407813 0.523438 0.414062 0.523438 0.415625 0.525781 0.421875 0.525781 0.423438 0.528125 0.428125 0.528125 0.43125 0.532812 0.434375 0.532812 0.435937 0.535156 0.44375 0.535156 0.445312 0.5375 0.45 0.5375 0.451562 0.539844 0.454688 0.539844 0.45625 0.542188 0.460938 0.542188 0.4625 0.544531 0.46875 0.544531 0.470313 0.546875 0.473437 0.546875 0.475 0.549219 0.479688 0.549219 0.48125 0.551562 0.485938 0.551562 0.4875 0.553906 0.49375 0.553906 0.495313 0.55625 0.498437 0.55625 0.5 0.558594 0.501562 0.558594 0.503125 0.560938 0.50625 0.560938 0.507812 0.563281 0.5125 0.563281 0.514063 0.565625 0.51875 0.565625 0.520312 0.567969 0.526563 0.567969 0.528125 0.570312 0.532812 0.570312 0.534375 0.572656 0.548437 0.572656 0.55 0.575 0.554688 0.575 0.55625 0.577344 0.559375 0.577344 0.560938 0.579687 0.565625 0.579687 0.567187 0.582031 0.571875 0.582031 0.573438 0.584375 0.576563 0.584375 0.578125 0.586719 0.579687 0.586719 0.58125 0.589063 0.589063 0.589063 0.590625 0.586719 0.590625 0.560938 0.589063 0.558594 0.589063 0.553906 0.5875 0.551562 0.5875 0.544531 0.585938 0.542188 0.585938 0.528125 0.584375 0.525781 0.584375 0.51875 0.582812 0.516406 0.582812 0.514063 0.58125 0.511719 0.58125 0.509375 0.579687 0.507031 0.579687 0.497656 0.578125 0.495312 0.578125 0.485937 0.576563 0.483594 0.576563 0.476562 0.575 0.474219 0.575 0.469531 0.573438 0.467187 0.573438 0.453125 0.571875 0.450781 0.571875 0.434375 0.570312 0.432031 0.570312 0.420312 0.56875 0.417969 0.56875 0.410937 0.567187 0.408594 0.567187 0.396875 0.565625 0.394531 0.565625 0.3875 0.564062 0.385156 0.564062 0.380469 0.5625 0.378125 0.5625 0.364062 0.560938 0.361719 0.560938 0.347656 0.559375 0.345312 0.559375 0.338281 0.557813 0.335937 0.557813 0.33125 0.55625 0.328906 0.55625 0.321875 0.554688 0.319531 0.554688 0.305469 0.553125 0.303125 0.553125 0.296094 0.551562 0.29375 0.551562 0.289062 0.55 0.286719 0.55 0.282031 0.548437 0.279687 0.548437 0.263281 0.546875 0.260938 0.546875 0.251563 0.545313 0.249219 0.545313 0.246875 0.54375 0.244531 0.54375 0.2375 0.542188 0.235156 0.542188 0.225781 0.540625 0.223438 0.540625 0.221094 0.539062 0.21875 0.539062 0.216406 0.5375 0.214062 0.5375 0.209375 0.535937 0.207031 0.535937 0.192969 0.534375 0.190625 0.534375 0.185937 0.529688 0.178906 0.529688 0.176563 0.528125 0.174219 0.523438 0.174219 0.521875 0.171875\\n',\n",
              " '47 0.801562 0.18125 0.8 0.183594 0.8 0.244531 0.801562 0.246875 0.801562 0.263281 0.803125 0.265625 0.803125 0.275 0.804688 0.277344 0.804688 0.286719 0.80625 0.289062 0.80625 0.298438 0.807813 0.300781 0.807813 0.307812 0.809375 0.310156 0.809375 0.319531 0.810938 0.321875 0.810938 0.333594 0.8125 0.335937 0.8125 0.347656 0.814062 0.35 0.814062 0.359375 0.815625 0.361719 0.815625 0.36875 0.817187 0.371094 0.817187 0.378125 0.81875 0.380469 0.81875 0.389844 0.820312 0.392187 0.820312 0.396875 0.821875 0.399219 0.821875 0.403906 0.823438 0.40625 0.823438 0.410937 0.825 0.413281 0.825 0.417969 0.826563 0.420312 0.826563 0.425 0.828125 0.427344 0.828125 0.432031 0.829687 0.434375 0.829687 0.441406 0.83125 0.44375 0.83125 0.450781 0.832812 0.453125 0.832812 0.460156 0.834375 0.4625 0.834375 0.467187 0.835938 0.469531 0.835938 0.471875 0.8375 0.474219 0.8375 0.478906 0.839063 0.48125 0.839063 0.490625 0.840625 0.492969 0.840625 0.502344 0.842188 0.504687 0.842188 0.507031 0.84375 0.509375 0.84375 0.511719 0.845312 0.514063 0.845312 0.516406 0.848437 0.521094 0.848437 0.523438 0.85 0.523438 0.851562 0.525781 0.857813 0.525781 0.859375 0.523438 0.860937 0.523438 0.865625 0.516406 0.867188 0.516406 0.86875 0.514063 0.870313 0.514063 0.875 0.507031 0.876562 0.507031 0.879687 0.502344 0.88125 0.502344 0.884375 0.497656 0.885938 0.497656 0.890625 0.490625 0.892187 0.490625 0.895312 0.485937 0.896875 0.485937 0.901563 0.478906 0.903125 0.478906 0.904688 0.476562 0.90625 0.476562 0.910937 0.469531 0.9125 0.469531 0.915625 0.464844 0.917188 0.464844 0.91875 0.4625 0.920313 0.4625 0.923437 0.457812 0.925 0.457812 0.928125 0.453125 0.929688 0.453125 0.932813 0.448437 0.934375 0.448437 0.9375 0.44375 0.939062 0.44375 0.940625 0.441406 0.942187 0.441406 0.946875 0.434375 0.948438 0.434375 0.954687 0.425 0.95625 0.425 0.9625 0.415625 0.964063 0.415625 0.971875 0.403906 0.973437 0.403906 0.978125 0.396875 0.979688 0.396875 0.9875 0.385156 0.989062 0.385156 0.990625 0.382812 0.992188 0.382812 0.995313 0.378125 0.998438 0.378125 0.998438 0.366406 0.995313 0.366406 0.99375 0.364062 0.99375 0.361719 0.992188 0.361719 0.984375 0.35 0.982813 0.35 0.98125 0.347656 0.979688 0.347656 0.975 0.340625 0.973437 0.340625 0.970312 0.335937 0.96875 0.335937 0.960938 0.324219 0.959375 0.324219 0.954687 0.317187 0.953125 0.317187 0.948438 0.310156 0.946875 0.310156 0.940625 0.300781 0.939062 0.300781 0.934375 0.29375 0.932813 0.29375 0.926562 0.284375 0.925 0.284375 0.920313 0.277344 0.91875 0.277344 0.917188 0.275 0.915625 0.275 0.910937 0.267969 0.909375 0.267969 0.907812 0.265625 0.90625 0.265625 0.901563 0.258594 0.9 0.258594 0.898438 0.25625 0.895312 0.25625 0.89375 0.253906 0.892187 0.253906 0.889063 0.249219 0.8875 0.249219 0.885938 0.246875 0.884375 0.246875 0.882812 0.244531 0.88125 0.244531 0.879687 0.242188 0.879687 0.239844 0.878125 0.239844 0.871875 0.230469 0.870313 0.230469 0.86875 0.228125 0.867188 0.228125 0.865625 0.225781 0.864062 0.225781 0.859375 0.21875 0.85625 0.21875 0.854688 0.216406 0.853125 0.216406 0.85 0.211719 0.848437 0.211719 0.846875 0.209375 0.84375 0.209375 0.842188 0.207031 0.839063 0.207031 0.8375 0.204688 0.8375 0.202344 0.834375 0.197656 0.832812 0.197656 0.829687 0.192969 0.826563 0.192969 0.825 0.190625 0.821875 0.190625 0.820312 0.188281 0.81875 0.188281 0.815625 0.183594 0.8125 0.183594 0.810938 0.18125\\n',\n",
              " '47 0.289062 0.21875 0.284375 0.225781 0.282813 0.225781 0.28125 0.228125 0.28125 0.230469 0.279687 0.232812 0.279687 0.235156 0.278125 0.2375 0.276563 0.2375 0.275 0.239844 0.275 0.246875 0.273438 0.249219 0.273438 0.260938 0.271875 0.263281 0.271875 0.267969 0.270312 0.270312 0.270312 0.275 0.26875 0.277344 0.26875 0.317187 0.270312 0.319531 0.270312 0.324219 0.273438 0.328906 0.273438 0.33125 0.275 0.333594 0.275 0.335937 0.276563 0.335937 0.279687 0.340625 0.28125 0.340625 0.284375 0.345312 0.2875 0.345312 0.289062 0.347656 0.29375 0.347656 0.295312 0.35 0.296875 0.35 0.298438 0.352344 0.3 0.352344 0.301562 0.354687 0.303125 0.354687 0.304688 0.357031 0.3125 0.357031 0.314063 0.359375 0.317187 0.359375 0.31875 0.361719 0.320312 0.361719 0.321875 0.364062 0.328125 0.364062 0.329688 0.366406 0.335938 0.366406 0.3375 0.364062 0.342187 0.364062 0.34375 0.361719 0.345313 0.361719 0.346875 0.359375 0.348437 0.359375 0.35 0.357031 0.353125 0.357031 0.354688 0.354687 0.354688 0.352344 0.357812 0.347656 0.357812 0.33125 0.35625 0.328906 0.35625 0.324219 0.354688 0.321875 0.354688 0.317187 0.353125 0.314844 0.353125 0.3125 0.348437 0.305469 0.348437 0.300781 0.346875 0.298438 0.346875 0.296094 0.34375 0.291406 0.34375 0.289062 0.342187 0.286719 0.342187 0.282031 0.340625 0.279687 0.340625 0.277344 0.3375 0.272656 0.3375 0.270312 0.335938 0.267969 0.335938 0.265625 0.334375 0.263281 0.334375 0.260938 0.33125 0.25625 0.33125 0.253906 0.329688 0.251563 0.329688 0.249219 0.325 0.242188 0.325 0.239844 0.317187 0.228125 0.317187 0.225781 0.315625 0.225781 0.3125 0.221094 0.310937 0.221094 0.309375 0.21875\\n']"
            ]
          },
          "metadata": {},
          "execution_count": 175
        }
      ]
    },
    {
      "cell_type": "code",
      "source": [
        "coco_names = [\"person\" , \"bicycle\" , \"car\" , \"motorcycle\" , \"airplane\" , \"bus\" , \"train\" , \"truck\" , \"boat\" , \"traffic light\" , \"fire hydrant\" , \"street sign\" , \"stop sign\" , \"parking meter\" , \"bench\" , \"bird\" , \"cat\" , \"dog\" , \"horse\" , \"sheep\" , \"cow\" , \"elephant\" , \"bear\" , \"zebra\" , \"giraffe\" , \"hat\" , \"backpack\" , \"umbrella\" , \"shoe\" , \"eye glasses\" , \"handbag\" , \"tie\" , \"ball\" ,\n",
        "\"frisbee\" , \"bat\" , \"snowboard\" , \" basketball\" , \"kite\" , \"bat\" ,\n",
        "\"baseball glove\" , \"skateboard\" , \"surfboard\" , \"tennis racket\" , \"bottle\" ,\n",
        "\"plate\" , \"wine glass\" , \"cup\" , \"fork\" , \"knife\" , \"spoon\" , \"bowl\" ,\n",
        "\"banana\" , \"apple\" , \"sandwich\" , \"orange\" , \"broccoli\" , \"carrot\" , \"hot dog\" ,\n",
        "\"potted plant\" , \"donut\" , \"cake\" , \"chair\" , \"couch\" , \"pizza\" , \"bed\" ,\n",
        "\"mirror\" , \"dining table\" , \"window\" , \"desk\" , \"toilet\" , \"door\" , \"tv\" ,\n",
        "\"laptop\" , \"mouse\" , \"remote\" , \"keyboard\" , \"cell phone\" , \"microwave\" ,\n",
        "\"oven\" , \"toaster\" , \"sink\" , \"refrigerator\" , \"blender\" , \"book\" ,\n",
        "\"clock\" , \"vase\" , \"scissors\" , \"teddy bear\" , \"hair drier\" , \"toothbrush\" , \"hair brush\"]\n"
      ],
      "metadata": {
        "id": "C7LraeTpj4LT"
      },
      "execution_count": 176,
      "outputs": []
    },
    {
      "cell_type": "code",
      "source": [
        "for i in range(len(label)):\n",
        "  print(i)"
      ],
      "metadata": {
        "colab": {
          "base_uri": "https://localhost:8080/"
        },
        "id": "RrHgdaUOkJZT",
        "outputId": "c91cc1bd-54ee-4cea-9103-1f7e709ec95a"
      },
      "execution_count": 177,
      "outputs": [
        {
          "output_type": "stream",
          "name": "stdout",
          "text": [
            "0\n",
            "1\n",
            "2\n",
            "3\n",
            "4\n",
            "5\n",
            "6\n"
          ]
        }
      ]
    },
    {
      "cell_type": "code",
      "source": [
        "!pip install pycocotools"
      ],
      "metadata": {
        "colab": {
          "base_uri": "https://localhost:8080/"
        },
        "id": "HEId2ee9kJWD",
        "outputId": "b8ee22a1-42d5-4a94-b014-63f882af81e7"
      },
      "execution_count": 178,
      "outputs": [
        {
          "output_type": "stream",
          "name": "stdout",
          "text": [
            "Requirement already satisfied: pycocotools in /usr/local/lib/python3.10/dist-packages (2.0.6)\n",
            "Requirement already satisfied: matplotlib>=2.1.0 in /usr/local/lib/python3.10/dist-packages (from pycocotools) (3.7.1)\n",
            "Requirement already satisfied: numpy in /usr/local/lib/python3.10/dist-packages (from pycocotools) (1.22.4)\n",
            "Requirement already satisfied: contourpy>=1.0.1 in /usr/local/lib/python3.10/dist-packages (from matplotlib>=2.1.0->pycocotools) (1.1.0)\n",
            "Requirement already satisfied: cycler>=0.10 in /usr/local/lib/python3.10/dist-packages (from matplotlib>=2.1.0->pycocotools) (0.11.0)\n",
            "Requirement already satisfied: fonttools>=4.22.0 in /usr/local/lib/python3.10/dist-packages (from matplotlib>=2.1.0->pycocotools) (4.40.0)\n",
            "Requirement already satisfied: kiwisolver>=1.0.1 in /usr/local/lib/python3.10/dist-packages (from matplotlib>=2.1.0->pycocotools) (1.4.4)\n",
            "Requirement already satisfied: packaging>=20.0 in /usr/local/lib/python3.10/dist-packages (from matplotlib>=2.1.0->pycocotools) (23.1)\n",
            "Requirement already satisfied: pillow>=6.2.0 in /usr/local/lib/python3.10/dist-packages (from matplotlib>=2.1.0->pycocotools) (8.4.0)\n",
            "Requirement already satisfied: pyparsing>=2.3.1 in /usr/local/lib/python3.10/dist-packages (from matplotlib>=2.1.0->pycocotools) (3.1.0)\n",
            "Requirement already satisfied: python-dateutil>=2.7 in /usr/local/lib/python3.10/dist-packages (from matplotlib>=2.1.0->pycocotools) (2.8.2)\n",
            "Requirement already satisfied: six>=1.5 in /usr/local/lib/python3.10/dist-packages (from python-dateutil>=2.7->matplotlib>=2.1.0->pycocotools) (1.16.0)\n"
          ]
        }
      ]
    },
    {
      "cell_type": "code",
      "source": [
        "for i in range(len(label)):\n",
        "  print(int(label[i].split()[0]),coco_names[int(label[i].split()[0])])"
      ],
      "metadata": {
        "colab": {
          "base_uri": "https://localhost:8080/"
        },
        "id": "FS3OAGqekJSr",
        "outputId": "3d9f73a5-df85-418f-bf83-8bed3ff67f10"
      },
      "execution_count": 182,
      "outputs": [
        {
          "output_type": "stream",
          "name": "stdout",
          "text": [
            "47 fork\n",
            "47 fork\n",
            "47 fork\n",
            "47 fork\n",
            "47 fork\n",
            "47 fork\n",
            "47 fork\n"
          ]
        }
      ]
    },
    {
      "cell_type": "code",
      "source": [
        "label_counts = {}\n",
        "\n",
        "for i in range(len(label)):\n",
        "    label_index = int(label[i].split()[0])\n",
        "    label_name = coco_names[label_index]\n",
        "\n",
        "    if label_name in label_counts:\n",
        "        label_counts[label_name] += 1\n",
        "    else:\n",
        "        label_counts[label_name] = 1\n",
        "\n",
        "for label_name, count in label_counts.items():\n",
        "    print(label_name + '='+str(count))"
      ],
      "metadata": {
        "colab": {
          "base_uri": "https://localhost:8080/"
        },
        "id": "vK1qxXFVkJP1",
        "outputId": "41e8a165-641d-4d5a-f0db-efb1bf07c399"
      },
      "execution_count": 184,
      "outputs": [
        {
          "output_type": "stream",
          "name": "stdout",
          "text": [
            "fork=7\n"
          ]
        }
      ]
    },
    {
      "cell_type": "code",
      "source": [
        "predict7=model.predict(\"/content/1.jpeg\",save=True,save_txt=True)\n",
        "type(predict7)"
      ],
      "metadata": {
        "colab": {
          "base_uri": "https://localhost:8080/"
        },
        "id": "OwGVm4BmkUte",
        "outputId": "bc764489-0a88-4390-ee50-15a91ecf450d"
      },
      "execution_count": 185,
      "outputs": [
        {
          "output_type": "stream",
          "name": "stderr",
          "text": [
            "\n",
            "image 1/1 /content/1.jpeg: 480x640 1 cat, 1 dog, 1532.7ms\n",
            "Speed: 18.1ms preprocess, 1532.7ms inference, 8.3ms postprocess per image at shape (1, 3, 480, 640)\n",
            "Results saved to \u001b[1mruns/segment/predict\u001b[0m\n",
            "6 labels saved to runs/segment/predict/labels\n"
          ]
        },
        {
          "output_type": "execute_result",
          "data": {
            "text/plain": [
              "list"
            ]
          },
          "metadata": {},
          "execution_count": 185
        }
      ]
    },
    {
      "cell_type": "code",
      "source": [
        "predict7[0].masks.masks.shape"
      ],
      "metadata": {
        "colab": {
          "base_uri": "https://localhost:8080/"
        },
        "id": "pNSfnQfmkUp_",
        "outputId": "06e18efe-956d-452d-cb46-c60f21e815b7"
      },
      "execution_count": 187,
      "outputs": [
        {
          "output_type": "stream",
          "name": "stderr",
          "text": [
            "WARNING ⚠️ 'Masks.masks' is deprecated. Use 'Masks.data' instead.\n"
          ]
        },
        {
          "output_type": "execute_result",
          "data": {
            "text/plain": [
              "torch.Size([2, 480, 640])"
            ]
          },
          "metadata": {},
          "execution_count": 187
        }
      ]
    },
    {
      "cell_type": "code",
      "source": [
        "predict7[0].masks.masks[0].shape"
      ],
      "metadata": {
        "id": "O3PifRzqmg1Z",
        "outputId": "715b51bc-1e1f-4a9c-c072-cc585262b515",
        "colab": {
          "base_uri": "https://localhost:8080/"
        }
      },
      "execution_count": 188,
      "outputs": [
        {
          "output_type": "stream",
          "name": "stderr",
          "text": [
            "WARNING ⚠️ 'Masks.masks' is deprecated. Use 'Masks.data' instead.\n"
          ]
        },
        {
          "output_type": "execute_result",
          "data": {
            "text/plain": [
              "torch.Size([480, 640])"
            ]
          },
          "metadata": {},
          "execution_count": 188
        }
      ]
    },
    {
      "cell_type": "code",
      "source": [
        "cv2_imshow((predict7[0].masks.masks[0].numpy()*255).astype(\"uint8\"))"
      ],
      "metadata": {
        "id": "rWDHV6cEmj2x",
        "outputId": "d6bc094c-8cc5-496d-edb9-bb81383249a5",
        "colab": {
          "base_uri": "https://localhost:8080/",
          "height": 514
        }
      },
      "execution_count": 189,
      "outputs": [
        {
          "output_type": "stream",
          "name": "stderr",
          "text": [
            "WARNING ⚠️ 'Masks.masks' is deprecated. Use 'Masks.data' instead.\n"
          ]
        },
        {
          "output_type": "display_data",
          "data": {
            "text/plain": [
              "<PIL.Image.Image image mode=L size=640x480 at 0x7E50DA379510>"
            ],
            "image/png": "[encoded data removed]"
          },
          "metadata": {}
        }
      ]
    },
    {
      "cell_type": "code",
      "source": [
        "cv2_imshow((predict7[0].masks.masks[1].numpy()*255).astype(\"uint8\"))"
      ],
      "metadata": {
        "id": "5ym_suzFmoRl",
        "outputId": "b95e273f-00dc-47ea-f1ac-3a02794173dd",
        "colab": {
          "base_uri": "https://localhost:8080/",
          "height": 514
        }
      },
      "execution_count": 190,
      "outputs": [
        {
          "output_type": "stream",
          "name": "stderr",
          "text": [
            "WARNING ⚠️ 'Masks.masks' is deprecated. Use 'Masks.data' instead.\n"
          ]
        },
        {
          "output_type": "display_data",
          "data": {
            "text/plain": [
              "<PIL.Image.Image image mode=L size=640x480 at 0x7E50DA378760>"
            ],
            "image/png": "[encoded data removed]"
          },
          "metadata": {}
        }
      ]
    },
    {
      "cell_type": "code",
      "source": [
        "type(predict7[0].masks.segments)"
      ],
      "metadata": {
        "id": "M10F2HkYms_0",
        "outputId": "16e2ec6b-7891-4f39-addb-9ce7f3bed418",
        "colab": {
          "base_uri": "https://localhost:8080/"
        }
      },
      "execution_count": 191,
      "outputs": [
        {
          "output_type": "stream",
          "name": "stderr",
          "text": [
            "WARNING ⚠️ 'Masks.segments' is deprecated. Use 'Masks.xyn' for segments (normalized) and 'Masks.xy' for segments (pixels) instead.\n"
          ]
        },
        {
          "output_type": "execute_result",
          "data": {
            "text/plain": [
              "list"
            ]
          },
          "metadata": {},
          "execution_count": 191
        }
      ]
    },
    {
      "cell_type": "code",
      "source": [
        "len(predict7[0].masks.segments)\n",
        "predict2[0].masks.segments[0].shape"
      ],
      "metadata": {
        "id": "NRTF37YYms8R",
        "outputId": "5478613a-1156-4389-ebbf-d514d9fca505",
        "colab": {
          "base_uri": "https://localhost:8080/"
        }
      },
      "execution_count": 192,
      "outputs": [
        {
          "output_type": "stream",
          "name": "stderr",
          "text": [
            "WARNING ⚠️ 'Masks.segments' is deprecated. Use 'Masks.xyn' for segments (normalized) and 'Masks.xy' for segments (pixels) instead.\n"
          ]
        },
        {
          "output_type": "execute_result",
          "data": {
            "text/plain": [
              "(72, 2)"
            ]
          },
          "metadata": {},
          "execution_count": 192
        }
      ]
    },
    {
      "cell_type": "code",
      "source": [
        "H,W,_=cv2.imread(\"/content/1.jpeg\").shape"
      ],
      "metadata": {
        "id": "WeDJjHndms5p"
      },
      "execution_count": 193,
      "outputs": []
    },
    {
      "cell_type": "code",
      "source": [
        "X=(predict7[0].masks.segments[0][:,0]*W).astype(\"int\")\n",
        "Y=(predict7[0].masks.segments[0][:,1]*H).astype(\"int\")"
      ],
      "metadata": {
        "id": "TGY6lyPrms3D",
        "outputId": "9c84f616-c008-4766-e118-265f9ea96e91",
        "colab": {
          "base_uri": "https://localhost:8080/"
        }
      },
      "execution_count": 194,
      "outputs": [
        {
          "output_type": "stream",
          "name": "stderr",
          "text": [
            "WARNING ⚠️ 'Masks.segments' is deprecated. Use 'Masks.xyn' for segments (normalized) and 'Masks.xy' for segments (pixels) instead.\n"
          ]
        }
      ]
    },
    {
      "cell_type": "code",
      "source": [
        "blk=np.zeros((H,W))\n",
        "blk[Y,X]=255\n",
        "cv2_imshow(blk.astype(\"uint8\"))"
      ],
      "metadata": {
        "id": "qGGdUyjMms0k"
      },
      "execution_count": null,
      "outputs": []
    },
    {
      "cell_type": "code",
      "source": [
        "label=open(\"/content/runs/segment/predict/labels/12830823_87d2654e31.txt\",\"r\").readlines()\n",
        "label"
      ],
      "metadata": {
        "id": "1_rHR85mmssV"
      },
      "execution_count": null,
      "outputs": []
    },
    {
      "cell_type": "code",
      "source": [
        "coco_names = [\"person\" , \"bicycle\" , \"car\" , \"motorcycle\" , \"airplane\" , \"bus\" , \"train\" , \"truck\" , \"boat\" , \"traffic light\" , \"fire hydrant\" , \"street sign\" , \"stop sign\" , \"parking meter\" , \"bench\" , \"bird\" , \"cat\" , \"dog\" , \"horse\" , \"sheep\" , \"cow\" , \"elephant\" , \"bear\" , \"zebra\" , \"giraffe\" , \"hat\" , \"backpack\" , \"umbrella\" , \"shoe\" , \"eye glasses\" , \"handbag\" , \"tie\" , \"ball\" ,\n",
        "\"frisbee\" , \"bat\" , \"snowboard\" , \" basketball\" , \"kite\" , \"bat\" ,\n",
        "\"baseball glove\" , \"skateboard\" , \"surfboard\" , \"tennis racket\" , \"bottle\" ,\n",
        "\"plate\" , \"wine glass\" , \"cup\" , \"fork\" , \"knife\" , \"spoon\" , \"bowl\" ,\n",
        "\"banana\" , \"apple\" , \"sandwich\" , \"orange\" , \"broccoli\" , \"carrot\" , \"hot dog\" ,\n",
        "\"potted plant\" , \"donut\" , \"cake\" , \"chair\" , \"couch\" , \"pizza\" , \"bed\" ,\n",
        "\"mirror\" , \"dining table\" , \"window\" , \"desk\" , \"toilet\" , \"door\" , \"tv\" ,\n",
        "\"laptop\" , \"mouse\" , \"remote\" , \"keyboard\" , \"cell phone\" , \"microwave\" ,\n",
        "\"oven\" , \"toaster\" , \"sink\" , \"refrigerator\" , \"blender\" , \"book\" ,\n",
        "\"clock\" , \"vase\" , \"scissors\" , \"teddy bear\" , \"hair drier\" , \"toothbrush\" , \"hair brush\"]\n"
      ],
      "metadata": {
        "id": "NlXPt4Com1Bg"
      },
      "execution_count": null,
      "outputs": []
    },
    {
      "cell_type": "code",
      "source": [
        "for i in range(len(label)):\n",
        "  print(i)"
      ],
      "metadata": {
        "id": "9Se-1yzem04y"
      },
      "execution_count": null,
      "outputs": []
    },
    {
      "cell_type": "code",
      "source": [
        "!pip install pycocotools"
      ],
      "metadata": {
        "id": "PpKlyvlym0zQ"
      },
      "execution_count": null,
      "outputs": []
    },
    {
      "cell_type": "code",
      "source": [
        "for i in range(len(label)):\n",
        "  print(int(label[i].split()[0]),coco_names[int(label[i].split()[0])])"
      ],
      "metadata": {
        "id": "FioUUKGMm7_E"
      },
      "execution_count": null,
      "outputs": []
    },
    {
      "cell_type": "code",
      "source": [
        "label_counts = {}\n",
        "\n",
        "for i in range(len(label)):\n",
        "    label_index = int(label[i].split()[0])\n",
        "    label_name = coco_names[label_index]\n",
        "\n",
        "    if label_name in label_counts:\n",
        "        label_counts[label_name] += 1\n",
        "    else:\n",
        "        label_counts[label_name] = 1\n",
        "\n",
        "for label_name, count in label_counts.items():\n",
        "    print(label_name + '='+str(count))"
      ],
      "metadata": {
        "id": "q4Rspoj_m77o"
      },
      "execution_count": null,
      "outputs": []
    },
    {
      "cell_type": "code",
      "source": [],
      "metadata": {
        "id": "uE-ihgxum75W"
      },
      "execution_count": null,
      "outputs": []
    },
    {
      "cell_type": "code",
      "source": [],
      "metadata": {
        "id": "878IlDwvm725"
      },
      "execution_count": null,
      "outputs": []
    }
  ]
}